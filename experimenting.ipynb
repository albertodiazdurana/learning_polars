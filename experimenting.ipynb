{
 "cells": [
  {
   "cell_type": "code",
   "execution_count": 220,
   "metadata": {},
   "outputs": [
    {
     "name": "stdout",
     "output_type": "stream",
     "text": [
      "{'value': 'Siemens', 'isMatch': True}\n",
      "{'value': 'Siemens', 'isMatch': True}\n",
      "{'value': 'Bosch', 'isMatch': False}\n",
      "{'value': 'BMW', 'isMatch': False}\n",
      "{'value': 'Daimler', 'isMatch': False}\n",
      "{'value': 'VW', 'isMatch': False}\n",
      "{'value': 'Bayer', 'isMatch': False}\n",
      "{'value': 'Porsche', 'isMatch': False}\n",
      "{'value': 'Lichtblick', 'isMatch': False}\n",
      "{'value': 'Naturstrom', 'isMatch': False}\n"
     ]
    }
   ],
   "source": [
    "data = {\n",
    "    \"values\": [\n",
    "        {\"value\": \"Siemens\", \"isMatch\": True},\n",
    "        {\"value\": \"Bosch\", \"isMatch\": False},\n",
    "        {\"value\": \"BMW\", \"isMatch\": False},\n",
    "        {\"value\": \"Daimler\", \"isMatch\": False},\n",
    "        {\"value\": \"VW\", \"isMatch\": False},\n",
    "        {\"value\": \"Bayer\", \"isMatch\": False},\n",
    "        {\"value\": \"Porsche\", \"isMatch\": False},\n",
    "        {\"value\": \"Lichtblick\", \"isMatch\": False},\n",
    "        {\"value\": \"Naturstrom\", \"isMatch\": False},\n",
    "        {\"value\": \"Siemens\", \"isMatch\": True}\n",
    "    ]\n",
    "}\n",
    "\n",
    "# Sort the list of dictionaries by \"isMatch\" in descending order\n",
    "sorted_data = sorted(data[\"values\"], key=lambda x: x[\"isMatch\"], reverse=True)\n",
    "\n",
    "# Print the sorted list\n",
    "for item in sorted_data:\n",
    "    print(item)\n"
   ]
  },
  {
   "cell_type": "code",
   "execution_count": 221,
   "metadata": {},
   "outputs": [
    {
     "data": {
      "text/plain": [
       "dict"
      ]
     },
     "execution_count": 221,
     "metadata": {},
     "output_type": "execute_result"
    }
   ],
   "source": [
    "type(data)"
   ]
  },
  {
   "cell_type": "code",
   "execution_count": 222,
   "metadata": {},
   "outputs": [
    {
     "data": {
      "text/html": [
       "<div><style>\n",
       ".dataframe > thead > tr > th,\n",
       ".dataframe > tbody > tr > td {\n",
       "  text-align: right;\n",
       "  white-space: pre-wrap;\n",
       "}\n",
       "</style>\n",
       "<small>shape: (3, 3)</small><table border=\"1\" class=\"dataframe\"><thead><tr><th>a_match</th><th>b_match</th><th>some_column</th></tr><tr><td>i64</td><td>i64</td><td>i64</td></tr></thead><tbody><tr><td>4</td><td>1</td><td>3</td></tr><tr><td>2</td><td>2</td><td>2</td></tr><tr><td>7</td><td>3</td><td>1</td></tr></tbody></table></div>"
      ],
      "text/plain": [
       "shape: (3, 3)\n",
       "┌─────────┬─────────┬─────────────┐\n",
       "│ a_match ┆ b_match ┆ some_column │\n",
       "│ ---     ┆ ---     ┆ ---         │\n",
       "│ i64     ┆ i64     ┆ i64         │\n",
       "╞═════════╪═════════╪═════════════╡\n",
       "│ 4       ┆ 1       ┆ 3           │\n",
       "│ 2       ┆ 2       ┆ 2           │\n",
       "│ 7       ┆ 3       ┆ 1           │\n",
       "└─────────┴─────────┴─────────────┘"
      ]
     },
     "execution_count": 222,
     "metadata": {},
     "output_type": "execute_result"
    }
   ],
   "source": [
    "import polars as pl\n",
    "df = pl.DataFrame(\n",
    "    {\"a_match\": [4, 2, 7], \"b_match\": [1, 2, 3], \"some_column\": [3, 2, 1]}\n",
    ")\n",
    "df\n"
   ]
  },
  {
   "cell_type": "code",
   "execution_count": 223,
   "metadata": {},
   "outputs": [
    {
     "name": "stdout",
     "output_type": "stream",
     "text": [
      "shape: (3, 2)\n",
      "┌─────────┬─────────┐\n",
      "│ a_match ┆ b_match │\n",
      "│ ---     ┆ ---     │\n",
      "│ i64     ┆ i64     │\n",
      "╞═════════╪═════════╡\n",
      "│ 4       ┆ 1       │\n",
      "│ 2       ┆ 2       │\n",
      "│ 7       ┆ 3       │\n",
      "└─────────┴─────────┘\n"
     ]
    }
   ],
   "source": [
    "import polars.selectors as cs\n",
    "print(df.lazy().select(cs.ends_with(\"_match\")).collect()) # for LazyFrame"
   ]
  },
  {
   "cell_type": "code",
   "execution_count": 224,
   "metadata": {},
   "outputs": [
    {
     "data": {
      "text/plain": [
       "('a_match', 'b_match')"
      ]
     },
     "execution_count": 224,
     "metadata": {},
     "output_type": "execute_result"
    }
   ],
   "source": [
    "cs.expand_selector(df.sort(\"a_match\"), cs.ends_with(\"_match\"))"
   ]
  },
  {
   "cell_type": "code",
   "execution_count": 225,
   "metadata": {},
   "outputs": [],
   "source": [
    "data = pl.DataFrame({\n",
    "            \"totalCount\": 4,\n",
    "            \"results\": [\n",
    "                {\n",
    "                    \"name\": \"Rolle\",\n",
    "                    \"isMatch\": False,\n",
    "                    \"remainingMatchingValuesCount\": 11664,\n",
    "                    \"remainingNotMatchingValuesCount\": 0,\n",
    "                    \"values\": [\n",
    "                        {\"value\": \"Agent\", \"isMatch\": True},\n",
    "                        {\"value\": \"Agent\", \"isMatch\": True},\n",
    "                        {\"value\": \"Agent\", \"isMatch\": True},\n",
    "                        {\"value\": \"Agent\", \"isMatch\": True},\n",
    "                        {\"value\": \"Special Agent\", \"isMatch\": True},\n",
    "                        {\"value\": \"Agent\", \"isMatch\": True},\n",
    "                        {\"value\": \"Agent\", \"isMatch\": True},\n",
    "                        {\"value\": \"Agent\", \"isMatch\": True},\n",
    "                        {\"value\": \"Agent\", \"isMatch\": True},\n",
    "                        {\"value\": \"Agent\", \"isMatch\": True},\n",
    "                    ],\n",
    "                },\n",
    "                {\n",
    "                    \"name\": \"Classification\",\n",
    "                    \"isMatch\": True,\n",
    "                    \"remainingMatchingValuesCount\": 1696,\n",
    "                    \"remainingNotMatchingValuesCount\": 294,\n",
    "                    \"values\": [\n",
    "                        {\"value\": \"Mail\", \"isMatch\": True},\n",
    "                        {\"value\": \"Mail\", \"isMatch\": True},\n",
    "                        {\"value\": \"Citrix\", \"isMatch\": False},\n",
    "                        {\"value\": \"Mail\", \"isMatch\": True},\n",
    "                        {\"value\": \"SAP\", \"isMatch\": True},\n",
    "                        {\"value\": \"SAP\", \"isMatch\": True},\n",
    "                        {\"value\": \"SAP\", \"isMatch\": True},\n",
    "                        {\"value\": \"Intranet\", \"isMatch\": True},\n",
    "                        {\"value\": \"Mail\", \"isMatch\": True},\n",
    "                        {\"value\": \"SAP\", \"isMatch\": True},\n",
    "                    ],\n",
    "                },\n",
    "                {\n",
    "                    \"name\": \"Country\",\n",
    "                    \"isMatch\": False,\n",
    "                    \"remainingMatchingValuesCount\": 1990,\n",
    "                    \"remainingNotMatchingValuesCount\": 0,\n",
    "                    \"values\": [\n",
    "                        {\"value\": \"Germany\", \"isMatch\": True},\n",
    "                        {\"value\": \"Germany\", \"isMatch\": True},\n",
    "                        {\"value\": \"Germany\", \"isMatch\": True},\n",
    "                        {\"value\": \"Germany\", \"isMatch\": True},\n",
    "                        {\"value\": \"Germany\", \"isMatch\": True},\n",
    "                        {\"value\": \"Austria\", \"isMatch\": True},\n",
    "                        {\"value\": \"Germany\", \"isMatch\": True},\n",
    "                        {\"value\": \"Germany\", \"isMatch\": True},\n",
    "                        {\"value\": \"Austria\", \"isMatch\": True},\n",
    "                        {\"value\": \"Switzerland\", \"isMatch\": True},\n",
    "                    ],\n",
    "                },\n",
    "                {\n",
    "                    \"name\": \"Kunde\",\n",
    "                    \"isMatch\": False,\n",
    "                    \"remainingMatchingValuesCount\": 663,\n",
    "                    \"remainingNotMatchingValuesCount\": 1327,\n",
    "                    \"values\": [\n",
    "                        {\"value\": \"Siemens\", \"isMatch\": False},\n",
    "                        {\"value\": \"Bosch\", \"isMatch\": False},\n",
    "                        {\"value\": \"BMW\", \"isMatch\": False},\n",
    "                        {\"value\": \"Daimler\", \"isMatch\": True},\n",
    "                        {\"value\": \"VW\", \"isMatch\": False},\n",
    "                        {\"value\": \"Bayer\", \"isMatch\": True},\n",
    "                        {\"value\": \"Porsche\", \"isMatch\": False},\n",
    "                        {\"value\": \"Lichtblick\", \"isMatch\": False},\n",
    "                        {\"value\": \"Naturstrom\", \"isMatch\": True},\n",
    "                        {\"value\": \"Siemens\", \"isMatch\": False},\n",
    "                    ],\n",
    "                },\n",
    "            ],\n",
    "        })"
   ]
  },
  {
   "cell_type": "code",
   "execution_count": 226,
   "metadata": {},
   "outputs": [
    {
     "name": "stdout",
     "output_type": "stream",
     "text": [
      "DataFrame 1:\n",
      "shape: (10, 2)\n",
      "┌───────┬─────────┐\n",
      "│ value ┆ isMatch │\n",
      "│ ---   ┆ ---     │\n",
      "│ str   ┆ bool    │\n",
      "╞═══════╪═════════╡\n",
      "│ Agent ┆ true    │\n",
      "│ Agent ┆ true    │\n",
      "│ Agent ┆ true    │\n",
      "│ Agent ┆ true    │\n",
      "│ …     ┆ …       │\n",
      "│ Agent ┆ true    │\n",
      "│ Agent ┆ true    │\n",
      "│ Agent ┆ true    │\n",
      "│ Agent ┆ true    │\n",
      "└───────┴─────────┘\n",
      "DataFrame 2:\n",
      "shape: (10, 2)\n",
      "┌──────────┬─────────┐\n",
      "│ value    ┆ isMatch │\n",
      "│ ---      ┆ ---     │\n",
      "│ str      ┆ bool    │\n",
      "╞══════════╪═════════╡\n",
      "│ Mail     ┆ true    │\n",
      "│ Mail     ┆ true    │\n",
      "│ Citrix   ┆ false   │\n",
      "│ Mail     ┆ true    │\n",
      "│ …        ┆ …       │\n",
      "│ SAP      ┆ true    │\n",
      "│ Intranet ┆ true    │\n",
      "│ Mail     ┆ true    │\n",
      "│ SAP      ┆ true    │\n",
      "└──────────┴─────────┘\n",
      "DataFrame 3:\n",
      "shape: (10, 2)\n",
      "┌─────────────┬─────────┐\n",
      "│ value       ┆ isMatch │\n",
      "│ ---         ┆ ---     │\n",
      "│ str         ┆ bool    │\n",
      "╞═════════════╪═════════╡\n",
      "│ Germany     ┆ true    │\n",
      "│ Germany     ┆ true    │\n",
      "│ Germany     ┆ true    │\n",
      "│ Germany     ┆ true    │\n",
      "│ …           ┆ …       │\n",
      "│ Germany     ┆ true    │\n",
      "│ Germany     ┆ true    │\n",
      "│ Austria     ┆ true    │\n",
      "│ Switzerland ┆ true    │\n",
      "└─────────────┴─────────┘\n",
      "DataFrame 4:\n",
      "shape: (10, 2)\n",
      "┌────────────┬─────────┐\n",
      "│ value      ┆ isMatch │\n",
      "│ ---        ┆ ---     │\n",
      "│ str        ┆ bool    │\n",
      "╞════════════╪═════════╡\n",
      "│ Siemens    ┆ false   │\n",
      "│ Bosch      ┆ false   │\n",
      "│ BMW        ┆ false   │\n",
      "│ Daimler    ┆ true    │\n",
      "│ …          ┆ …       │\n",
      "│ Porsche    ┆ false   │\n",
      "│ Lichtblick ┆ false   │\n",
      "│ Naturstrom ┆ true    │\n",
      "│ Siemens    ┆ false   │\n",
      "└────────────┴─────────┘\n"
     ]
    }
   ],
   "source": [
    "import polars as pl\n",
    "\n",
    "data = pl.DataFrame({\n",
    "    \"totalCount\": 4,\n",
    "    \"results\": [\n",
    "        {\n",
    "            \"name\": \"Rolle\",\n",
    "            \"isMatch\": False,\n",
    "            \"remainingMatchingValuesCount\": 11664,\n",
    "            \"remainingNotMatchingValuesCount\": 0,\n",
    "            \"values\": [\n",
    "                {\"value\": \"Agent\", \"isMatch\": True},\n",
    "                {\"value\": \"Agent\", \"isMatch\": True},\n",
    "                {\"value\": \"Agent\", \"isMatch\": True},\n",
    "                {\"value\": \"Agent\", \"isMatch\": True},\n",
    "                {\"value\": \"Special Agent\", \"isMatch\": True},\n",
    "                {\"value\": \"Agent\", \"isMatch\": True},\n",
    "                {\"value\": \"Agent\", \"isMatch\": True},\n",
    "                {\"value\": \"Agent\", \"isMatch\": True},\n",
    "                {\"value\": \"Agent\", \"isMatch\": True},\n",
    "                {\"value\": \"Agent\", \"isMatch\": True},\n",
    "            ],\n",
    "        },\n",
    "        {\n",
    "            \"name\": \"Classification\",\n",
    "            \"isMatch\": True,\n",
    "            \"remainingMatchingValuesCount\": 1696,\n",
    "            \"remainingNotMatchingValuesCount\": 294,\n",
    "            \"values\": [\n",
    "                {\"value\": \"Mail\", \"isMatch\": True},\n",
    "                {\"value\": \"Mail\", \"isMatch\": True},\n",
    "                {\"value\": \"Citrix\", \"isMatch\": False},\n",
    "                {\"value\": \"Mail\", \"isMatch\": True},\n",
    "                {\"value\": \"SAP\", \"isMatch\": True},\n",
    "                {\"value\": \"SAP\", \"isMatch\": True},\n",
    "                {\"value\": \"SAP\", \"isMatch\": True},\n",
    "                {\"value\": \"Intranet\", \"isMatch\": True},\n",
    "                {\"value\": \"Mail\", \"isMatch\": True},\n",
    "                {\"value\": \"SAP\", \"isMatch\": True},\n",
    "            ],\n",
    "        },\n",
    "        {\n",
    "            \"name\": \"Country\",\n",
    "            \"isMatch\": False,\n",
    "            \"remainingMatchingValuesCount\": 1990,\n",
    "            \"remainingNotMatchingValuesCount\": 0,\n",
    "            \"values\": [\n",
    "                {\"value\": \"Germany\", \"isMatch\": True},\n",
    "                {\"value\": \"Germany\", \"isMatch\": True},\n",
    "                {\"value\": \"Germany\", \"isMatch\": True},\n",
    "                {\"value\": \"Germany\", \"isMatch\": True},\n",
    "                {\"value\": \"Germany\", \"isMatch\": True},\n",
    "                {\"value\": \"Austria\", \"isMatch\": True},\n",
    "                {\"value\": \"Germany\", \"isMatch\": True},\n",
    "                {\"value\": \"Germany\", \"isMatch\": True},\n",
    "                {\"value\": \"Austria\", \"isMatch\": True},\n",
    "                {\"value\": \"Switzerland\", \"isMatch\": True},\n",
    "            ],\n",
    "        },\n",
    "        {\n",
    "            \"name\": \"Kunde\",\n",
    "            \"isMatch\": False,\n",
    "            \"remainingMatchingValuesCount\": 663,\n",
    "            \"remainingNotMatchingValuesCount\": 1327,\n",
    "            \"values\": [\n",
    "                {\"value\": \"Siemens\", \"isMatch\": False},\n",
    "                {\"value\": \"Bosch\", \"isMatch\": False},\n",
    "                {\"value\": \"BMW\", \"isMatch\": False},\n",
    "                {\"value\": \"Daimler\", \"isMatch\": True},\n",
    "                {\"value\": \"VW\", \"isMatch\": False},\n",
    "                {\"value\": \"Bayer\", \"isMatch\": True},\n",
    "                {\"value\": \"Porsche\", \"isMatch\": False},\n",
    "                {\"value\": \"Lichtblick\", \"isMatch\": False},\n",
    "                {\"value\": \"Naturstrom\", \"isMatch\": True},\n",
    "                {\"value\": \"Siemens\", \"isMatch\": False},\n",
    "            ],\n",
    "        },\n",
    "    ],\n",
    "})\n",
    "\n",
    "# Initialize an empty list to store the DataFrames\n",
    "value_dataframes = []\n",
    "\n",
    "# Iterate through the results and extract \"values\" into DataFrames\n",
    "for result in data['results']:\n",
    "    values = result['values']\n",
    "    \n",
    "    # Convert the values to a Polars DataFrame and append it to the list\n",
    "    df = pl.DataFrame(values).lazy()\n",
    "    value_dataframes.append(df)\n",
    "\n",
    "\n",
    "# print or process the DataFrames:\n",
    "for i, df in enumerate(value_dataframes):\n",
    "    print(f\"DataFrame {i + 1}:\")\n",
    "    print(df.collect())"
   ]
  },
  {
   "cell_type": "code",
   "execution_count": 227,
   "metadata": {},
   "outputs": [
    {
     "data": {
      "text/html": [
       "<div><style>\n",
       ".dataframe > thead > tr > th,\n",
       ".dataframe > tbody > tr > td {\n",
       "  text-align: right;\n",
       "  white-space: pre-wrap;\n",
       "}\n",
       "</style>\n",
       "<small>shape: (10, 2)</small><table border=\"1\" class=\"dataframe\"><thead><tr><th>value</th><th>isMatch</th></tr><tr><td>str</td><td>bool</td></tr></thead><tbody><tr><td>&quot;Siemens&quot;</td><td>false</td></tr><tr><td>&quot;Bosch&quot;</td><td>false</td></tr><tr><td>&quot;BMW&quot;</td><td>false</td></tr><tr><td>&quot;Daimler&quot;</td><td>true</td></tr><tr><td>&quot;VW&quot;</td><td>false</td></tr><tr><td>&quot;Bayer&quot;</td><td>true</td></tr><tr><td>&quot;Porsche&quot;</td><td>false</td></tr><tr><td>&quot;Lichtblick&quot;</td><td>false</td></tr><tr><td>&quot;Naturstrom&quot;</td><td>true</td></tr><tr><td>&quot;Siemens&quot;</td><td>false</td></tr></tbody></table></div>"
      ],
      "text/plain": [
       "shape: (10, 2)\n",
       "┌────────────┬─────────┐\n",
       "│ value      ┆ isMatch │\n",
       "│ ---        ┆ ---     │\n",
       "│ str        ┆ bool    │\n",
       "╞════════════╪═════════╡\n",
       "│ Siemens    ┆ false   │\n",
       "│ Bosch      ┆ false   │\n",
       "│ BMW        ┆ false   │\n",
       "│ Daimler    ┆ true    │\n",
       "│ …          ┆ …       │\n",
       "│ Porsche    ┆ false   │\n",
       "│ Lichtblick ┆ false   │\n",
       "│ Naturstrom ┆ true    │\n",
       "│ Siemens    ┆ false   │\n",
       "└────────────┴─────────┘"
      ]
     },
     "execution_count": 227,
     "metadata": {},
     "output_type": "execute_result"
    }
   ],
   "source": [
    "# index goes from 0 to 3\n",
    "value_dataframes[3].collect()\n"
   ]
  },
  {
   "cell_type": "code",
   "execution_count": 228,
   "metadata": {},
   "outputs": [],
   "source": [
    "frame = pl.read_csv(\"tmp_events.csv\")"
   ]
  },
  {
   "cell_type": "code",
   "execution_count": 229,
   "metadata": {},
   "outputs": [
    {
     "data": {
      "text/html": [
       "<div><style>\n",
       ".dataframe > thead > tr > th,\n",
       ".dataframe > tbody > tr > td {\n",
       "  text-align: right;\n",
       "  white-space: pre-wrap;\n",
       "}\n",
       "</style>\n",
       "<small>shape: (11_674, 5)</small><table border=\"1\" class=\"dataframe\"><thead><tr><th>Action</th><th>Start</th><th>Complete</th><th>CaseID</th><th>Rolle</th></tr><tr><td>str</td><td>str</td><td>str</td><td>i64</td><td>str</td></tr></thead><tbody><tr><td>&quot;Incident loggi…</td><td>&quot;2016-01-04 12:…</td><td>&quot;2016-01-04 12:…</td><td>412</td><td>&quot;Agent&quot;</td></tr><tr><td>&quot;Incident class…</td><td>&quot;2016-01-04 12:…</td><td>&quot;2016-01-04 12:…</td><td>412</td><td>&quot;Agent&quot;</td></tr><tr><td>&quot;Initial diagno…</td><td>&quot;2016-01-04 12:…</td><td>&quot;2016-01-04 12:…</td><td>412</td><td>&quot;Agent&quot;</td></tr><tr><td>&quot;Functional esc…</td><td>&quot;2016-01-04 12:…</td><td>&quot;2016-01-04 12:…</td><td>412</td><td>&quot;Agent&quot;</td></tr><tr><td>&quot;Investigation …</td><td>&quot;2016-01-04 18:…</td><td>&quot;2016-01-05 01:…</td><td>412</td><td>&quot;Special Agent&quot;</td></tr><tr><td>&quot;Resolution and…</td><td>&quot;2016-01-05 03:…</td><td>&quot;2016-01-05 04:…</td><td>412</td><td>&quot;Agent&quot;</td></tr><tr><td>&quot;Incident closu…</td><td>&quot;2016-01-05 04:…</td><td>&quot;2016-01-05 04:…</td><td>412</td><td>&quot;Agent&quot;</td></tr><tr><td>&quot;Incident loggi…</td><td>&quot;2016-01-04 12:…</td><td>&quot;2016-01-04 12:…</td><td>413</td><td>&quot;Agent&quot;</td></tr><tr><td>&quot;Incident class…</td><td>&quot;2016-01-04 12:…</td><td>&quot;2016-01-04 12:…</td><td>413</td><td>&quot;Agent&quot;</td></tr><tr><td>&quot;Initial diagno…</td><td>&quot;2016-01-04 12:…</td><td>&quot;2016-01-04 13:…</td><td>413</td><td>&quot;Agent&quot;</td></tr><tr><td>&quot;Resolution and…</td><td>&quot;2016-01-04 17:…</td><td>&quot;2016-01-04 17:…</td><td>413</td><td>&quot;Agent&quot;</td></tr><tr><td>&quot;Incident closu…</td><td>&quot;2016-01-04 17:…</td><td>&quot;2016-01-04 17:…</td><td>413</td><td>&quot;Agent&quot;</td></tr><tr><td>&hellip;</td><td>&hellip;</td><td>&hellip;</td><td>&hellip;</td><td>&hellip;</td></tr><tr><td>&quot;Resolution and…</td><td>&quot;2016-01-04 17:…</td><td>&quot;2016-01-04 18:…</td><td>407</td><td>&quot;Agent&quot;</td></tr><tr><td>&quot;Incident closu…</td><td>&quot;2016-01-04 18:…</td><td>&quot;2016-01-04 18:…</td><td>407</td><td>&quot;Agent&quot;</td></tr><tr><td>&quot;Incident loggi…</td><td>&quot;2016-01-04 13:…</td><td>&quot;2016-01-04 14:…</td><td>408</td><td>&quot;Agent&quot;</td></tr><tr><td>&quot;Incident class…</td><td>&quot;2016-01-04 14:…</td><td>&quot;2016-01-04 14:…</td><td>408</td><td>&quot;Agent&quot;</td></tr><tr><td>&quot;Initial diagno…</td><td>&quot;2016-01-04 14:…</td><td>&quot;2016-01-04 14:…</td><td>408</td><td>&quot;Agent&quot;</td></tr><tr><td>&quot;Resolution and…</td><td>&quot;2016-01-04 20:…</td><td>&quot;2016-01-04 21:…</td><td>408</td><td>&quot;Agent&quot;</td></tr><tr><td>&quot;Incident closu…</td><td>&quot;2016-01-04 21:…</td><td>&quot;2016-01-04 21:…</td><td>408</td><td>&quot;Agent&quot;</td></tr><tr><td>&quot;Incident loggi…</td><td>&quot;2016-01-04 13:…</td><td>&quot;2016-01-04 13:…</td><td>409</td><td>&quot;Agent&quot;</td></tr><tr><td>&quot;Incident class…</td><td>&quot;2016-01-04 13:…</td><td>&quot;2016-01-04 13:…</td><td>409</td><td>&quot;Agent&quot;</td></tr><tr><td>&quot;Initial diagno…</td><td>&quot;2016-01-04 13:…</td><td>&quot;2016-01-04 13:…</td><td>409</td><td>&quot;Agent&quot;</td></tr><tr><td>&quot;Resolution and…</td><td>&quot;2016-01-04 16:…</td><td>&quot;2016-01-04 16:…</td><td>409</td><td>&quot;Agent&quot;</td></tr><tr><td>&quot;Incident closu…</td><td>&quot;2016-01-04 16:…</td><td>&quot;2016-01-04 17:…</td><td>409</td><td>&quot;Agent&quot;</td></tr></tbody></table></div>"
      ],
      "text/plain": [
       "shape: (11_674, 5)\n",
       "┌─────────────────────────┬─────────────────────┬─────────────────────┬────────┬───────┐\n",
       "│ Action                  ┆ Start               ┆ Complete            ┆ CaseID ┆ Rolle │\n",
       "│ ---                     ┆ ---                 ┆ ---                 ┆ ---    ┆ ---   │\n",
       "│ str                     ┆ str                 ┆ str                 ┆ i64    ┆ str   │\n",
       "╞═════════════════════════╪═════════════════════╪═════════════════════╪════════╪═══════╡\n",
       "│ Incident logging        ┆ 2016-01-04 12:09:44 ┆ 2016-01-04 12:09:44 ┆ 412    ┆ Agent │\n",
       "│ Incident classification ┆ 2016-01-04 12:10:44 ┆ 2016-01-04 12:17:44 ┆ 412    ┆ Agent │\n",
       "│ Initial diagnosis       ┆ 2016-01-04 12:34:44 ┆ 2016-01-04 12:39:44 ┆ 412    ┆ Agent │\n",
       "│ Functional escalation   ┆ 2016-01-04 12:41:44 ┆ 2016-01-04 12:48:44 ┆ 412    ┆ Agent │\n",
       "│ …                       ┆ …                   ┆ …                   ┆ …      ┆ …     │\n",
       "│ Incident classification ┆ 2016-01-04 13:27:44 ┆ 2016-01-04 13:33:44 ┆ 409    ┆ Agent │\n",
       "│ Initial diagnosis       ┆ 2016-01-04 13:40:44 ┆ 2016-01-04 13:54:44 ┆ 409    ┆ Agent │\n",
       "│ Resolution and recovery ┆ 2016-01-04 16:16:44 ┆ 2016-01-04 16:44:44 ┆ 409    ┆ Agent │\n",
       "│ Incident closure        ┆ 2016-01-04 16:45:44 ┆ 2016-01-04 17:06:44 ┆ 409    ┆ Agent │\n",
       "└─────────────────────────┴─────────────────────┴─────────────────────┴────────┴───────┘"
      ]
     },
     "execution_count": 229,
     "metadata": {},
     "output_type": "execute_result"
    }
   ],
   "source": [
    "frame"
   ]
  },
  {
   "cell_type": "code",
   "execution_count": 230,
   "metadata": {},
   "outputs": [],
   "source": [
    "df = pl.DataFrame({\"foo\": [1, 2, 3], \"bar\": [4, 5, 6]})\n"
   ]
  },
  {
   "cell_type": "code",
   "execution_count": 231,
   "metadata": {},
   "outputs": [
    {
     "data": {
      "text/plain": [
       "True"
      ]
     },
     "execution_count": 231,
     "metadata": {},
     "output_type": "execute_result"
    }
   ],
   "source": [
    "df.is_empty()==False\n"
   ]
  },
  {
   "cell_type": "code",
   "execution_count": 232,
   "metadata": {},
   "outputs": [
    {
     "data": {
      "text/plain": [
       "True"
      ]
     },
     "execution_count": 232,
     "metadata": {},
     "output_type": "execute_result"
    }
   ],
   "source": [
    "df.filter(pl.col(\"foo\") > 99).is_empty()"
   ]
  },
  {
   "cell_type": "code",
   "execution_count": 233,
   "metadata": {},
   "outputs": [],
   "source": [
    "from dataclasses import dataclass\n",
    "\n",
    "import polars as pl\n",
    "import polars.selectors as cs\n",
    "#import ray"
   ]
  },
  {
   "cell_type": "code",
   "execution_count": 234,
   "metadata": {},
   "outputs": [],
   "source": [
    "_special_column_names = set(\n",
    "    [\n",
    "        \"CaseID\",\n",
    "        \"Action\",\n",
    "        \"Start\",\n",
    "        \"Complete\",\n",
    "        \"NextCaseId\",\n",
    "        \"NextAction\",\n",
    "        \"NextStart\",\n",
    "        \"Duration\",\n",
    "        \"VariantHash\",\n",
    "    ]\n",
    ")"
   ]
  },
  {
   "cell_type": "code",
   "execution_count": 235,
   "metadata": {},
   "outputs": [],
   "source": [
    "@dataclass\n",
    "class AttributeSearchResult:\n",
    "    frames: list[pl.LazyFrame]\n",
    "    query: str\n",
    "\n",
    "    def __add__(self, other):\n",
    "        assert self.query == other.query\n",
    "        return AttributeSearchResult(self.frames + other.frames, self.query)\n",
    "\n",
    "    def to_response(\n",
    "        self,\n",
    "        attributes_page: int = 0,\n",
    "        attributes_page_size: int = 10,\n",
    "        values_page: int = 0,\n",
    "        values_page_size: int = 10,\n",
    "    ) -> dict:\n",
    "        attributes = []\n",
    "        attributes_offset = attributes_page * attributes_page_size\n",
    "        attributes_limit = attributes_page_size\n",
    "        for frame in self.frames:\n",
    "            new_attributes = self._attributes(\n",
    "                frame,\n",
    "                attributes_offset,\n",
    "                attributes_limit,\n",
    "                values_page * values_page_size,\n",
    "                values_page_size,\n",
    "            )\n",
    "            attributes += new_attributes\n",
    "            attributes_limit = max(0, attributes_limit - len(new_attributes))\n",
    "            attributes_offset = max(\n",
    "                0, attributes_offset - len(self._attribute_names(frame))\n",
    "            )\n",
    "        return {\n",
    "            \"totalCount\": sum(\n",
    "                [len(self._attribute_names(frame)) for frame in self.frames]\n",
    "            ),\n",
    "            \"results\": attributes,\n",
    "        }\n",
    "\n",
    "    def _attribute_names(self, frame: pl.LazyFrame) -> list[str]:\n",
    "        return list(cs.expand_selector(frame, ~cs.ends_with(\"_match\")))\n",
    "\n",
    "    def _attribute(\n",
    "        self, name: str, frame: pl.LazyFrame, values_offset: int, values_limit: int\n",
    "    ) -> list[dict]:\n",
    "        fr = frame.select(\n",
    "            pl.col(name).alias(\"value\"), pl.col(name + \"_match\").alias(\"isMatch\")\n",
    "        )\n",
    "        page = fr.slice(values_offset, values_limit).to_dicts()#.collect().to_dicts()\n",
    "        rest = fr.slice(values_offset + values_limit)\n",
    "        counts = rest.groupby(\"isMatch\").agg(pl.count()).to_dicts()#.collect().to_dicts()\n",
    "        remaining_matching = next((y[\"count\"] for y in counts if y[\"isMatch\"]), 0)\n",
    "        remaining_not_matching = next(\n",
    "            (y[\"count\"] for y in counts if not y[\"isMatch\"]), 0\n",
    "        )\n",
    "\n",
    "        return {\n",
    "            \"name\": name,\n",
    "            \"isMatch\": self.query.lower() in name.lower(),\n",
    "            \"remainingMatchingValuesCount\": remaining_matching,\n",
    "            \"remainingNotMatchingValuesCount\": remaining_not_matching,\n",
    "            \"values\": page, \n",
    "        }\n",
    "\n",
    "    def _attributes(\n",
    "        self,\n",
    "        frame: pl.LazyFrame,\n",
    "        attributes_offset: int,\n",
    "        attributes_limit: int,\n",
    "        values_offset: int,\n",
    "        values_limit: int,\n",
    "    ) -> list[dict]:\n",
    "        attribute_names = self._attribute_names(frame)\n",
    "\n",
    "        return [\n",
    "            self._attribute(a, frame, values_offset, values_limit)\n",
    "            for a in attribute_names[\n",
    "                attributes_offset : attributes_offset + attributes_limit\n",
    "            ]\n",
    "        ]\n"
   ]
  },
  {
   "cell_type": "code",
   "execution_count": 236,
   "metadata": {},
   "outputs": [],
   "source": [
    "\n",
    "def attribute_search(\n",
    "    frame: pl.LazyFrame,\n",
    "    query: str,\n",
    "    types: set[pl.DataType],\n",
    "    attribute_name: str | None = None) -> AttributeSearchResult:\n",
    "    column_selector = cs.by_dtype(types) & ~cs.by_name(_special_column_names)\n",
    "    if attribute_name is not None:\n",
    "        column_selector = column_selector & cs.by_name(attribute_name)\n",
    "\n",
    "    match_frame = frame.select(\n",
    "        column_selector,\n",
    "        column_selector.cast(pl.Utf8)\n",
    "        .str.to_lowercase()\n",
    "        .str.contains(query.lower(), literal=True)\n",
    "        .map_alias(lambda x: x + \"_match\"),\n",
    "    )\n",
    "    attrs_matched_by_name = set(\n",
    "        cs.expand_selector(\n",
    "            frame,\n",
    "            column_selector & cs.matches(f\"(?i).*{query}.*\"),\n",
    "        )\n",
    "    )\n",
    "    attrs_matched_by_value = set(\n",
    "        [\n",
    "            attr.removesuffix(\"_match\")\n",
    "            for attr, match in match_frame.select(cs.ends_with(\"_match\").any())\n",
    "            .collect()\n",
    "            .rows(named=True)[0]\n",
    "            .items()\n",
    "            if match\n",
    "        ]\n",
    "    )\n",
    "    print('-----------attrs_matched_by_name-----------')\n",
    "    print(attrs_matched_by_name)\n",
    "\n",
    "    matched_attrs = attrs_matched_by_name | attrs_matched_by_value # TODO: sort original code\n",
    "    \n",
    "    # Separate category matches from value matches\n",
    "    category_matches = set()\n",
    "    value_matches = set()\n",
    "    \n",
    "    for attr in attrs_matched_by_name:\n",
    "        if attr in frame.columns:\n",
    "            category_matches.add(attr)\n",
    "        else:\n",
    "            value_matches.add(attr)\n",
    "\n",
    "    # Sort category matches and value matches\n",
    "    sorted_category_matches = sorted(category_matches)\n",
    "    sorted_value_matches = sorted(value_matches)\n",
    "\n",
    "    # Reorder the attributes so that category matches and value matches are on top and convert to set\n",
    "    matched_attrs = set(sorted_category_matches + sorted_value_matches + list(attrs_matched_by_value))\n",
    "    \n",
    "    matched_columns = sorted(matched_attrs | set([a + \"_match\" for a in matched_attrs]))\n",
    "\n",
    "    \n",
    "    print(\"----------------matched_columns----------------\")\n",
    "    print(matched_columns)\n",
    "\n",
    "    return AttributeSearchResult(\n",
    "        frames=[match_frame.select(cs.by_name(matched_columns))]\n",
    "        if matched_columns\n",
    "        else [pl.LazyFrame()],\n",
    "        query=query,\n",
    "    )\n"
   ]
  },
  {
   "cell_type": "code",
   "execution_count": 237,
   "metadata": {},
   "outputs": [],
   "source": [
    "\n",
    "def attribute_search(\n",
    "    frame: pl.LazyFrame,\n",
    "    query: str,\n",
    "    types: set[pl.DataType],\n",
    "    attribute_name: str | None = None) -> AttributeSearchResult:\n",
    "    column_selector = cs.by_dtype(types) & ~cs.by_name(_special_column_names)\n",
    "    if attribute_name is not None:\n",
    "        column_selector = column_selector & cs.by_name(attribute_name)\n",
    "\n",
    "    match_frame = frame.select(\n",
    "        column_selector,\n",
    "        column_selector.cast(pl.Utf8)\n",
    "        .str.to_lowercase()\n",
    "        .str.contains(query.lower(), literal=True)\n",
    "        .map_alias(lambda x: x + \"_match\"),\n",
    "    )\n",
    "    attrs_matched_by_name = set(\n",
    "        cs.expand_selector(\n",
    "            frame,\n",
    "            column_selector & cs.matches(f\"(?i).*{query}.*\"),\n",
    "        )\n",
    "    )\n",
    "    attrs_matched_by_value = set(\n",
    "        [\n",
    "            attr.removesuffix(\"_match\")\n",
    "            for attr, match in match_frame.select(cs.ends_with(\"_match\").any())\n",
    "            #.collect()\n",
    "            .rows(named=True)[0]\n",
    "            .items()\n",
    "            if match\n",
    "        ]\n",
    "    )\n",
    "    print('-----------attrs_matched_by_name-----------')\n",
    "    print(attrs_matched_by_name)\n",
    "\n",
    "    matched_attrs = attrs_matched_by_name | attrs_matched_by_value # TODO: sort original code\n",
    "    \n",
    "    def sort_attrs_matched_by_name(\n",
    "            attrs_matched_by_name: set[pl.DataType], \n",
    "            attrs_matched_by_value: set[pl.DataType],\n",
    "            )->set[pl.DataType]:\n",
    "        # Separate category matches from value matches\n",
    "        category_matches = set()\n",
    "        value_matches = set()\n",
    "\n",
    "        for attr in attrs_matched_by_name:\n",
    "            if attr in frame.columns:\n",
    "                category_matches.add(attr)\n",
    "            else:\n",
    "                value_matches.add(attr)\n",
    "\n",
    "        # Sort category matches and value matches\n",
    "        sorted_category_matches = sorted(category_matches)\n",
    "        sorted_value_matches = sorted(value_matches)\n",
    "\n",
    "        # Reorder the attributes so that category matches and value matches are on top and convert to set\n",
    "        matched_attrs = set(sorted_category_matches + sorted_value_matches + list(attrs_matched_by_value))\n",
    "        return matched_attrs\n",
    "    matched_attrs = sort_attrs_matched_by_name(attrs_matched_by_name, attrs_matched_by_value)\n",
    "    matched_columns = sorted(matched_attrs | set([a + \"_match\" for a in matched_attrs]))\n",
    "\n",
    "    \n",
    "    print(\"----------------matched_columns----------------\")\n",
    "    print(matched_columns)\n",
    "\n",
    "    return AttributeSearchResult(\n",
    "        frames=[match_frame.select(cs.by_name(matched_columns))]\n",
    "        if matched_columns\n",
    "        else [pl.LazyFrame()],\n",
    "        query=query,\n",
    "    )\n"
   ]
  },
  {
   "cell_type": "code",
   "execution_count": 238,
   "metadata": {},
   "outputs": [],
   "source": [
    "'''\n",
    "@ray.remote\n",
    "def attribute_search_ray_worker(\n",
    "    frame: pl.LazyFrame,\n",
    "    query: str,\n",
    "    types: set[pl.DataType],\n",
    "    attribute_name: str | None = None,\n",
    ") -> AttributeSearchResult:\n",
    "    return attribute_search(frame, query, types, attribute_name)\n",
    "'''\n",
    "\n",
    "def attribute_search_ray_head(\n",
    "    frame: pl.LazyFrame,\n",
    "    query: str,\n",
    "    types: set[pl.DataType],\n",
    "    attribute_name: str | None = None,\n",
    ") -> AttributeSearchResult:\n",
    "    # TODO: distribute\n",
    "    return attribute_search(frame, query, types, attribute_name)\n"
   ]
  },
  {
   "cell_type": "code",
   "execution_count": 239,
   "metadata": {},
   "outputs": [
    {
     "name": "stdout",
     "output_type": "stream",
     "text": [
      "-----------attrs_matched_by_name-----------\n",
      "set()\n",
      "----------------matched_columns----------------\n",
      "['Rolle', 'Rolle_match']\n"
     ]
    },
    {
     "name": "stderr",
     "output_type": "stream",
     "text": [
      "/var/folders/df/73ltgcz51lzg9c11q7tfp_000000gp/T/ipykernel_78777/1849098854.py:15: DeprecationWarning: `map_alias` is deprecated. It has been moved to `name.map`.\n",
      "  .map_alias(lambda x: x + \"_match\"),\n",
      "/var/folders/df/73ltgcz51lzg9c11q7tfp_000000gp/T/ipykernel_78777/2219399753.py:51: DeprecationWarning: `groupby` is deprecated. It has been renamed to `group_by`.\n",
      "  counts = rest.groupby(\"isMatch\").agg(pl.count()).to_dicts()#.collect().to_dicts()\n"
     ]
    },
    {
     "data": {
      "text/plain": [
       "{'totalCount': 1,\n",
       " 'results': [{'name': 'Rolle',\n",
       "   'isMatch': False,\n",
       "   'remainingMatchingValuesCount': 11664,\n",
       "   'remainingNotMatchingValuesCount': 0,\n",
       "   'values': [{'value': 'Agent', 'isMatch': True},\n",
       "    {'value': 'Agent', 'isMatch': True},\n",
       "    {'value': 'Agent', 'isMatch': True},\n",
       "    {'value': 'Agent', 'isMatch': True},\n",
       "    {'value': 'Special Agent', 'isMatch': True},\n",
       "    {'value': 'Agent', 'isMatch': True},\n",
       "    {'value': 'Agent', 'isMatch': True},\n",
       "    {'value': 'Agent', 'isMatch': True},\n",
       "    {'value': 'Agent', 'isMatch': True},\n",
       "    {'value': 'Agent', 'isMatch': True}]}]}"
      ]
     },
     "execution_count": 239,
     "metadata": {},
     "output_type": "execute_result"
    }
   ],
   "source": [
    "# Define your Polars LazyFrame (frame) and other variables if needed.\n",
    "\n",
    "# Call the attribute_search function\n",
    "result = attribute_search(frame, \"Agent\",set([pl.Utf8]))\n",
    "# Print or use the result as needed.\n",
    "result.to_response()"
   ]
  },
  {
   "cell_type": "markdown",
   "metadata": {},
   "source": [
    "# in segments"
   ]
  },
  {
   "cell_type": "code",
   "execution_count": 240,
   "metadata": {},
   "outputs": [
    {
     "data": {
      "text/html": [
       "<div><style>\n",
       ".dataframe > thead > tr > th,\n",
       ".dataframe > tbody > tr > td {\n",
       "  text-align: right;\n",
       "  white-space: pre-wrap;\n",
       "}\n",
       "</style>\n",
       "<small>shape: (11_674, 5)</small><table border=\"1\" class=\"dataframe\"><thead><tr><th>Action</th><th>Start</th><th>Complete</th><th>CaseID</th><th>Rolle</th></tr><tr><td>str</td><td>str</td><td>str</td><td>i64</td><td>str</td></tr></thead><tbody><tr><td>&quot;Incident loggi…</td><td>&quot;2016-01-04 12:…</td><td>&quot;2016-01-04 12:…</td><td>412</td><td>&quot;Agent&quot;</td></tr><tr><td>&quot;Incident class…</td><td>&quot;2016-01-04 12:…</td><td>&quot;2016-01-04 12:…</td><td>412</td><td>&quot;Agent&quot;</td></tr><tr><td>&quot;Initial diagno…</td><td>&quot;2016-01-04 12:…</td><td>&quot;2016-01-04 12:…</td><td>412</td><td>&quot;Agent&quot;</td></tr><tr><td>&quot;Functional esc…</td><td>&quot;2016-01-04 12:…</td><td>&quot;2016-01-04 12:…</td><td>412</td><td>&quot;Agent&quot;</td></tr><tr><td>&quot;Investigation …</td><td>&quot;2016-01-04 18:…</td><td>&quot;2016-01-05 01:…</td><td>412</td><td>&quot;Special Agent&quot;</td></tr><tr><td>&quot;Resolution and…</td><td>&quot;2016-01-05 03:…</td><td>&quot;2016-01-05 04:…</td><td>412</td><td>&quot;Agent&quot;</td></tr><tr><td>&quot;Incident closu…</td><td>&quot;2016-01-05 04:…</td><td>&quot;2016-01-05 04:…</td><td>412</td><td>&quot;Agent&quot;</td></tr><tr><td>&quot;Incident loggi…</td><td>&quot;2016-01-04 12:…</td><td>&quot;2016-01-04 12:…</td><td>413</td><td>&quot;Agent&quot;</td></tr><tr><td>&quot;Incident class…</td><td>&quot;2016-01-04 12:…</td><td>&quot;2016-01-04 12:…</td><td>413</td><td>&quot;Agent&quot;</td></tr><tr><td>&quot;Initial diagno…</td><td>&quot;2016-01-04 12:…</td><td>&quot;2016-01-04 13:…</td><td>413</td><td>&quot;Agent&quot;</td></tr><tr><td>&quot;Resolution and…</td><td>&quot;2016-01-04 17:…</td><td>&quot;2016-01-04 17:…</td><td>413</td><td>&quot;Agent&quot;</td></tr><tr><td>&quot;Incident closu…</td><td>&quot;2016-01-04 17:…</td><td>&quot;2016-01-04 17:…</td><td>413</td><td>&quot;Agent&quot;</td></tr><tr><td>&hellip;</td><td>&hellip;</td><td>&hellip;</td><td>&hellip;</td><td>&hellip;</td></tr><tr><td>&quot;Resolution and…</td><td>&quot;2016-01-04 17:…</td><td>&quot;2016-01-04 18:…</td><td>407</td><td>&quot;Agent&quot;</td></tr><tr><td>&quot;Incident closu…</td><td>&quot;2016-01-04 18:…</td><td>&quot;2016-01-04 18:…</td><td>407</td><td>&quot;Agent&quot;</td></tr><tr><td>&quot;Incident loggi…</td><td>&quot;2016-01-04 13:…</td><td>&quot;2016-01-04 14:…</td><td>408</td><td>&quot;Agent&quot;</td></tr><tr><td>&quot;Incident class…</td><td>&quot;2016-01-04 14:…</td><td>&quot;2016-01-04 14:…</td><td>408</td><td>&quot;Agent&quot;</td></tr><tr><td>&quot;Initial diagno…</td><td>&quot;2016-01-04 14:…</td><td>&quot;2016-01-04 14:…</td><td>408</td><td>&quot;Agent&quot;</td></tr><tr><td>&quot;Resolution and…</td><td>&quot;2016-01-04 20:…</td><td>&quot;2016-01-04 21:…</td><td>408</td><td>&quot;Agent&quot;</td></tr><tr><td>&quot;Incident closu…</td><td>&quot;2016-01-04 21:…</td><td>&quot;2016-01-04 21:…</td><td>408</td><td>&quot;Agent&quot;</td></tr><tr><td>&quot;Incident loggi…</td><td>&quot;2016-01-04 13:…</td><td>&quot;2016-01-04 13:…</td><td>409</td><td>&quot;Agent&quot;</td></tr><tr><td>&quot;Incident class…</td><td>&quot;2016-01-04 13:…</td><td>&quot;2016-01-04 13:…</td><td>409</td><td>&quot;Agent&quot;</td></tr><tr><td>&quot;Initial diagno…</td><td>&quot;2016-01-04 13:…</td><td>&quot;2016-01-04 13:…</td><td>409</td><td>&quot;Agent&quot;</td></tr><tr><td>&quot;Resolution and…</td><td>&quot;2016-01-04 16:…</td><td>&quot;2016-01-04 16:…</td><td>409</td><td>&quot;Agent&quot;</td></tr><tr><td>&quot;Incident closu…</td><td>&quot;2016-01-04 16:…</td><td>&quot;2016-01-04 17:…</td><td>409</td><td>&quot;Agent&quot;</td></tr></tbody></table></div>"
      ],
      "text/plain": [
       "shape: (11_674, 5)\n",
       "┌─────────────────────────┬─────────────────────┬─────────────────────┬────────┬───────┐\n",
       "│ Action                  ┆ Start               ┆ Complete            ┆ CaseID ┆ Rolle │\n",
       "│ ---                     ┆ ---                 ┆ ---                 ┆ ---    ┆ ---   │\n",
       "│ str                     ┆ str                 ┆ str                 ┆ i64    ┆ str   │\n",
       "╞═════════════════════════╪═════════════════════╪═════════════════════╪════════╪═══════╡\n",
       "│ Incident logging        ┆ 2016-01-04 12:09:44 ┆ 2016-01-04 12:09:44 ┆ 412    ┆ Agent │\n",
       "│ Incident classification ┆ 2016-01-04 12:10:44 ┆ 2016-01-04 12:17:44 ┆ 412    ┆ Agent │\n",
       "│ Initial diagnosis       ┆ 2016-01-04 12:34:44 ┆ 2016-01-04 12:39:44 ┆ 412    ┆ Agent │\n",
       "│ Functional escalation   ┆ 2016-01-04 12:41:44 ┆ 2016-01-04 12:48:44 ┆ 412    ┆ Agent │\n",
       "│ …                       ┆ …                   ┆ …                   ┆ …      ┆ …     │\n",
       "│ Incident classification ┆ 2016-01-04 13:27:44 ┆ 2016-01-04 13:33:44 ┆ 409    ┆ Agent │\n",
       "│ Initial diagnosis       ┆ 2016-01-04 13:40:44 ┆ 2016-01-04 13:54:44 ┆ 409    ┆ Agent │\n",
       "│ Resolution and recovery ┆ 2016-01-04 16:16:44 ┆ 2016-01-04 16:44:44 ┆ 409    ┆ Agent │\n",
       "│ Incident closure        ┆ 2016-01-04 16:45:44 ┆ 2016-01-04 17:06:44 ┆ 409    ┆ Agent │\n",
       "└─────────────────────────┴─────────────────────┴─────────────────────┴────────┴───────┘"
      ]
     },
     "execution_count": 240,
     "metadata": {},
     "output_type": "execute_result"
    }
   ],
   "source": [
    "frame"
   ]
  },
  {
   "cell_type": "code",
   "execution_count": 241,
   "metadata": {},
   "outputs": [],
   "source": [
    "#def attribute_search(\n",
    "frame = frame\n",
    "query = \"v\"\n",
    "types = {pl.Utf8, pl.Int32}\n",
    "attribute_name= \"Agent\" #: str | None = None) -> AttributeSearchResult:\n"
   ]
  },
  {
   "cell_type": "code",
   "execution_count": 242,
   "metadata": {},
   "outputs": [
    {
     "data": {
      "text/html": [
       "dtype_columns([Utf8, Int32])"
      ],
      "text/plain": [
       "cs.by_dtype(dtypes=[Utf8, Int32])"
      ]
     },
     "execution_count": 242,
     "metadata": {},
     "output_type": "execute_result"
    }
   ],
   "source": [
    "cs.by_dtype(types)"
   ]
  },
  {
   "cell_type": "code",
   "execution_count": 243,
   "metadata": {},
   "outputs": [
    {
     "data": {
      "text/html": [
       "SELECTOR"
      ],
      "text/plain": [
       "~cs.by_name('Action', 'Complete', 'Duration', 'VariantHash', 'NextCaseId', 'NextAction', 'Start', 'NextStart', 'CaseID')"
      ]
     },
     "execution_count": 243,
     "metadata": {},
     "output_type": "execute_result"
    }
   ],
   "source": [
    "~cs.by_name(_special_column_names)"
   ]
  },
  {
   "cell_type": "code",
   "execution_count": 244,
   "metadata": {},
   "outputs": [
    {
     "data": {
      "text/html": [
       "SELECTOR"
      ],
      "text/plain": [
       "(cs.by_dtype(dtypes=[Utf8, Int32]) & ~cs.by_name('Action', 'Complete', 'Duration', 'VariantHash', 'NextCaseId', 'NextAction', 'Start', 'NextStart', 'CaseID'))"
      ]
     },
     "execution_count": 244,
     "metadata": {},
     "output_type": "execute_result"
    }
   ],
   "source": [
    "\n",
    "column_selector = cs.by_dtype(types) & ~cs.by_name(_special_column_names)\n",
    "column_selector"
   ]
  },
  {
   "cell_type": "code",
   "execution_count": 245,
   "metadata": {},
   "outputs": [
    {
     "data": {
      "text/html": [
       "SELECTOR"
      ],
      "text/plain": [
       "((cs.by_dtype(dtypes=[Utf8, Int32]) & ~cs.by_name('Action', 'Complete', 'Duration', 'VariantHash', 'NextCaseId', 'NextAction', 'Start', 'NextStart', 'CaseID')) & cs.by_name('Agent'))"
      ]
     },
     "execution_count": 245,
     "metadata": {},
     "output_type": "execute_result"
    }
   ],
   "source": [
    "if attribute_name is not None:\n",
    "    column_selector = column_selector & cs.by_name(attribute_name)\n",
    "column_selector"
   ]
  },
  {
   "cell_type": "code",
   "execution_count": 246,
   "metadata": {},
   "outputs": [
    {
     "name": "stderr",
     "output_type": "stream",
     "text": [
      "/var/folders/df/73ltgcz51lzg9c11q7tfp_000000gp/T/ipykernel_78777/1925723194.py:6: DeprecationWarning: `map_alias` is deprecated. It has been moved to `name.map`.\n",
      "  .map_alias(lambda x: x + \"_match\"),\n"
     ]
    },
    {
     "data": {
      "text/html": [
       "<div><style>\n",
       ".dataframe > thead > tr > th,\n",
       ".dataframe > tbody > tr > td {\n",
       "  text-align: right;\n",
       "  white-space: pre-wrap;\n",
       "}\n",
       "</style>\n",
       "<small>shape: (0, 0)</small><table border=\"1\" class=\"dataframe\"><thead><tr></tr><tr></tr></thead><tbody></tbody></table></div>"
      ],
      "text/plain": [
       "shape: (0, 0)\n",
       "┌┐\n",
       "╞╡\n",
       "└┘"
      ]
     },
     "execution_count": 246,
     "metadata": {},
     "output_type": "execute_result"
    }
   ],
   "source": [
    "match_frame = frame.select(\n",
    "    column_selector,\n",
    "    column_selector.cast(pl.Utf8)\n",
    "    .str.to_lowercase()\n",
    "    .str.contains(query.lower(), literal=True)\n",
    "    .map_alias(lambda x: x + \"_match\"),\n",
    ")\n",
    "match_frame#.collect()"
   ]
  },
  {
   "cell_type": "code",
   "execution_count": 247,
   "metadata": {},
   "outputs": [],
   "source": [
    "query='W'"
   ]
  },
  {
   "cell_type": "code",
   "execution_count": 248,
   "metadata": {},
   "outputs": [
    {
     "data": {
      "text/plain": [
       "set()"
      ]
     },
     "execution_count": 248,
     "metadata": {},
     "output_type": "execute_result"
    }
   ],
   "source": [
    "attrs_matched_by_name = set(\n",
    "    cs.expand_selector(\n",
    "        frame,\n",
    "        column_selector & cs.matches(f\"(?i).*{query}.*\"),\n",
    "    )\n",
    ")\n",
    "attrs_matched_by_name"
   ]
  },
  {
   "cell_type": "markdown",
   "metadata": {},
   "source": [
    "# aws workshop - create code with AI"
   ]
  },
  {
   "cell_type": "code",
   "execution_count": 249,
   "metadata": {},
   "outputs": [
    {
     "name": "stdout",
     "output_type": "stream",
     "text": [
      "sales.csv has been created!\n"
     ]
    }
   ],
   "source": [
    "# create sales.csv file\n",
    "import csv\n",
    "\n",
    "data = [\n",
    "    [\"date\", \"product_id\", \"price\", \"units_sold\"],\n",
    "    [\"2023-01-01\", \"P001\", 50, 20],\n",
    "    [\"2023-01-02\", \"P002\", 60, 15],\n",
    "    [\"2023-01-03\", \"P001\", 50, 18],\n",
    "    [\"2023-01-04\", \"P003\", 70, 30],\n",
    "    [\"2023-01-05\", \"P001\", 50, 25],\n",
    "    [\"2023-01-06\", \"P002\", 60, 22],\n",
    "    [\"2023-01-07\", \"P003\", 70, 24],\n",
    "    [\"2023-01-08\", \"P001\", 50, 28],\n",
    "    [\"2023-01-09\", \"P002\", 60, 17],\n",
    "    [\"2023-01-10\", \"P003\", 70, 29],\n",
    "    [\"2023-02-11\", \"P001\", 50, 23],\n",
    "    [\"2023-02-12\", \"P002\", 60, 19],\n",
    "    [\"2023-02-13\", \"P001\", 50, 21],\n",
    "    [\"2023-02-14\", \"P003\", 70, 31],\n",
    "    [\"2023-03-15\", \"P001\", 50, 26],\n",
    "    [\"2023-03-16\", \"P002\", 60, 20],\n",
    "    [\"2023-03-17\", \"P003\", 70, 33],\n",
    "    [\"2023-04-18\", \"P001\", 50, 27],\n",
    "    [\"2023-04-19\", \"P002\", 60, 18],\n",
    "    [\"2023-04-20\", \"P003\", 70, 32],\n",
    "    [\"2023-04-21\", \"P001\", 50, 22],\n",
    "    [\"2023-04-22\", \"P002\", 60, 16],\n",
    "    [\"2023-04-23\", \"P003\", 70, 34],\n",
    "    [\"2023-05-24\", \"P001\", 50, 24],\n",
    "    [\"2023-05-25\", \"P002\", 60, 21]\n",
    "]\n",
    "\n",
    "# Write data to sales.csv\n",
    "with open('sales.csv', 'w', newline='') as csvfile:\n",
    "    writer = csv.writer(csvfile)\n",
    "    writer.writerows(data)\n",
    "\n",
    "print(\"sales.csv has been created!\")"
   ]
  },
  {
   "cell_type": "markdown",
   "metadata": {},
   "source": [
    "### promt into chatGPT\n",
    "You have a CSV, sales.csv, with columns:\n",
    "- date (YYYY-MM-DD)\n",
    "- product_id\n",
    "- price\n",
    "- units_sold\n",
    "\n",
    "Create a python program to analyze the sales data from a CSV file. The program should be able to read the data, and determine below:\n",
    "\n",
    "- Total revenue for the year\n",
    "- The product with the highest revenue\n",
    "- The date with the highest revenue\n",
    "- Visualize monthly sales using a bar chart\n",
    "\n",
    "Ensure the code is syntactically correct, bug-free, optimized, not span multiple lines unnessarily, and prefer to use standard libraries. Return only python code without any surrounding text, explanation or context."
   ]
  },
  {
   "cell_type": "code",
   "execution_count": 250,
   "metadata": {},
   "outputs": [
    {
     "name": "stdout",
     "output_type": "stream",
     "text": [
      "Total Revenue for the Year: 35490.0\n",
      "Product with Highest Revenue: P003\n",
      "Date with Highest Revenue: 2023-04-23\n"
     ]
    },
    {
     "data": {
      "image/png": "[encoded data removed]",
      "text/plain": [
       "<Figure size 640x480 with 1 Axes>"
      ]
     },
     "metadata": {},
     "output_type": "display_data"
    }
   ],
   "source": [
    "\n",
    "# This code was generated with chatGPT from the prompt above\n",
    "import csv\n",
    "import matplotlib.pyplot as plt\n",
    "from collections import defaultdict\n",
    "\n",
    "# Initialize variables to track total revenue and store data for analysis\n",
    "total_revenue = 0\n",
    "product_revenue = defaultdict(float)\n",
    "date_revenue = defaultdict(float)\n",
    "monthly_sales = defaultdict(float)\n",
    "\n",
    "# Read and analyze the sales data from the CSV file\n",
    "with open('sales.csv', 'r') as file:\n",
    "    reader = csv.DictReader(file)\n",
    "    for row in reader:\n",
    "        date = row['date']\n",
    "        product_id = row['product_id']\n",
    "        price = float(row['price'])\n",
    "        units_sold = int(row['units_sold'])\n",
    "        \n",
    "        # Calculate revenue for each sale and update the relevant variables\n",
    "        revenue = price * units_sold\n",
    "        total_revenue += revenue\n",
    "        product_revenue[product_id] += revenue\n",
    "        date_revenue[date] += revenue\n",
    "        \n",
    "        # Extract the month from the date and update monthly sales\n",
    "        year_month = date[:7]\n",
    "        monthly_sales[year_month] += revenue\n",
    "\n",
    "# Find the product with the highest revenue\n",
    "highest_revenue_product = max(product_revenue, key=product_revenue.get)\n",
    "\n",
    "# Find the date with the highest revenue\n",
    "highest_revenue_date = max(date_revenue, key=date_revenue.get)\n",
    "\n",
    "# Print total revenue, highest revenue product, and highest revenue date\n",
    "print(\"Total Revenue for the Year:\", total_revenue)\n",
    "print(\"Product with Highest Revenue:\", highest_revenue_product)\n",
    "print(\"Date with Highest Revenue:\", highest_revenue_date)\n",
    "\n",
    "# Visualize monthly sales using a bar chart\n",
    "months = list(monthly_sales.keys())\n",
    "revenues = [monthly_sales[month] for month in months]\n",
    "\n",
    "plt.bar(months, revenues)\n",
    "plt.xlabel(\"Month\")\n",
    "plt.ylabel(\"Revenue\")\n",
    "plt.title(\"Monthly Sales Revenue\")\n",
    "plt.xticks(rotation=45)\n",
    "plt.show()\n"
   ]
  },
  {
   "cell_type": "markdown",
   "metadata": {},
   "source": [
    "# More tests"
   ]
  },
  {
   "cell_type": "code",
   "execution_count": 251,
   "metadata": {},
   "outputs": [],
   "source": [
    "CASE_ID = \"CaseID\"\n",
    "ACTION = \"Action\"\n",
    "ACTION_LABEL = \"ActionLabel\"\n",
    "START = \"Start\"\n",
    "COMPLETE = \"Complete\"\n",
    "\n",
    "CATEGORICAL_ATTRS = \"CategoricalAttrs\"\n",
    "\n",
    "NEXT_CASE_ID = \"NextCaseID\"\n",
    "NEXT_ACTION = \"NextAction\"\n",
    "NEXT_START = \"NextStart\"\n",
    "\n",
    "DURATION = \"Duration\"\n",
    "MEAN_DURATION = \"MeanDuration\"\n",
    "COUNT = \"Count\"\n",
    "TOTAL_DURATION = \"TotalDuration\"\n",
    "AVG_DURATION = \"AvgDuration\"\n",
    "\n",
    "VARIANT = \"Variant\"\n",
    "VARIANT_GROUP = \"VariantGroup\"\n",
    "FREQUENCY = \"Freq\"\n",
    "VARIANT_HASH = \"VariantHash\"\n",
    "\n",
    "EVENTS_PARQUET = \"events.parquet\"\n",
    "VARIANTS_PARQUET = \"variants.parquet\"\n",
    "CASE_ATTRIBUTES_PARQUET = \"case_attributes.parquet\""
   ]
  },
  {
   "cell_type": "code",
   "execution_count": 252,
   "metadata": {},
   "outputs": [],
   "source": [
    "events = pl.DataFrame(\n",
    "        {\n",
    "            \"Action\": [\n",
    "                \"Incident logging\",\n",
    "                \"Incident classification\",\n",
    "                \"Functional escalation\",\n",
    "                \"Functional escalation\",\n",
    "            ],\n",
    "            \"Duration\": [\"1000\", \"1000\", \"2000\", \"2000\"],\n",
    "            \"Start\": [1000, 1500, 1500, 1250],\n",
    "            \"Complete\": [2000, 2500, 3500, 3250],\n",
    "            \"CaseID\": [1, 1, 2, 3],\n",
    "        }\n",
    "    ).select(\n",
    "        pl.col(\"Action\"),\n",
    "        pl.col(\"Duration\"),#.cast(pl.Duration(\"ms\")),\n",
    "        pl.col(\"Start\"),\n",
    "        pl.col(\"Complete\"),\n",
    "        pl.col(\"CaseID\"),\n",
    "    )"
   ]
  },
  {
   "cell_type": "code",
   "execution_count": 253,
   "metadata": {},
   "outputs": [],
   "source": [
    "events = pl.LazyFrame(\n",
    "        {\n",
    "            \"Action\": [\n",
    "                \"Incident logging\",\n",
    "                \"Incident classification\",\n",
    "                \"Functional escalation\",\n",
    "                \"Functional escalation\",\n",
    "            ],\n",
    "            \"Start\": [1000, 1500, 1500, 1250],\n",
    "            \"Complete\": [6000, 2500, 3500, 5550],\n",
    "            \"CaseID\": [1, 2, 3, 4],\n",
    "        }\n",
    "    ).with_columns((pl.col(\"Complete\")-pl.col(\"Start\")).alias(\"Duration\"))"
   ]
  },
  {
   "cell_type": "code",
   "execution_count": 254,
   "metadata": {},
   "outputs": [
    {
     "data": {
      "text/html": [
       "<div><style>\n",
       ".dataframe > thead > tr > th,\n",
       ".dataframe > tbody > tr > td {\n",
       "  text-align: right;\n",
       "  white-space: pre-wrap;\n",
       "}\n",
       "</style>\n",
       "<small>shape: (4, 5)</small><table border=\"1\" class=\"dataframe\"><thead><tr><th>Action</th><th>Start</th><th>Complete</th><th>CaseID</th><th>Duration</th></tr><tr><td>str</td><td>i64</td><td>i64</td><td>i64</td><td>i64</td></tr></thead><tbody><tr><td>&quot;Incident loggi…</td><td>1000</td><td>6000</td><td>1</td><td>5000</td></tr><tr><td>&quot;Incident class…</td><td>1500</td><td>2500</td><td>2</td><td>1000</td></tr><tr><td>&quot;Functional esc…</td><td>1500</td><td>3500</td><td>3</td><td>2000</td></tr><tr><td>&quot;Functional esc…</td><td>1250</td><td>5550</td><td>4</td><td>4300</td></tr></tbody></table></div>"
      ],
      "text/plain": [
       "shape: (4, 5)\n",
       "┌─────────────────────────┬───────┬──────────┬────────┬──────────┐\n",
       "│ Action                  ┆ Start ┆ Complete ┆ CaseID ┆ Duration │\n",
       "│ ---                     ┆ ---   ┆ ---      ┆ ---    ┆ ---      │\n",
       "│ str                     ┆ i64   ┆ i64      ┆ i64    ┆ i64      │\n",
       "╞═════════════════════════╪═══════╪══════════╪════════╪══════════╡\n",
       "│ Incident logging        ┆ 1000  ┆ 6000     ┆ 1      ┆ 5000     │\n",
       "│ Incident classification ┆ 1500  ┆ 2500     ┆ 2      ┆ 1000     │\n",
       "│ Functional escalation   ┆ 1500  ┆ 3500     ┆ 3      ┆ 2000     │\n",
       "│ Functional escalation   ┆ 1250  ┆ 5550     ┆ 4      ┆ 4300     │\n",
       "└─────────────────────────┴───────┴──────────┴────────┴──────────┘"
      ]
     },
     "execution_count": 254,
     "metadata": {},
     "output_type": "execute_result"
    }
   ],
   "source": [
    "events.collect()"
   ]
  },
  {
   "cell_type": "code",
   "execution_count": 255,
   "metadata": {},
   "outputs": [],
   "source": [
    "case_attributes = pl.LazyFrame(\n",
    "    {\"CaseID\": [1, 2, 3, 4], \"Kunde\": [\"Siemens\", \"Bosch\", \"BMW\", \"Daimler\"]}\n",
    "    )\n",
    "expected_case_attributes = pl.LazyFrame(\n",
    "    {\"CaseID\": [2, 3], \"Kunde\": [\"Bosch\", \"BMW\"]}\n",
    "    )"
   ]
  },
  {
   "cell_type": "code",
   "execution_count": 256,
   "metadata": {},
   "outputs": [],
   "source": [
    "def filtered_case_ids(\n",
    "    events: pl.LazyFrame, activity: str, min_ms: int | None, max_ms: int | None, inverted: bool\n",
    ") -> pl.LazyFrame:\n",
    "    \"\"\"\n",
    "    Returns case ids of the cases that contain a specified activity within the given durations.\n",
    "\n",
    "    If the filter is inverted, the cases should not contain the specified activity.\n",
    "    \"\"\"\n",
    "    # Swap min_ms and max_ms if min_ms is greater than max_ms\n",
    "    if min_ms is not None and max_ms is not None and min_ms > max_ms:\n",
    "        min_ms, max_ms = max_ms, min_ms\n",
    "\n",
    "    cases_with_activity_and_duration = (\n",
    "        events.filter(\n",
    "            (pl.col(ACTION) == activity) & \n",
    "            (pl.col(DURATION) >= min_ms if min_ms is not None else True) & \n",
    "            (pl.col(DURATION) <= max_ms if max_ms is not None else True)\n",
    "        ).unique(CASE_ID).select(CASE_ID)\n",
    "    )\n",
    "\n",
    "    if inverted:\n",
    "        # TODO anti join is not streaming yet https://github.com/pola-rs/polars/issues/6278\n",
    "        cases_without_activity_or_duration = (\n",
    "            events.filter(\n",
    "                (pl.col(ACTION) != activity) &\n",
    "                (pl.col(DURATION) < min_ms if min_ms is not None else True) &\n",
    "                (pl.col(DURATION) > max_ms if max_ms is not None else True)\n",
    "            ).unique(CASE_ID).select(CASE_ID)\n",
    "        )\n",
    "\n",
    "        # Performing an anti-join to get cases without the specified activity and duration\n",
    "        result = cases_without_activity_or_duration.join(cases_with_activity_and_duration, on=CASE_ID, how=\"anti\")\n",
    "        \n",
    "        return result\n",
    "    else:\n",
    "        return cases_with_activity_and_duration\n"
   ]
  },
  {
   "cell_type": "code",
   "execution_count": 257,
   "metadata": {},
   "outputs": [],
   "source": [
    "def apply_case_activity_duration_filter(\n",
    "    events: pl.LazyFrame, case_attributes: pl.LazyFrame, activity: str, min_ms: int | None, max_ms: int | None, inverted: bool\n",
    ") -> pl.LazyFrame:\n",
    "    return case_attributes.join(filtered_case_ids(events, activity, min_ms, max_ms, inverted), on=CASE_ID, how=\"semi\")"
   ]
  },
  {
   "cell_type": "code",
   "execution_count": 258,
   "metadata": {},
   "outputs": [
    {
     "data": {
      "text/html": [
       "<div><style>\n",
       ".dataframe > thead > tr > th,\n",
       ".dataframe > tbody > tr > td {\n",
       "  text-align: right;\n",
       "  white-space: pre-wrap;\n",
       "}\n",
       "</style>\n",
       "<small>shape: (4, 5)</small><table border=\"1\" class=\"dataframe\"><thead><tr><th>Action</th><th>Start</th><th>Complete</th><th>CaseID</th><th>Duration</th></tr><tr><td>str</td><td>i64</td><td>i64</td><td>i64</td><td>i64</td></tr></thead><tbody><tr><td>&quot;Incident loggi…</td><td>1000</td><td>6000</td><td>1</td><td>5000</td></tr><tr><td>&quot;Incident class…</td><td>1500</td><td>2500</td><td>2</td><td>1000</td></tr><tr><td>&quot;Functional esc…</td><td>1500</td><td>3500</td><td>3</td><td>2000</td></tr><tr><td>&quot;Functional esc…</td><td>1250</td><td>5550</td><td>4</td><td>4300</td></tr></tbody></table></div>"
      ],
      "text/plain": [
       "shape: (4, 5)\n",
       "┌─────────────────────────┬───────┬──────────┬────────┬──────────┐\n",
       "│ Action                  ┆ Start ┆ Complete ┆ CaseID ┆ Duration │\n",
       "│ ---                     ┆ ---   ┆ ---      ┆ ---    ┆ ---      │\n",
       "│ str                     ┆ i64   ┆ i64      ┆ i64    ┆ i64      │\n",
       "╞═════════════════════════╪═══════╪══════════╪════════╪══════════╡\n",
       "│ Incident logging        ┆ 1000  ┆ 6000     ┆ 1      ┆ 5000     │\n",
       "│ Incident classification ┆ 1500  ┆ 2500     ┆ 2      ┆ 1000     │\n",
       "│ Functional escalation   ┆ 1500  ┆ 3500     ┆ 3      ┆ 2000     │\n",
       "│ Functional escalation   ┆ 1250  ┆ 5550     ┆ 4      ┆ 4300     │\n",
       "└─────────────────────────┴───────┴──────────┴────────┴──────────┘"
      ]
     },
     "execution_count": 258,
     "metadata": {},
     "output_type": "execute_result"
    }
   ],
   "source": [
    "events.collect()"
   ]
  },
  {
   "cell_type": "code",
   "execution_count": 259,
   "metadata": {},
   "outputs": [
    {
     "name": "stdout",
     "output_type": "stream",
     "text": [
      "shape: (4, 1)\n",
      "┌─────────────────────────┐\n",
      "│ Action                  │\n",
      "│ ---                     │\n",
      "│ str                     │\n",
      "╞═════════════════════════╡\n",
      "│ Incident logging        │\n",
      "│ Incident classification │\n",
      "│ Functional escalation   │\n",
      "│ Functional escalation   │\n",
      "└─────────────────────────┘\n"
     ]
    }
   ],
   "source": [
    "print(events.collect().select(\"Action\"))"
   ]
  },
  {
   "cell_type": "code",
   "execution_count": 260,
   "metadata": {},
   "outputs": [],
   "source": [
    "case_attributes = pl.LazyFrame(\n",
    "    {\"CaseID\": [1, 2, 3, 4], \"Kunde\": [\"Siemens\", \"Bosch\", \"BMW\", \"Daimler\"]}\n",
    "    )\n",
    "expected_case_attributes = pl.LazyFrame(\n",
    "    {\"CaseID\": [2, 3], \"Kunde\": [\"Bosch\", \"BMW\"]}\n",
    "    )"
   ]
  },
  {
   "cell_type": "code",
   "execution_count": 261,
   "metadata": {},
   "outputs": [
    {
     "data": {
      "text/html": [
       "<div><style>\n",
       ".dataframe > thead > tr > th,\n",
       ".dataframe > tbody > tr > td {\n",
       "  text-align: right;\n",
       "  white-space: pre-wrap;\n",
       "}\n",
       "</style>\n",
       "<small>shape: (3, 2)</small><table border=\"1\" class=\"dataframe\"><thead><tr><th>CaseID</th><th>Kunde</th></tr><tr><td>i64</td><td>str</td></tr></thead><tbody><tr><td>2</td><td>&quot;Bosch&quot;</td></tr><tr><td>3</td><td>&quot;BMW&quot;</td></tr><tr><td>4</td><td>&quot;Daimler&quot;</td></tr></tbody></table></div>"
      ],
      "text/plain": [
       "shape: (3, 2)\n",
       "┌────────┬─────────┐\n",
       "│ CaseID ┆ Kunde   │\n",
       "│ ---    ┆ ---     │\n",
       "│ i64    ┆ str     │\n",
       "╞════════╪═════════╡\n",
       "│ 2      ┆ Bosch   │\n",
       "│ 3      ┆ BMW     │\n",
       "│ 4      ┆ Daimler │\n",
       "└────────┴─────────┘"
      ]
     },
     "execution_count": 261,
     "metadata": {},
     "output_type": "execute_result"
    }
   ],
   "source": [
    "apply_case_activity_duration_filter(\n",
    "            events, case_attributes, \"Incident logging\", None, None, True\n",
    "        ).collect()"
   ]
  },
  {
   "cell_type": "code",
   "execution_count": 262,
   "metadata": {},
   "outputs": [
    {
     "data": {
      "text/html": [
       "col(\"Duration\")"
      ],
      "text/plain": [
       "<polars.expr.expr.Expr at 0x13a39bd60>"
      ]
     },
     "execution_count": 262,
     "metadata": {},
     "output_type": "execute_result"
    }
   ],
   "source": [
    "pl.col(DURATION)"
   ]
  },
  {
   "cell_type": "code",
   "execution_count": 280,
   "metadata": {},
   "outputs": [
    {
     "data": {
      "text/html": [
       "<div><style>\n",
       ".dataframe > thead > tr > th,\n",
       ".dataframe > tbody > tr > td {\n",
       "  text-align: right;\n",
       "  white-space: pre-wrap;\n",
       "}\n",
       "</style>\n",
       "<small>shape: (1, 1)</small><table border=\"1\" class=\"dataframe\"><thead><tr><th>CaseID</th></tr><tr><td>i64</td></tr></thead><tbody><tr><td>3</td></tr></tbody></table></div>"
      ],
      "text/plain": [
       "shape: (1, 1)\n",
       "┌────────┐\n",
       "│ CaseID │\n",
       "│ ---    │\n",
       "│ i64    │\n",
       "╞════════╡\n",
       "│ 3      │\n",
       "└────────┘"
      ]
     },
     "execution_count": 280,
     "metadata": {},
     "output_type": "execute_result"
    }
   ],
   "source": [
    "# not-inverted\n",
    "activity = \"Functional escalation\"\n",
    "min_ms = 1500\n",
    "max_ms = 4000\n",
    "events.filter(\n",
    "            (pl.col(ACTION) == activity) & \n",
    "            (pl.col(DURATION) >= min_ms if min_ms is not None else True) & \n",
    "            (pl.col(DURATION) <= max_ms if max_ms is not None else True) \n",
    "        ).unique(CASE_ID).select(CASE_ID).collect()"
   ]
  },
  {
   "cell_type": "code",
   "execution_count": 264,
   "metadata": {},
   "outputs": [
    {
     "name": "stdout",
     "output_type": "stream",
     "text": [
      "shape: (2, 5)\n",
      "┌───────────────────────┬───────┬──────────┬────────┬──────────┐\n",
      "│ Action                ┆ Start ┆ Complete ┆ CaseID ┆ Duration │\n",
      "│ ---                   ┆ ---   ┆ ---      ┆ ---    ┆ ---      │\n",
      "│ str                   ┆ i64   ┆ i64      ┆ i64    ┆ i64      │\n",
      "╞═══════════════════════╪═══════╪══════════╪════════╪══════════╡\n",
      "│ Functional escalation ┆ 1500  ┆ 3500     ┆ 3      ┆ 2000     │\n",
      "│ Functional escalation ┆ 1250  ┆ 5550     ┆ 4      ┆ 4300     │\n",
      "└───────────────────────┴───────┴──────────┴────────┴──────────┘\n",
      "shape: (4, 5)\n",
      "┌─────────────────────────┬───────┬──────────┬────────┬──────────┐\n",
      "│ Action                  ┆ Start ┆ Complete ┆ CaseID ┆ Duration │\n",
      "│ ---                     ┆ ---   ┆ ---      ┆ ---    ┆ ---      │\n",
      "│ str                     ┆ i64   ┆ i64      ┆ i64    ┆ i64      │\n",
      "╞═════════════════════════╪═══════╪══════════╪════════╪══════════╡\n",
      "│ Incident logging        ┆ 1000  ┆ 6000     ┆ 1      ┆ 5000     │\n",
      "│ Incident classification ┆ 1500  ┆ 2500     ┆ 2      ┆ 1000     │\n",
      "│ Functional escalation   ┆ 1500  ┆ 3500     ┆ 3      ┆ 2000     │\n",
      "│ Functional escalation   ┆ 1250  ┆ 5550     ┆ 4      ┆ 4300     │\n",
      "└─────────────────────────┴───────┴──────────┴────────┴──────────┘\n",
      "shape: (4, 5)\n",
      "┌─────────────────────────┬───────┬──────────┬────────┬──────────┐\n",
      "│ Action                  ┆ Start ┆ Complete ┆ CaseID ┆ Duration │\n",
      "│ ---                     ┆ ---   ┆ ---      ┆ ---    ┆ ---      │\n",
      "│ str                     ┆ i64   ┆ i64      ┆ i64    ┆ i64      │\n",
      "╞═════════════════════════╪═══════╪══════════╪════════╪══════════╡\n",
      "│ Incident logging        ┆ 1000  ┆ 6000     ┆ 1      ┆ 5000     │\n",
      "│ Incident classification ┆ 1500  ┆ 2500     ┆ 2      ┆ 1000     │\n",
      "│ Functional escalation   ┆ 1500  ┆ 3500     ┆ 3      ┆ 2000     │\n",
      "│ Functional escalation   ┆ 1250  ┆ 5550     ┆ 4      ┆ 4300     │\n",
      "└─────────────────────────┴───────┴──────────┴────────┴──────────┘\n"
     ]
    }
   ],
   "source": [
    "print(events.filter(pl.col(ACTION) == activity).collect())\n",
    "print(events.filter(pl.col(DURATION) >= min_ms if min_ms is not None else True).collect())\n",
    "print(events.filter(pl.col(DURATION) <= max_ms if max_ms is not None else True).collect())"
   ]
  },
  {
   "cell_type": "code",
   "execution_count": 290,
   "metadata": {},
   "outputs": [
    {
     "name": "stdout",
     "output_type": "stream",
     "text": [
      "ok\n"
     ]
    }
   ],
   "source": [
    "if min_ms == max_ms:\n",
    "    print('ok') \n",
    "else: \n",
    "    print(True)"
   ]
  },
  {
   "cell_type": "code",
   "execution_count": 292,
   "metadata": {},
   "outputs": [
    {
     "data": {
      "text/html": [
       "<div><style>\n",
       ".dataframe > thead > tr > th,\n",
       ".dataframe > tbody > tr > td {\n",
       "  text-align: right;\n",
       "  white-space: pre-wrap;\n",
       "}\n",
       "</style>\n",
       "<small>shape: (2, 1)</small><table border=\"1\" class=\"dataframe\"><thead><tr><th>CaseID</th></tr><tr><td>i64</td></tr></thead><tbody><tr><td>2</td></tr><tr><td>1</td></tr></tbody></table></div>"
      ],
      "text/plain": [
       "shape: (2, 1)\n",
       "┌────────┐\n",
       "│ CaseID │\n",
       "│ ---    │\n",
       "│ i64    │\n",
       "╞════════╡\n",
       "│ 2      │\n",
       "│ 1      │\n",
       "└────────┘"
      ]
     },
     "execution_count": 292,
     "metadata": {},
     "output_type": "execute_result"
    }
   ],
   "source": [
    "#Inverted\n",
    "activity = \"Functional escalation\"\n",
    "min_ms = None\n",
    "max_ms = None\n",
    "cases_without_activity_or_duration = (\n",
    "        events.filter(\n",
    "            (pl.col(ACTION) != activity) & \n",
    "            (pl.col(DURATION) < min_ms if min_ms is not None else True) & \n",
    "            (pl.col(DURATION) > max_ms if max_ms is not None else True)\n",
    "        ).unique(CASE_ID).select(CASE_ID)\n",
    "    )\n",
    "cases_without_activity_or_duration.collect()"
   ]
  },
  {
   "cell_type": "code",
   "execution_count": 266,
   "metadata": {},
   "outputs": [
    {
     "name": "stdout",
     "output_type": "stream",
     "text": [
      "shape: (2, 5)\n",
      "┌─────────────────────────┬───────┬──────────┬────────┬──────────┐\n",
      "│ Action                  ┆ Start ┆ Complete ┆ CaseID ┆ Duration │\n",
      "│ ---                     ┆ ---   ┆ ---      ┆ ---    ┆ ---      │\n",
      "│ str                     ┆ i64   ┆ i64      ┆ i64    ┆ i64      │\n",
      "╞═════════════════════════╪═══════╪══════════╪════════╪══════════╡\n",
      "│ Incident logging        ┆ 1000  ┆ 6000     ┆ 1      ┆ 5000     │\n",
      "│ Incident classification ┆ 1500  ┆ 2500     ┆ 2      ┆ 1000     │\n",
      "└─────────────────────────┴───────┴──────────┴────────┴──────────┘\n",
      "shape: (0, 5)\n",
      "┌────────┬───────┬──────────┬────────┬──────────┐\n",
      "│ Action ┆ Start ┆ Complete ┆ CaseID ┆ Duration │\n",
      "│ ---    ┆ ---   ┆ ---      ┆ ---    ┆ ---      │\n",
      "│ str    ┆ i64   ┆ i64      ┆ i64    ┆ i64      │\n",
      "╞════════╪═══════╪══════════╪════════╪══════════╡\n",
      "└────────┴───────┴──────────┴────────┴──────────┘\n",
      "shape: (4, 5)\n",
      "┌─────────────────────────┬───────┬──────────┬────────┬──────────┐\n",
      "│ Action                  ┆ Start ┆ Complete ┆ CaseID ┆ Duration │\n",
      "│ ---                     ┆ ---   ┆ ---      ┆ ---    ┆ ---      │\n",
      "│ str                     ┆ i64   ┆ i64      ┆ i64    ┆ i64      │\n",
      "╞═════════════════════════╪═══════╪══════════╪════════╪══════════╡\n",
      "│ Incident logging        ┆ 1000  ┆ 6000     ┆ 1      ┆ 5000     │\n",
      "│ Incident classification ┆ 1500  ┆ 2500     ┆ 2      ┆ 1000     │\n",
      "│ Functional escalation   ┆ 1500  ┆ 3500     ┆ 3      ┆ 2000     │\n",
      "│ Functional escalation   ┆ 1250  ┆ 5550     ┆ 4      ┆ 4300     │\n",
      "└─────────────────────────┴───────┴──────────┴────────┴──────────┘\n"
     ]
    }
   ],
   "source": [
    "print(events.filter(pl.col(ACTION) != activity).collect())\n",
    "print(events.filter(pl.col(DURATION) < min_ms & (pl.col(DURATION) < max_ms)).collect() if min_ms & max_ms is not None else True)\n",
    "print(events.filter(pl.col(DURATION) > min_ms & (pl.col(DURATION) > max_ms)).collect() if min_ms & max_ms is not None else True) "
   ]
  },
  {
   "cell_type": "code",
   "execution_count": 267,
   "metadata": {},
   "outputs": [
    {
     "data": {
      "text/html": [
       "<i>naive plan: (run <b>LazyFrame.explain(optimized=True)</b> to see the optimized plan)</i>\n",
       "    <p></p>\n",
       "    <div>FILTER col(\"Action\") FROM<p></p> WITH_COLUMNS:<p></p> [[(col(\"Complete\")) - (col(\"Start\"))].alias(\"Duration\")]<p></p>  DF [\"Action\", \"Start\", \"Complete\", \"CaseID\"]; PROJECT */4 COLUMNS; SELECTION: \"None\"</div>"
      ],
      "text/plain": [
       "<LazyFrame [5 cols, {\"Action\": Utf8 … \"Duration\": Int64}] at 0x13A532170>"
      ]
     },
     "execution_count": 267,
     "metadata": {},
     "output_type": "execute_result"
    }
   ],
   "source": [
    "events.filter(pl.col(ACTION))"
   ]
  },
  {
   "cell_type": "code",
   "execution_count": 268,
   "metadata": {},
   "outputs": [
    {
     "data": {
      "text/plain": [
       "'Functional escalation'"
      ]
     },
     "execution_count": 268,
     "metadata": {},
     "output_type": "execute_result"
    }
   ],
   "source": [
    "activity"
   ]
  }
 ],
 "metadata": {
  "kernelspec": {
   "display_name": "ENGenv",
   "language": "python",
   "name": "python3"
  },
  "language_info": {
   "codemirror_mode": {
    "name": "ipython",
    "version": 3
   },
   "file_extension": ".py",
   "mimetype": "text/x-python",
   "name": "python",
   "nbconvert_exporter": "python",
   "pygments_lexer": "ipython3",
   "version": "3.10.13"
  }
 },
 "nbformat": 4,
 "nbformat_minor": 2
}
