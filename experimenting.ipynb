{
 "cells": [
  {
   "cell_type": "code",
   "execution_count": 1,
   "metadata": {},
   "outputs": [
    {
     "name": "stdout",
     "output_type": "stream",
     "text": [
      "{'value': 'Siemens', 'isMatch': True}\n",
      "{'value': 'Siemens', 'isMatch': True}\n",
      "{'value': 'Bosch', 'isMatch': False}\n",
      "{'value': 'BMW', 'isMatch': False}\n",
      "{'value': 'Daimler', 'isMatch': False}\n",
      "{'value': 'VW', 'isMatch': False}\n",
      "{'value': 'Bayer', 'isMatch': False}\n",
      "{'value': 'Porsche', 'isMatch': False}\n",
      "{'value': 'Lichtblick', 'isMatch': False}\n",
      "{'value': 'Naturstrom', 'isMatch': False}\n"
     ]
    }
   ],
   "source": [
    "data = {\n",
    "    \"values\": [\n",
    "        {\"value\": \"Siemens\", \"isMatch\": True},\n",
    "        {\"value\": \"Bosch\", \"isMatch\": False},\n",
    "        {\"value\": \"BMW\", \"isMatch\": False},\n",
    "        {\"value\": \"Daimler\", \"isMatch\": False},\n",
    "        {\"value\": \"VW\", \"isMatch\": False},\n",
    "        {\"value\": \"Bayer\", \"isMatch\": False},\n",
    "        {\"value\": \"Porsche\", \"isMatch\": False},\n",
    "        {\"value\": \"Lichtblick\", \"isMatch\": False},\n",
    "        {\"value\": \"Naturstrom\", \"isMatch\": False},\n",
    "        {\"value\": \"Siemens\", \"isMatch\": True}\n",
    "    ]\n",
    "}\n",
    "\n",
    "# Sort the list of dictionaries by \"isMatch\" in descending order\n",
    "sorted_data = sorted(data[\"values\"], key=lambda x: x[\"isMatch\"], reverse=True)\n",
    "\n",
    "# Print the sorted list\n",
    "for item in sorted_data:\n",
    "    print(item)\n"
   ]
  },
  {
   "cell_type": "code",
   "execution_count": 2,
   "metadata": {},
   "outputs": [
    {
     "data": {
      "text/plain": [
       "dict"
      ]
     },
     "execution_count": 2,
     "metadata": {},
     "output_type": "execute_result"
    }
   ],
   "source": [
    "type(data)"
   ]
  },
  {
   "cell_type": "code",
   "execution_count": 3,
   "metadata": {},
   "outputs": [
    {
     "ename": "ModuleNotFoundError",
     "evalue": "No module named 'polars'",
     "output_type": "error",
     "traceback": [
      "\u001b[0;31m---------------------------------------------------------------------------\u001b[0m",
      "\u001b[0;31mModuleNotFoundError\u001b[0m                       Traceback (most recent call last)",
      "\u001b[1;32m/Users/alberto.diazdurana/Documents/GitHub/learning_polars/experimenting.ipynb Cell 3\u001b[0m line \u001b[0;36m1\n\u001b[0;32m----> <a href='vscode-notebook-cell:/Users/alberto.diazdurana/Documents/GitHub/learning_polars/experimenting.ipynb#W2sZmlsZQ%3D%3D?line=0'>1</a>\u001b[0m \u001b[39mimport\u001b[39;00m \u001b[39mpolars\u001b[39;00m \u001b[39mas\u001b[39;00m \u001b[39mpl\u001b[39;00m\n\u001b[1;32m      <a href='vscode-notebook-cell:/Users/alberto.diazdurana/Documents/GitHub/learning_polars/experimenting.ipynb#W2sZmlsZQ%3D%3D?line=1'>2</a>\u001b[0m df \u001b[39m=\u001b[39m pl\u001b[39m.\u001b[39mDataFrame(\n\u001b[1;32m      <a href='vscode-notebook-cell:/Users/alberto.diazdurana/Documents/GitHub/learning_polars/experimenting.ipynb#W2sZmlsZQ%3D%3D?line=2'>3</a>\u001b[0m     {\u001b[39m\"\u001b[39m\u001b[39ma_match\u001b[39m\u001b[39m\"\u001b[39m: [\u001b[39m4\u001b[39m, \u001b[39m2\u001b[39m, \u001b[39m7\u001b[39m], \u001b[39m\"\u001b[39m\u001b[39mb_match\u001b[39m\u001b[39m\"\u001b[39m: [\u001b[39m1\u001b[39m, \u001b[39m2\u001b[39m, \u001b[39m3\u001b[39m], \u001b[39m\"\u001b[39m\u001b[39msome_column\u001b[39m\u001b[39m\"\u001b[39m: [\u001b[39m3\u001b[39m, \u001b[39m2\u001b[39m, \u001b[39m1\u001b[39m]}\n\u001b[1;32m      <a href='vscode-notebook-cell:/Users/alberto.diazdurana/Documents/GitHub/learning_polars/experimenting.ipynb#W2sZmlsZQ%3D%3D?line=3'>4</a>\u001b[0m )\n\u001b[1;32m      <a href='vscode-notebook-cell:/Users/alberto.diazdurana/Documents/GitHub/learning_polars/experimenting.ipynb#W2sZmlsZQ%3D%3D?line=4'>5</a>\u001b[0m df\n",
      "\u001b[0;31mModuleNotFoundError\u001b[0m: No module named 'polars'"
     ]
    }
   ],
   "source": [
    "import polars as pl\n",
    "df = pl.DataFrame(\n",
    "    {\"a_match\": [4, 2, 7], \"b_match\": [1, 2, 3], \"some_column\": [3, 2, 1]}\n",
    ")\n",
    "df\n"
   ]
  },
  {
   "cell_type": "code",
   "execution_count": null,
   "metadata": {},
   "outputs": [
    {
     "name": "stdout",
     "output_type": "stream",
     "text": [
      "shape: (3, 2)\n",
      "┌─────────┬─────────┐\n",
      "│ a_match ┆ b_match │\n",
      "│ ---     ┆ ---     │\n",
      "│ i64     ┆ i64     │\n",
      "╞═════════╪═════════╡\n",
      "│ 4       ┆ 1       │\n",
      "│ 2       ┆ 2       │\n",
      "│ 7       ┆ 3       │\n",
      "└─────────┴─────────┘\n"
     ]
    }
   ],
   "source": [
    "import polars.selectors as cs\n",
    "print(df.lazy().select(cs.ends_with(\"_match\")).collect()) # for LazyFrame"
   ]
  },
  {
   "cell_type": "code",
   "execution_count": null,
   "metadata": {},
   "outputs": [
    {
     "data": {
      "text/plain": [
       "('a_match', 'b_match')"
      ]
     },
     "execution_count": 231,
     "metadata": {},
     "output_type": "execute_result"
    }
   ],
   "source": [
    "cs.expand_selector(df.sort(\"a_match\"), cs.ends_with(\"_match\"))"
   ]
  },
  {
   "cell_type": "code",
   "execution_count": null,
   "metadata": {},
   "outputs": [],
   "source": [
    "data = pl.DataFrame({\n",
    "            \"totalCount\": 4,\n",
    "            \"results\": [\n",
    "                {\n",
    "                    \"name\": \"Rolle\",\n",
    "                    \"isMatch\": False,\n",
    "                    \"remainingMatchingValuesCount\": 11664,\n",
    "                    \"remainingNotMatchingValuesCount\": 0,\n",
    "                    \"values\": [\n",
    "                        {\"value\": \"Agent\", \"isMatch\": True},\n",
    "                        {\"value\": \"Agent\", \"isMatch\": True},\n",
    "                        {\"value\": \"Agent\", \"isMatch\": True},\n",
    "                        {\"value\": \"Agent\", \"isMatch\": True},\n",
    "                        {\"value\": \"Special Agent\", \"isMatch\": True},\n",
    "                        {\"value\": \"Agent\", \"isMatch\": True},\n",
    "                        {\"value\": \"Agent\", \"isMatch\": True},\n",
    "                        {\"value\": \"Agent\", \"isMatch\": True},\n",
    "                        {\"value\": \"Agent\", \"isMatch\": True},\n",
    "                        {\"value\": \"Agent\", \"isMatch\": True},\n",
    "                    ],\n",
    "                },\n",
    "                {\n",
    "                    \"name\": \"Classification\",\n",
    "                    \"isMatch\": True,\n",
    "                    \"remainingMatchingValuesCount\": 1696,\n",
    "                    \"remainingNotMatchingValuesCount\": 294,\n",
    "                    \"values\": [\n",
    "                        {\"value\": \"Mail\", \"isMatch\": True},\n",
    "                        {\"value\": \"Mail\", \"isMatch\": True},\n",
    "                        {\"value\": \"Citrix\", \"isMatch\": False},\n",
    "                        {\"value\": \"Mail\", \"isMatch\": True},\n",
    "                        {\"value\": \"SAP\", \"isMatch\": True},\n",
    "                        {\"value\": \"SAP\", \"isMatch\": True},\n",
    "                        {\"value\": \"SAP\", \"isMatch\": True},\n",
    "                        {\"value\": \"Intranet\", \"isMatch\": True},\n",
    "                        {\"value\": \"Mail\", \"isMatch\": True},\n",
    "                        {\"value\": \"SAP\", \"isMatch\": True},\n",
    "                    ],\n",
    "                },\n",
    "                {\n",
    "                    \"name\": \"Country\",\n",
    "                    \"isMatch\": False,\n",
    "                    \"remainingMatchingValuesCount\": 1990,\n",
    "                    \"remainingNotMatchingValuesCount\": 0,\n",
    "                    \"values\": [\n",
    "                        {\"value\": \"Germany\", \"isMatch\": True},\n",
    "                        {\"value\": \"Germany\", \"isMatch\": True},\n",
    "                        {\"value\": \"Germany\", \"isMatch\": True},\n",
    "                        {\"value\": \"Germany\", \"isMatch\": True},\n",
    "                        {\"value\": \"Germany\", \"isMatch\": True},\n",
    "                        {\"value\": \"Austria\", \"isMatch\": True},\n",
    "                        {\"value\": \"Germany\", \"isMatch\": True},\n",
    "                        {\"value\": \"Germany\", \"isMatch\": True},\n",
    "                        {\"value\": \"Austria\", \"isMatch\": True},\n",
    "                        {\"value\": \"Switzerland\", \"isMatch\": True},\n",
    "                    ],\n",
    "                },\n",
    "                {\n",
    "                    \"name\": \"Kunde\",\n",
    "                    \"isMatch\": False,\n",
    "                    \"remainingMatchingValuesCount\": 663,\n",
    "                    \"remainingNotMatchingValuesCount\": 1327,\n",
    "                    \"values\": [\n",
    "                        {\"value\": \"Siemens\", \"isMatch\": False},\n",
    "                        {\"value\": \"Bosch\", \"isMatch\": False},\n",
    "                        {\"value\": \"BMW\", \"isMatch\": False},\n",
    "                        {\"value\": \"Daimler\", \"isMatch\": True},\n",
    "                        {\"value\": \"VW\", \"isMatch\": False},\n",
    "                        {\"value\": \"Bayer\", \"isMatch\": True},\n",
    "                        {\"value\": \"Porsche\", \"isMatch\": False},\n",
    "                        {\"value\": \"Lichtblick\", \"isMatch\": False},\n",
    "                        {\"value\": \"Naturstrom\", \"isMatch\": True},\n",
    "                        {\"value\": \"Siemens\", \"isMatch\": False},\n",
    "                    ],\n",
    "                },\n",
    "            ],\n",
    "        })"
   ]
  },
  {
   "cell_type": "code",
   "execution_count": null,
   "metadata": {},
   "outputs": [
    {
     "name": "stdout",
     "output_type": "stream",
     "text": [
      "DataFrame 1:\n",
      "shape: (10, 2)\n",
      "┌───────┬─────────┐\n",
      "│ value ┆ isMatch │\n",
      "│ ---   ┆ ---     │\n",
      "│ str   ┆ bool    │\n",
      "╞═══════╪═════════╡\n",
      "│ Agent ┆ true    │\n",
      "│ Agent ┆ true    │\n",
      "│ Agent ┆ true    │\n",
      "│ Agent ┆ true    │\n",
      "│ …     ┆ …       │\n",
      "│ Agent ┆ true    │\n",
      "│ Agent ┆ true    │\n",
      "│ Agent ┆ true    │\n",
      "│ Agent ┆ true    │\n",
      "└───────┴─────────┘\n",
      "DataFrame 2:\n",
      "shape: (10, 2)\n",
      "┌──────────┬─────────┐\n",
      "│ value    ┆ isMatch │\n",
      "│ ---      ┆ ---     │\n",
      "│ str      ┆ bool    │\n",
      "╞══════════╪═════════╡\n",
      "│ Mail     ┆ true    │\n",
      "│ Mail     ┆ true    │\n",
      "│ Citrix   ┆ false   │\n",
      "│ Mail     ┆ true    │\n",
      "│ …        ┆ …       │\n",
      "│ SAP      ┆ true    │\n",
      "│ Intranet ┆ true    │\n",
      "│ Mail     ┆ true    │\n",
      "│ SAP      ┆ true    │\n",
      "└──────────┴─────────┘\n",
      "DataFrame 3:\n",
      "shape: (10, 2)\n",
      "┌─────────────┬─────────┐\n",
      "│ value       ┆ isMatch │\n",
      "│ ---         ┆ ---     │\n",
      "│ str         ┆ bool    │\n",
      "╞═════════════╪═════════╡\n",
      "│ Germany     ┆ true    │\n",
      "│ Germany     ┆ true    │\n",
      "│ Germany     ┆ true    │\n",
      "│ Germany     ┆ true    │\n",
      "│ …           ┆ …       │\n",
      "│ Germany     ┆ true    │\n",
      "│ Germany     ┆ true    │\n",
      "│ Austria     ┆ true    │\n",
      "│ Switzerland ┆ true    │\n",
      "└─────────────┴─────────┘\n",
      "DataFrame 4:\n",
      "shape: (10, 2)\n",
      "┌────────────┬─────────┐\n",
      "│ value      ┆ isMatch │\n",
      "│ ---        ┆ ---     │\n",
      "│ str        ┆ bool    │\n",
      "╞════════════╪═════════╡\n",
      "│ Siemens    ┆ false   │\n",
      "│ Bosch      ┆ false   │\n",
      "│ BMW        ┆ false   │\n",
      "│ Daimler    ┆ true    │\n",
      "│ …          ┆ …       │\n",
      "│ Porsche    ┆ false   │\n",
      "│ Lichtblick ┆ false   │\n",
      "│ Naturstrom ┆ true    │\n",
      "│ Siemens    ┆ false   │\n",
      "└────────────┴─────────┘\n"
     ]
    }
   ],
   "source": [
    "import polars as pl\n",
    "\n",
    "data = pl.DataFrame({\n",
    "    \"totalCount\": 4,\n",
    "    \"results\": [\n",
    "        {\n",
    "            \"name\": \"Rolle\",\n",
    "            \"isMatch\": False,\n",
    "            \"remainingMatchingValuesCount\": 11664,\n",
    "            \"remainingNotMatchingValuesCount\": 0,\n",
    "            \"values\": [\n",
    "                {\"value\": \"Agent\", \"isMatch\": True},\n",
    "                {\"value\": \"Agent\", \"isMatch\": True},\n",
    "                {\"value\": \"Agent\", \"isMatch\": True},\n",
    "                {\"value\": \"Agent\", \"isMatch\": True},\n",
    "                {\"value\": \"Special Agent\", \"isMatch\": True},\n",
    "                {\"value\": \"Agent\", \"isMatch\": True},\n",
    "                {\"value\": \"Agent\", \"isMatch\": True},\n",
    "                {\"value\": \"Agent\", \"isMatch\": True},\n",
    "                {\"value\": \"Agent\", \"isMatch\": True},\n",
    "                {\"value\": \"Agent\", \"isMatch\": True},\n",
    "            ],\n",
    "        },\n",
    "        {\n",
    "            \"name\": \"Classification\",\n",
    "            \"isMatch\": True,\n",
    "            \"remainingMatchingValuesCount\": 1696,\n",
    "            \"remainingNotMatchingValuesCount\": 294,\n",
    "            \"values\": [\n",
    "                {\"value\": \"Mail\", \"isMatch\": True},\n",
    "                {\"value\": \"Mail\", \"isMatch\": True},\n",
    "                {\"value\": \"Citrix\", \"isMatch\": False},\n",
    "                {\"value\": \"Mail\", \"isMatch\": True},\n",
    "                {\"value\": \"SAP\", \"isMatch\": True},\n",
    "                {\"value\": \"SAP\", \"isMatch\": True},\n",
    "                {\"value\": \"SAP\", \"isMatch\": True},\n",
    "                {\"value\": \"Intranet\", \"isMatch\": True},\n",
    "                {\"value\": \"Mail\", \"isMatch\": True},\n",
    "                {\"value\": \"SAP\", \"isMatch\": True},\n",
    "            ],\n",
    "        },\n",
    "        {\n",
    "            \"name\": \"Country\",\n",
    "            \"isMatch\": False,\n",
    "            \"remainingMatchingValuesCount\": 1990,\n",
    "            \"remainingNotMatchingValuesCount\": 0,\n",
    "            \"values\": [\n",
    "                {\"value\": \"Germany\", \"isMatch\": True},\n",
    "                {\"value\": \"Germany\", \"isMatch\": True},\n",
    "                {\"value\": \"Germany\", \"isMatch\": True},\n",
    "                {\"value\": \"Germany\", \"isMatch\": True},\n",
    "                {\"value\": \"Germany\", \"isMatch\": True},\n",
    "                {\"value\": \"Austria\", \"isMatch\": True},\n",
    "                {\"value\": \"Germany\", \"isMatch\": True},\n",
    "                {\"value\": \"Germany\", \"isMatch\": True},\n",
    "                {\"value\": \"Austria\", \"isMatch\": True},\n",
    "                {\"value\": \"Switzerland\", \"isMatch\": True},\n",
    "            ],\n",
    "        },\n",
    "        {\n",
    "            \"name\": \"Kunde\",\n",
    "            \"isMatch\": False,\n",
    "            \"remainingMatchingValuesCount\": 663,\n",
    "            \"remainingNotMatchingValuesCount\": 1327,\n",
    "            \"values\": [\n",
    "                {\"value\": \"Siemens\", \"isMatch\": False},\n",
    "                {\"value\": \"Bosch\", \"isMatch\": False},\n",
    "                {\"value\": \"BMW\", \"isMatch\": False},\n",
    "                {\"value\": \"Daimler\", \"isMatch\": True},\n",
    "                {\"value\": \"VW\", \"isMatch\": False},\n",
    "                {\"value\": \"Bayer\", \"isMatch\": True},\n",
    "                {\"value\": \"Porsche\", \"isMatch\": False},\n",
    "                {\"value\": \"Lichtblick\", \"isMatch\": False},\n",
    "                {\"value\": \"Naturstrom\", \"isMatch\": True},\n",
    "                {\"value\": \"Siemens\", \"isMatch\": False},\n",
    "            ],\n",
    "        },\n",
    "    ],\n",
    "})\n",
    "\n",
    "# Initialize an empty list to store the DataFrames\n",
    "value_dataframes = []\n",
    "\n",
    "# Iterate through the results and extract \"values\" into DataFrames\n",
    "for result in data['results']:\n",
    "    values = result['values']\n",
    "    \n",
    "    # Convert the values to a Polars DataFrame and append it to the list\n",
    "    df = pl.DataFrame(values).lazy()\n",
    "    value_dataframes.append(df)\n",
    "\n",
    "\n",
    "# print or process the DataFrames:\n",
    "for i, df in enumerate(value_dataframes):\n",
    "    print(f\"DataFrame {i + 1}:\")\n",
    "    print(df.collect())"
   ]
  },
  {
   "cell_type": "code",
   "execution_count": null,
   "metadata": {},
   "outputs": [
    {
     "data": {
      "text/html": [
       "<div><style>\n",
       ".dataframe > thead > tr > th,\n",
       ".dataframe > tbody > tr > td {\n",
       "  text-align: right;\n",
       "  white-space: pre-wrap;\n",
       "}\n",
       "</style>\n",
       "<small>shape: (10, 2)</small><table border=\"1\" class=\"dataframe\"><thead><tr><th>value</th><th>isMatch</th></tr><tr><td>str</td><td>bool</td></tr></thead><tbody><tr><td>&quot;Siemens&quot;</td><td>false</td></tr><tr><td>&quot;Bosch&quot;</td><td>false</td></tr><tr><td>&quot;BMW&quot;</td><td>false</td></tr><tr><td>&quot;Daimler&quot;</td><td>true</td></tr><tr><td>&quot;VW&quot;</td><td>false</td></tr><tr><td>&quot;Bayer&quot;</td><td>true</td></tr><tr><td>&quot;Porsche&quot;</td><td>false</td></tr><tr><td>&quot;Lichtblick&quot;</td><td>false</td></tr><tr><td>&quot;Naturstrom&quot;</td><td>true</td></tr><tr><td>&quot;Siemens&quot;</td><td>false</td></tr></tbody></table></div>"
      ],
      "text/plain": [
       "shape: (10, 2)\n",
       "┌────────────┬─────────┐\n",
       "│ value      ┆ isMatch │\n",
       "│ ---        ┆ ---     │\n",
       "│ str        ┆ bool    │\n",
       "╞════════════╪═════════╡\n",
       "│ Siemens    ┆ false   │\n",
       "│ Bosch      ┆ false   │\n",
       "│ BMW        ┆ false   │\n",
       "│ Daimler    ┆ true    │\n",
       "│ …          ┆ …       │\n",
       "│ Porsche    ┆ false   │\n",
       "│ Lichtblick ┆ false   │\n",
       "│ Naturstrom ┆ true    │\n",
       "│ Siemens    ┆ false   │\n",
       "└────────────┴─────────┘"
      ]
     },
     "execution_count": 234,
     "metadata": {},
     "output_type": "execute_result"
    }
   ],
   "source": [
    "# index goes from 0 to 3\n",
    "value_dataframes[3].collect()\n"
   ]
  },
  {
   "cell_type": "code",
   "execution_count": null,
   "metadata": {},
   "outputs": [],
   "source": [
    "frame = pl.read_csv(\"tmp_events.csv\")"
   ]
  },
  {
   "cell_type": "code",
   "execution_count": null,
   "metadata": {},
   "outputs": [
    {
     "data": {
      "text/html": [
       "<div><style>\n",
       ".dataframe > thead > tr > th,\n",
       ".dataframe > tbody > tr > td {\n",
       "  text-align: right;\n",
       "  white-space: pre-wrap;\n",
       "}\n",
       "</style>\n",
       "<small>shape: (11_674, 5)</small><table border=\"1\" class=\"dataframe\"><thead><tr><th>Action</th><th>Start</th><th>Complete</th><th>CaseID</th><th>Rolle</th></tr><tr><td>str</td><td>str</td><td>str</td><td>i64</td><td>str</td></tr></thead><tbody><tr><td>&quot;Incident loggi…</td><td>&quot;2016-01-04 12:…</td><td>&quot;2016-01-04 12:…</td><td>412</td><td>&quot;Agent&quot;</td></tr><tr><td>&quot;Incident class…</td><td>&quot;2016-01-04 12:…</td><td>&quot;2016-01-04 12:…</td><td>412</td><td>&quot;Agent&quot;</td></tr><tr><td>&quot;Initial diagno…</td><td>&quot;2016-01-04 12:…</td><td>&quot;2016-01-04 12:…</td><td>412</td><td>&quot;Agent&quot;</td></tr><tr><td>&quot;Functional esc…</td><td>&quot;2016-01-04 12:…</td><td>&quot;2016-01-04 12:…</td><td>412</td><td>&quot;Agent&quot;</td></tr><tr><td>&quot;Investigation …</td><td>&quot;2016-01-04 18:…</td><td>&quot;2016-01-05 01:…</td><td>412</td><td>&quot;Special Agent&quot;</td></tr><tr><td>&quot;Resolution and…</td><td>&quot;2016-01-05 03:…</td><td>&quot;2016-01-05 04:…</td><td>412</td><td>&quot;Agent&quot;</td></tr><tr><td>&quot;Incident closu…</td><td>&quot;2016-01-05 04:…</td><td>&quot;2016-01-05 04:…</td><td>412</td><td>&quot;Agent&quot;</td></tr><tr><td>&quot;Incident loggi…</td><td>&quot;2016-01-04 12:…</td><td>&quot;2016-01-04 12:…</td><td>413</td><td>&quot;Agent&quot;</td></tr><tr><td>&quot;Incident class…</td><td>&quot;2016-01-04 12:…</td><td>&quot;2016-01-04 12:…</td><td>413</td><td>&quot;Agent&quot;</td></tr><tr><td>&quot;Initial diagno…</td><td>&quot;2016-01-04 12:…</td><td>&quot;2016-01-04 13:…</td><td>413</td><td>&quot;Agent&quot;</td></tr><tr><td>&quot;Resolution and…</td><td>&quot;2016-01-04 17:…</td><td>&quot;2016-01-04 17:…</td><td>413</td><td>&quot;Agent&quot;</td></tr><tr><td>&quot;Incident closu…</td><td>&quot;2016-01-04 17:…</td><td>&quot;2016-01-04 17:…</td><td>413</td><td>&quot;Agent&quot;</td></tr><tr><td>&hellip;</td><td>&hellip;</td><td>&hellip;</td><td>&hellip;</td><td>&hellip;</td></tr><tr><td>&quot;Resolution and…</td><td>&quot;2016-01-04 17:…</td><td>&quot;2016-01-04 18:…</td><td>407</td><td>&quot;Agent&quot;</td></tr><tr><td>&quot;Incident closu…</td><td>&quot;2016-01-04 18:…</td><td>&quot;2016-01-04 18:…</td><td>407</td><td>&quot;Agent&quot;</td></tr><tr><td>&quot;Incident loggi…</td><td>&quot;2016-01-04 13:…</td><td>&quot;2016-01-04 14:…</td><td>408</td><td>&quot;Agent&quot;</td></tr><tr><td>&quot;Incident class…</td><td>&quot;2016-01-04 14:…</td><td>&quot;2016-01-04 14:…</td><td>408</td><td>&quot;Agent&quot;</td></tr><tr><td>&quot;Initial diagno…</td><td>&quot;2016-01-04 14:…</td><td>&quot;2016-01-04 14:…</td><td>408</td><td>&quot;Agent&quot;</td></tr><tr><td>&quot;Resolution and…</td><td>&quot;2016-01-04 20:…</td><td>&quot;2016-01-04 21:…</td><td>408</td><td>&quot;Agent&quot;</td></tr><tr><td>&quot;Incident closu…</td><td>&quot;2016-01-04 21:…</td><td>&quot;2016-01-04 21:…</td><td>408</td><td>&quot;Agent&quot;</td></tr><tr><td>&quot;Incident loggi…</td><td>&quot;2016-01-04 13:…</td><td>&quot;2016-01-04 13:…</td><td>409</td><td>&quot;Agent&quot;</td></tr><tr><td>&quot;Incident class…</td><td>&quot;2016-01-04 13:…</td><td>&quot;2016-01-04 13:…</td><td>409</td><td>&quot;Agent&quot;</td></tr><tr><td>&quot;Initial diagno…</td><td>&quot;2016-01-04 13:…</td><td>&quot;2016-01-04 13:…</td><td>409</td><td>&quot;Agent&quot;</td></tr><tr><td>&quot;Resolution and…</td><td>&quot;2016-01-04 16:…</td><td>&quot;2016-01-04 16:…</td><td>409</td><td>&quot;Agent&quot;</td></tr><tr><td>&quot;Incident closu…</td><td>&quot;2016-01-04 16:…</td><td>&quot;2016-01-04 17:…</td><td>409</td><td>&quot;Agent&quot;</td></tr></tbody></table></div>"
      ],
      "text/plain": [
       "shape: (11_674, 5)\n",
       "┌─────────────────────────┬─────────────────────┬─────────────────────┬────────┬───────┐\n",
       "│ Action                  ┆ Start               ┆ Complete            ┆ CaseID ┆ Rolle │\n",
       "│ ---                     ┆ ---                 ┆ ---                 ┆ ---    ┆ ---   │\n",
       "│ str                     ┆ str                 ┆ str                 ┆ i64    ┆ str   │\n",
       "╞═════════════════════════╪═════════════════════╪═════════════════════╪════════╪═══════╡\n",
       "│ Incident logging        ┆ 2016-01-04 12:09:44 ┆ 2016-01-04 12:09:44 ┆ 412    ┆ Agent │\n",
       "│ Incident classification ┆ 2016-01-04 12:10:44 ┆ 2016-01-04 12:17:44 ┆ 412    ┆ Agent │\n",
       "│ Initial diagnosis       ┆ 2016-01-04 12:34:44 ┆ 2016-01-04 12:39:44 ┆ 412    ┆ Agent │\n",
       "│ Functional escalation   ┆ 2016-01-04 12:41:44 ┆ 2016-01-04 12:48:44 ┆ 412    ┆ Agent │\n",
       "│ …                       ┆ …                   ┆ …                   ┆ …      ┆ …     │\n",
       "│ Incident classification ┆ 2016-01-04 13:27:44 ┆ 2016-01-04 13:33:44 ┆ 409    ┆ Agent │\n",
       "│ Initial diagnosis       ┆ 2016-01-04 13:40:44 ┆ 2016-01-04 13:54:44 ┆ 409    ┆ Agent │\n",
       "│ Resolution and recovery ┆ 2016-01-04 16:16:44 ┆ 2016-01-04 16:44:44 ┆ 409    ┆ Agent │\n",
       "│ Incident closure        ┆ 2016-01-04 16:45:44 ┆ 2016-01-04 17:06:44 ┆ 409    ┆ Agent │\n",
       "└─────────────────────────┴─────────────────────┴─────────────────────┴────────┴───────┘"
      ]
     },
     "execution_count": 236,
     "metadata": {},
     "output_type": "execute_result"
    }
   ],
   "source": [
    "frame"
   ]
  },
  {
   "cell_type": "code",
   "execution_count": null,
   "metadata": {},
   "outputs": [],
   "source": [
    "df = pl.DataFrame({\"foo\": [1, 2, 3], \"bar\": [4, 5, 6]})\n"
   ]
  },
  {
   "cell_type": "code",
   "execution_count": null,
   "metadata": {},
   "outputs": [
    {
     "data": {
      "text/plain": [
       "True"
      ]
     },
     "execution_count": 238,
     "metadata": {},
     "output_type": "execute_result"
    }
   ],
   "source": [
    "df.is_empty()==False\n"
   ]
  },
  {
   "cell_type": "code",
   "execution_count": null,
   "metadata": {},
   "outputs": [
    {
     "data": {
      "text/plain": [
       "True"
      ]
     },
     "execution_count": 239,
     "metadata": {},
     "output_type": "execute_result"
    }
   ],
   "source": [
    "df.filter(pl.col(\"foo\") > 99).is_empty()"
   ]
  },
  {
   "cell_type": "code",
   "execution_count": null,
   "metadata": {},
   "outputs": [],
   "source": [
    "from dataclasses import dataclass\n",
    "\n",
    "import polars as pl\n",
    "import polars.selectors as cs\n",
    "#import ray"
   ]
  },
  {
   "cell_type": "code",
   "execution_count": null,
   "metadata": {},
   "outputs": [],
   "source": [
    "_special_column_names = set(\n",
    "    [\n",
    "        \"CaseID\",\n",
    "        \"Action\",\n",
    "        \"Start\",\n",
    "        \"Complete\",\n",
    "        \"NextCaseId\",\n",
    "        \"NextAction\",\n",
    "        \"NextStart\",\n",
    "        \"Duration\",\n",
    "        \"VariantHash\",\n",
    "    ]\n",
    ")"
   ]
  },
  {
   "cell_type": "code",
   "execution_count": null,
   "metadata": {},
   "outputs": [],
   "source": [
    "@dataclass\n",
    "class AttributeSearchResult:\n",
    "    frames: list[pl.LazyFrame]\n",
    "    query: str\n",
    "\n",
    "    def __add__(self, other):\n",
    "        assert self.query == other.query\n",
    "        return AttributeSearchResult(self.frames + other.frames, self.query)\n",
    "\n",
    "    def to_response(\n",
    "        self,\n",
    "        attributes_page: int = 0,\n",
    "        attributes_page_size: int = 10,\n",
    "        values_page: int = 0,\n",
    "        values_page_size: int = 10,\n",
    "    ) -> dict:\n",
    "        attributes = []\n",
    "        attributes_offset = attributes_page * attributes_page_size\n",
    "        attributes_limit = attributes_page_size\n",
    "        for frame in self.frames:\n",
    "            new_attributes = self._attributes(\n",
    "                frame,\n",
    "                attributes_offset,\n",
    "                attributes_limit,\n",
    "                values_page * values_page_size,\n",
    "                values_page_size,\n",
    "            )\n",
    "            attributes += new_attributes\n",
    "            attributes_limit = max(0, attributes_limit - len(new_attributes))\n",
    "            attributes_offset = max(\n",
    "                0, attributes_offset - len(self._attribute_names(frame))\n",
    "            )\n",
    "        return {\n",
    "            \"totalCount\": sum(\n",
    "                [len(self._attribute_names(frame)) for frame in self.frames]\n",
    "            ),\n",
    "            \"results\": attributes,\n",
    "        }\n",
    "\n",
    "    def _attribute_names(self, frame: pl.LazyFrame) -> list[str]:\n",
    "        return list(cs.expand_selector(frame, ~cs.ends_with(\"_match\")))\n",
    "\n",
    "    def _attribute(\n",
    "        self, name: str, frame: pl.LazyFrame, values_offset: int, values_limit: int\n",
    "    ) -> list[dict]:\n",
    "        fr = frame.select(\n",
    "            pl.col(name).alias(\"value\"), pl.col(name + \"_match\").alias(\"isMatch\")\n",
    "        )\n",
    "        page = fr.slice(values_offset, values_limit).to_dicts()#.collect().to_dicts()\n",
    "        rest = fr.slice(values_offset + values_limit)\n",
    "        counts = rest.groupby(\"isMatch\").agg(pl.count()).to_dicts()#.collect().to_dicts()\n",
    "        remaining_matching = next((y[\"count\"] for y in counts if y[\"isMatch\"]), 0)\n",
    "        remaining_not_matching = next(\n",
    "            (y[\"count\"] for y in counts if not y[\"isMatch\"]), 0\n",
    "        )\n",
    "\n",
    "        return {\n",
    "            \"name\": name,\n",
    "            \"isMatch\": self.query.lower() in name.lower(),\n",
    "            \"remainingMatchingValuesCount\": remaining_matching,\n",
    "            \"remainingNotMatchingValuesCount\": remaining_not_matching,\n",
    "            \"values\": page, \n",
    "        }\n",
    "\n",
    "    def _attributes(\n",
    "        self,\n",
    "        frame: pl.LazyFrame,\n",
    "        attributes_offset: int,\n",
    "        attributes_limit: int,\n",
    "        values_offset: int,\n",
    "        values_limit: int,\n",
    "    ) -> list[dict]:\n",
    "        attribute_names = self._attribute_names(frame)\n",
    "\n",
    "        return [\n",
    "            self._attribute(a, frame, values_offset, values_limit)\n",
    "            for a in attribute_names[\n",
    "                attributes_offset : attributes_offset + attributes_limit\n",
    "            ]\n",
    "        ]\n"
   ]
  },
  {
   "cell_type": "code",
   "execution_count": null,
   "metadata": {},
   "outputs": [],
   "source": [
    "\n",
    "def attribute_search(\n",
    "    frame: pl.LazyFrame,\n",
    "    query: str,\n",
    "    types: set[pl.DataType],\n",
    "    attribute_name: str | None = None) -> AttributeSearchResult:\n",
    "    column_selector = cs.by_dtype(types) & ~cs.by_name(_special_column_names)\n",
    "    if attribute_name is not None:\n",
    "        column_selector = column_selector & cs.by_name(attribute_name)\n",
    "\n",
    "    match_frame = frame.select(\n",
    "        column_selector,\n",
    "        column_selector.cast(pl.Utf8)\n",
    "        .str.to_lowercase()\n",
    "        .str.contains(query.lower(), literal=True)\n",
    "        .map_alias(lambda x: x + \"_match\"),\n",
    "    )\n",
    "    attrs_matched_by_name = set(\n",
    "        cs.expand_selector(\n",
    "            frame,\n",
    "            column_selector & cs.matches(f\"(?i).*{query}.*\"),\n",
    "        )\n",
    "    )\n",
    "    attrs_matched_by_value = set(\n",
    "        [\n",
    "            attr.removesuffix(\"_match\")\n",
    "            for attr, match in match_frame.select(cs.ends_with(\"_match\").any())\n",
    "            .collect()\n",
    "            .rows(named=True)[0]\n",
    "            .items()\n",
    "            if match\n",
    "        ]\n",
    "    )\n",
    "    print('-----------attrs_matched_by_name-----------')\n",
    "    print(attrs_matched_by_name)\n",
    "\n",
    "    matched_attrs = attrs_matched_by_name | attrs_matched_by_value # TODO: sort original code\n",
    "    \n",
    "    # Separate category matches from value matches\n",
    "    category_matches = set()\n",
    "    value_matches = set()\n",
    "    \n",
    "    for attr in attrs_matched_by_name:\n",
    "        if attr in frame.columns:\n",
    "            category_matches.add(attr)\n",
    "        else:\n",
    "            value_matches.add(attr)\n",
    "\n",
    "    # Sort category matches and value matches\n",
    "    sorted_category_matches = sorted(category_matches)\n",
    "    sorted_value_matches = sorted(value_matches)\n",
    "\n",
    "    # Reorder the attributes so that category matches and value matches are on top and convert to set\n",
    "    matched_attrs = set(sorted_category_matches + sorted_value_matches + list(attrs_matched_by_value))\n",
    "    \n",
    "    matched_columns = sorted(matched_attrs | set([a + \"_match\" for a in matched_attrs]))\n",
    "\n",
    "    \n",
    "    print(\"----------------matched_columns----------------\")\n",
    "    print(matched_columns)\n",
    "\n",
    "    return AttributeSearchResult(\n",
    "        frames=[match_frame.select(cs.by_name(matched_columns))]\n",
    "        if matched_columns\n",
    "        else [pl.LazyFrame()],\n",
    "        query=query,\n",
    "    )\n"
   ]
  },
  {
   "cell_type": "code",
   "execution_count": null,
   "metadata": {},
   "outputs": [],
   "source": [
    "\n",
    "def attribute_search(\n",
    "    frame: pl.LazyFrame,\n",
    "    query: str,\n",
    "    types: set[pl.DataType],\n",
    "    attribute_name: str | None = None) -> AttributeSearchResult:\n",
    "    column_selector = cs.by_dtype(types) & ~cs.by_name(_special_column_names)\n",
    "    if attribute_name is not None:\n",
    "        column_selector = column_selector & cs.by_name(attribute_name)\n",
    "\n",
    "    match_frame = frame.select(\n",
    "        column_selector,\n",
    "        column_selector.cast(pl.Utf8)\n",
    "        .str.to_lowercase()\n",
    "        .str.contains(query.lower(), literal=True)\n",
    "        .map_alias(lambda x: x + \"_match\"),\n",
    "    )\n",
    "    attrs_matched_by_name = set(\n",
    "        cs.expand_selector(\n",
    "            frame,\n",
    "            column_selector & cs.matches(f\"(?i).*{query}.*\"),\n",
    "        )\n",
    "    )\n",
    "    attrs_matched_by_value = set(\n",
    "        [\n",
    "            attr.removesuffix(\"_match\")\n",
    "            for attr, match in match_frame.select(cs.ends_with(\"_match\").any())\n",
    "            #.collect()\n",
    "            .rows(named=True)[0]\n",
    "            .items()\n",
    "            if match\n",
    "        ]\n",
    "    )\n",
    "    print('-----------attrs_matched_by_name-----------')\n",
    "    print(attrs_matched_by_name)\n",
    "\n",
    "    matched_attrs = attrs_matched_by_name | attrs_matched_by_value # TODO: sort original code\n",
    "    \n",
    "    def sort_attrs_matched_by_name(\n",
    "            attrs_matched_by_name: set[pl.DataType], \n",
    "            attrs_matched_by_value: set[pl.DataType],\n",
    "            )->set[pl.DataType]:\n",
    "        # Separate category matches from value matches\n",
    "        category_matches = set()\n",
    "        value_matches = set()\n",
    "\n",
    "        for attr in attrs_matched_by_name:\n",
    "            if attr in frame.columns:\n",
    "                category_matches.add(attr)\n",
    "            else:\n",
    "                value_matches.add(attr)\n",
    "\n",
    "        # Sort category matches and value matches\n",
    "        sorted_category_matches = sorted(category_matches)\n",
    "        sorted_value_matches = sorted(value_matches)\n",
    "\n",
    "        # Reorder the attributes so that category matches and value matches are on top and convert to set\n",
    "        matched_attrs = set(sorted_category_matches + sorted_value_matches + list(attrs_matched_by_value))\n",
    "        return matched_attrs\n",
    "    matched_attrs = sort_attrs_matched_by_name(attrs_matched_by_name, attrs_matched_by_value)\n",
    "    matched_columns = sorted(matched_attrs | set([a + \"_match\" for a in matched_attrs]))\n",
    "\n",
    "    \n",
    "    print(\"----------------matched_columns----------------\")\n",
    "    print(matched_columns)\n",
    "\n",
    "    return AttributeSearchResult(\n",
    "        frames=[match_frame.select(cs.by_name(matched_columns))]\n",
    "        if matched_columns\n",
    "        else [pl.LazyFrame()],\n",
    "        query=query,\n",
    "    )\n"
   ]
  },
  {
   "cell_type": "code",
   "execution_count": null,
   "metadata": {},
   "outputs": [],
   "source": [
    "'''\n",
    "@ray.remote\n",
    "def attribute_search_ray_worker(\n",
    "    frame: pl.LazyFrame,\n",
    "    query: str,\n",
    "    types: set[pl.DataType],\n",
    "    attribute_name: str | None = None,\n",
    ") -> AttributeSearchResult:\n",
    "    return attribute_search(frame, query, types, attribute_name)\n",
    "'''\n",
    "\n",
    "def attribute_search_ray_head(\n",
    "    frame: pl.LazyFrame,\n",
    "    query: str,\n",
    "    types: set[pl.DataType],\n",
    "    attribute_name: str | None = None,\n",
    ") -> AttributeSearchResult:\n",
    "    # TODO: distribute\n",
    "    return attribute_search(frame, query, types, attribute_name)\n"
   ]
  },
  {
   "cell_type": "code",
   "execution_count": null,
   "metadata": {},
   "outputs": [
    {
     "name": "stdout",
     "output_type": "stream",
     "text": [
      "-----------attrs_matched_by_name-----------\n",
      "set()\n",
      "----------------matched_columns----------------\n",
      "['Rolle', 'Rolle_match']\n"
     ]
    },
    {
     "name": "stderr",
     "output_type": "stream",
     "text": [
      "/var/folders/df/73ltgcz51lzg9c11q7tfp_000000gp/T/ipykernel_33205/1849098854.py:15: DeprecationWarning: `map_alias` is deprecated. It has been moved to `name.map`.\n",
      "  .map_alias(lambda x: x + \"_match\"),\n",
      "/var/folders/df/73ltgcz51lzg9c11q7tfp_000000gp/T/ipykernel_33205/2219399753.py:51: DeprecationWarning: `groupby` is deprecated. It has been renamed to `group_by`.\n",
      "  counts = rest.groupby(\"isMatch\").agg(pl.count()).to_dicts()#.collect().to_dicts()\n"
     ]
    },
    {
     "data": {
      "text/plain": [
       "{'totalCount': 1,\n",
       " 'results': [{'name': 'Rolle',\n",
       "   'isMatch': False,\n",
       "   'remainingMatchingValuesCount': 11664,\n",
       "   'remainingNotMatchingValuesCount': 0,\n",
       "   'values': [{'value': 'Agent', 'isMatch': True},\n",
       "    {'value': 'Agent', 'isMatch': True},\n",
       "    {'value': 'Agent', 'isMatch': True},\n",
       "    {'value': 'Agent', 'isMatch': True},\n",
       "    {'value': 'Special Agent', 'isMatch': True},\n",
       "    {'value': 'Agent', 'isMatch': True},\n",
       "    {'value': 'Agent', 'isMatch': True},\n",
       "    {'value': 'Agent', 'isMatch': True},\n",
       "    {'value': 'Agent', 'isMatch': True},\n",
       "    {'value': 'Agent', 'isMatch': True}]}]}"
      ]
     },
     "execution_count": 246,
     "metadata": {},
     "output_type": "execute_result"
    }
   ],
   "source": [
    "# Define your Polars LazyFrame (frame) and other variables if needed.\n",
    "\n",
    "# Call the attribute_search function\n",
    "result = attribute_search(frame, \"Agent\",set([pl.Utf8]))\n",
    "# Print or use the result as needed.\n",
    "result.to_response()"
   ]
  },
  {
   "cell_type": "markdown",
   "metadata": {},
   "source": [
    "# in segments"
   ]
  },
  {
   "cell_type": "code",
   "execution_count": null,
   "metadata": {},
   "outputs": [
    {
     "data": {
      "text/html": [
       "<div><style>\n",
       ".dataframe > thead > tr > th,\n",
       ".dataframe > tbody > tr > td {\n",
       "  text-align: right;\n",
       "  white-space: pre-wrap;\n",
       "}\n",
       "</style>\n",
       "<small>shape: (11_674, 5)</small><table border=\"1\" class=\"dataframe\"><thead><tr><th>Action</th><th>Start</th><th>Complete</th><th>CaseID</th><th>Rolle</th></tr><tr><td>str</td><td>str</td><td>str</td><td>i64</td><td>str</td></tr></thead><tbody><tr><td>&quot;Incident loggi…</td><td>&quot;2016-01-04 12:…</td><td>&quot;2016-01-04 12:…</td><td>412</td><td>&quot;Agent&quot;</td></tr><tr><td>&quot;Incident class…</td><td>&quot;2016-01-04 12:…</td><td>&quot;2016-01-04 12:…</td><td>412</td><td>&quot;Agent&quot;</td></tr><tr><td>&quot;Initial diagno…</td><td>&quot;2016-01-04 12:…</td><td>&quot;2016-01-04 12:…</td><td>412</td><td>&quot;Agent&quot;</td></tr><tr><td>&quot;Functional esc…</td><td>&quot;2016-01-04 12:…</td><td>&quot;2016-01-04 12:…</td><td>412</td><td>&quot;Agent&quot;</td></tr><tr><td>&quot;Investigation …</td><td>&quot;2016-01-04 18:…</td><td>&quot;2016-01-05 01:…</td><td>412</td><td>&quot;Special Agent&quot;</td></tr><tr><td>&quot;Resolution and…</td><td>&quot;2016-01-05 03:…</td><td>&quot;2016-01-05 04:…</td><td>412</td><td>&quot;Agent&quot;</td></tr><tr><td>&quot;Incident closu…</td><td>&quot;2016-01-05 04:…</td><td>&quot;2016-01-05 04:…</td><td>412</td><td>&quot;Agent&quot;</td></tr><tr><td>&quot;Incident loggi…</td><td>&quot;2016-01-04 12:…</td><td>&quot;2016-01-04 12:…</td><td>413</td><td>&quot;Agent&quot;</td></tr><tr><td>&quot;Incident class…</td><td>&quot;2016-01-04 12:…</td><td>&quot;2016-01-04 12:…</td><td>413</td><td>&quot;Agent&quot;</td></tr><tr><td>&quot;Initial diagno…</td><td>&quot;2016-01-04 12:…</td><td>&quot;2016-01-04 13:…</td><td>413</td><td>&quot;Agent&quot;</td></tr><tr><td>&quot;Resolution and…</td><td>&quot;2016-01-04 17:…</td><td>&quot;2016-01-04 17:…</td><td>413</td><td>&quot;Agent&quot;</td></tr><tr><td>&quot;Incident closu…</td><td>&quot;2016-01-04 17:…</td><td>&quot;2016-01-04 17:…</td><td>413</td><td>&quot;Agent&quot;</td></tr><tr><td>&hellip;</td><td>&hellip;</td><td>&hellip;</td><td>&hellip;</td><td>&hellip;</td></tr><tr><td>&quot;Resolution and…</td><td>&quot;2016-01-04 17:…</td><td>&quot;2016-01-04 18:…</td><td>407</td><td>&quot;Agent&quot;</td></tr><tr><td>&quot;Incident closu…</td><td>&quot;2016-01-04 18:…</td><td>&quot;2016-01-04 18:…</td><td>407</td><td>&quot;Agent&quot;</td></tr><tr><td>&quot;Incident loggi…</td><td>&quot;2016-01-04 13:…</td><td>&quot;2016-01-04 14:…</td><td>408</td><td>&quot;Agent&quot;</td></tr><tr><td>&quot;Incident class…</td><td>&quot;2016-01-04 14:…</td><td>&quot;2016-01-04 14:…</td><td>408</td><td>&quot;Agent&quot;</td></tr><tr><td>&quot;Initial diagno…</td><td>&quot;2016-01-04 14:…</td><td>&quot;2016-01-04 14:…</td><td>408</td><td>&quot;Agent&quot;</td></tr><tr><td>&quot;Resolution and…</td><td>&quot;2016-01-04 20:…</td><td>&quot;2016-01-04 21:…</td><td>408</td><td>&quot;Agent&quot;</td></tr><tr><td>&quot;Incident closu…</td><td>&quot;2016-01-04 21:…</td><td>&quot;2016-01-04 21:…</td><td>408</td><td>&quot;Agent&quot;</td></tr><tr><td>&quot;Incident loggi…</td><td>&quot;2016-01-04 13:…</td><td>&quot;2016-01-04 13:…</td><td>409</td><td>&quot;Agent&quot;</td></tr><tr><td>&quot;Incident class…</td><td>&quot;2016-01-04 13:…</td><td>&quot;2016-01-04 13:…</td><td>409</td><td>&quot;Agent&quot;</td></tr><tr><td>&quot;Initial diagno…</td><td>&quot;2016-01-04 13:…</td><td>&quot;2016-01-04 13:…</td><td>409</td><td>&quot;Agent&quot;</td></tr><tr><td>&quot;Resolution and…</td><td>&quot;2016-01-04 16:…</td><td>&quot;2016-01-04 16:…</td><td>409</td><td>&quot;Agent&quot;</td></tr><tr><td>&quot;Incident closu…</td><td>&quot;2016-01-04 16:…</td><td>&quot;2016-01-04 17:…</td><td>409</td><td>&quot;Agent&quot;</td></tr></tbody></table></div>"
      ],
      "text/plain": [
       "shape: (11_674, 5)\n",
       "┌─────────────────────────┬─────────────────────┬─────────────────────┬────────┬───────┐\n",
       "│ Action                  ┆ Start               ┆ Complete            ┆ CaseID ┆ Rolle │\n",
       "│ ---                     ┆ ---                 ┆ ---                 ┆ ---    ┆ ---   │\n",
       "│ str                     ┆ str                 ┆ str                 ┆ i64    ┆ str   │\n",
       "╞═════════════════════════╪═════════════════════╪═════════════════════╪════════╪═══════╡\n",
       "│ Incident logging        ┆ 2016-01-04 12:09:44 ┆ 2016-01-04 12:09:44 ┆ 412    ┆ Agent │\n",
       "│ Incident classification ┆ 2016-01-04 12:10:44 ┆ 2016-01-04 12:17:44 ┆ 412    ┆ Agent │\n",
       "│ Initial diagnosis       ┆ 2016-01-04 12:34:44 ┆ 2016-01-04 12:39:44 ┆ 412    ┆ Agent │\n",
       "│ Functional escalation   ┆ 2016-01-04 12:41:44 ┆ 2016-01-04 12:48:44 ┆ 412    ┆ Agent │\n",
       "│ …                       ┆ …                   ┆ …                   ┆ …      ┆ …     │\n",
       "│ Incident classification ┆ 2016-01-04 13:27:44 ┆ 2016-01-04 13:33:44 ┆ 409    ┆ Agent │\n",
       "│ Initial diagnosis       ┆ 2016-01-04 13:40:44 ┆ 2016-01-04 13:54:44 ┆ 409    ┆ Agent │\n",
       "│ Resolution and recovery ┆ 2016-01-04 16:16:44 ┆ 2016-01-04 16:44:44 ┆ 409    ┆ Agent │\n",
       "│ Incident closure        ┆ 2016-01-04 16:45:44 ┆ 2016-01-04 17:06:44 ┆ 409    ┆ Agent │\n",
       "└─────────────────────────┴─────────────────────┴─────────────────────┴────────┴───────┘"
      ]
     },
     "execution_count": 247,
     "metadata": {},
     "output_type": "execute_result"
    }
   ],
   "source": [
    "frame"
   ]
  },
  {
   "cell_type": "code",
   "execution_count": null,
   "metadata": {},
   "outputs": [],
   "source": [
    "#def attribute_search(\n",
    "frame = frame\n",
    "query = \"v\"\n",
    "types = {pl.Utf8, pl.Int32}\n",
    "attribute_name= \"Agent\" #: str | None = None) -> AttributeSearchResult:\n"
   ]
  },
  {
   "cell_type": "code",
   "execution_count": null,
   "metadata": {},
   "outputs": [
    {
     "data": {
      "text/html": [
       "dtype_columns([Int32, Utf8])"
      ],
      "text/plain": [
       "cs.by_dtype(dtypes=[Int32, Utf8])"
      ]
     },
     "execution_count": 249,
     "metadata": {},
     "output_type": "execute_result"
    }
   ],
   "source": [
    "cs.by_dtype(types)"
   ]
  },
  {
   "cell_type": "code",
   "execution_count": null,
   "metadata": {},
   "outputs": [
    {
     "data": {
      "text/html": [
       "SELECTOR"
      ],
      "text/plain": [
       "~cs.by_name('Complete', 'NextAction', 'Start', 'VariantHash', 'NextCaseId', 'Duration', 'CaseID', 'NextStart', 'Action')"
      ]
     },
     "execution_count": 250,
     "metadata": {},
     "output_type": "execute_result"
    }
   ],
   "source": [
    "~cs.by_name(_special_column_names)"
   ]
  },
  {
   "cell_type": "code",
   "execution_count": null,
   "metadata": {},
   "outputs": [
    {
     "data": {
      "text/html": [
       "SELECTOR"
      ],
      "text/plain": [
       "(cs.by_dtype(dtypes=[Int32, Utf8]) & ~cs.by_name('Complete', 'NextAction', 'Start', 'VariantHash', 'NextCaseId', 'Duration', 'CaseID', 'NextStart', 'Action'))"
      ]
     },
     "execution_count": 251,
     "metadata": {},
     "output_type": "execute_result"
    }
   ],
   "source": [
    "\n",
    "column_selector = cs.by_dtype(types) & ~cs.by_name(_special_column_names)\n",
    "column_selector"
   ]
  },
  {
   "cell_type": "code",
   "execution_count": null,
   "metadata": {},
   "outputs": [
    {
     "data": {
      "text/html": [
       "SELECTOR"
      ],
      "text/plain": [
       "((cs.by_dtype(dtypes=[Int32, Utf8]) & ~cs.by_name('Complete', 'NextAction', 'Start', 'VariantHash', 'NextCaseId', 'Duration', 'CaseID', 'NextStart', 'Action')) & cs.by_name('Agent'))"
      ]
     },
     "execution_count": 252,
     "metadata": {},
     "output_type": "execute_result"
    }
   ],
   "source": [
    "if attribute_name is not None:\n",
    "    column_selector = column_selector & cs.by_name(attribute_name)\n",
    "column_selector"
   ]
  },
  {
   "cell_type": "code",
   "execution_count": null,
   "metadata": {},
   "outputs": [
    {
     "name": "stderr",
     "output_type": "stream",
     "text": [
      "/var/folders/df/73ltgcz51lzg9c11q7tfp_000000gp/T/ipykernel_33205/1925723194.py:6: DeprecationWarning: `map_alias` is deprecated. It has been moved to `name.map`.\n",
      "  .map_alias(lambda x: x + \"_match\"),\n"
     ]
    },
    {
     "data": {
      "text/html": [
       "<div><style>\n",
       ".dataframe > thead > tr > th,\n",
       ".dataframe > tbody > tr > td {\n",
       "  text-align: right;\n",
       "  white-space: pre-wrap;\n",
       "}\n",
       "</style>\n",
       "<small>shape: (0, 0)</small><table border=\"1\" class=\"dataframe\"><thead><tr></tr><tr></tr></thead><tbody></tbody></table></div>"
      ],
      "text/plain": [
       "shape: (0, 0)\n",
       "┌┐\n",
       "╞╡\n",
       "└┘"
      ]
     },
     "execution_count": 253,
     "metadata": {},
     "output_type": "execute_result"
    }
   ],
   "source": [
    "match_frame = frame.select(\n",
    "    column_selector,\n",
    "    column_selector.cast(pl.Utf8)\n",
    "    .str.to_lowercase()\n",
    "    .str.contains(query.lower(), literal=True)\n",
    "    .map_alias(lambda x: x + \"_match\"),\n",
    ")\n",
    "match_frame#.collect()"
   ]
  },
  {
   "cell_type": "code",
   "execution_count": null,
   "metadata": {},
   "outputs": [],
   "source": [
    "query='W'"
   ]
  },
  {
   "cell_type": "code",
   "execution_count": null,
   "metadata": {},
   "outputs": [
    {
     "data": {
      "text/plain": [
       "set()"
      ]
     },
     "execution_count": 255,
     "metadata": {},
     "output_type": "execute_result"
    }
   ],
   "source": [
    "attrs_matched_by_name = set(\n",
    "    cs.expand_selector(\n",
    "        frame,\n",
    "        column_selector & cs.matches(f\"(?i).*{query}.*\"),\n",
    "    )\n",
    ")\n",
    "attrs_matched_by_name"
   ]
  },
  {
   "cell_type": "code",
   "execution_count": null,
   "metadata": {},
   "outputs": [
    {
     "ename": "IndexError",
     "evalue": "list index out of range",
     "output_type": "error",
     "traceback": [
      "\u001b[0;31m---------------------------------------------------------------------------\u001b[0m",
      "\u001b[0;31mIndexError\u001b[0m                                Traceback (most recent call last)",
      "\u001b[1;32m/Users/alberto.diazdurana/Documents/GitHub/learning_polars/experimenting.ipynb Cell 31\u001b[0m line \u001b[0;36m4\n\u001b[1;32m      <a href='vscode-notebook-cell:/Users/alberto.diazdurana/Documents/GitHub/learning_polars/experimenting.ipynb#X34sZmlsZQ%3D%3D?line=0'>1</a>\u001b[0m attrs_matched_by_value \u001b[39m=\u001b[39m \u001b[39mset\u001b[39m(\n\u001b[1;32m      <a href='vscode-notebook-cell:/Users/alberto.diazdurana/Documents/GitHub/learning_polars/experimenting.ipynb#X34sZmlsZQ%3D%3D?line=1'>2</a>\u001b[0m     [\n\u001b[1;32m      <a href='vscode-notebook-cell:/Users/alberto.diazdurana/Documents/GitHub/learning_polars/experimenting.ipynb#X34sZmlsZQ%3D%3D?line=2'>3</a>\u001b[0m         attr\u001b[39m.\u001b[39mremovesuffix(\u001b[39m\"\u001b[39m\u001b[39m_match\u001b[39m\u001b[39m\"\u001b[39m)\n\u001b[0;32m----> <a href='vscode-notebook-cell:/Users/alberto.diazdurana/Documents/GitHub/learning_polars/experimenting.ipynb#X34sZmlsZQ%3D%3D?line=3'>4</a>\u001b[0m         \u001b[39mfor\u001b[39;00m attr, match \u001b[39min\u001b[39;00m match_frame\u001b[39m.\u001b[39;49mselect(cs\u001b[39m.\u001b[39;49mends_with(\u001b[39m\"\u001b[39;49m\u001b[39m_match\u001b[39;49m\u001b[39m\"\u001b[39;49m)\u001b[39m.\u001b[39;49many())\n\u001b[1;32m      <a href='vscode-notebook-cell:/Users/alberto.diazdurana/Documents/GitHub/learning_polars/experimenting.ipynb#X34sZmlsZQ%3D%3D?line=4'>5</a>\u001b[0m         \u001b[39m#.collect()\u001b[39;49;00m\n\u001b[1;32m      <a href='vscode-notebook-cell:/Users/alberto.diazdurana/Documents/GitHub/learning_polars/experimenting.ipynb#X34sZmlsZQ%3D%3D?line=5'>6</a>\u001b[0m         \u001b[39m.\u001b[39;49mrows(named\u001b[39m=\u001b[39;49m\u001b[39mTrue\u001b[39;49;00m)[\u001b[39m0\u001b[39;49m]\n\u001b[1;32m      <a href='vscode-notebook-cell:/Users/alberto.diazdurana/Documents/GitHub/learning_polars/experimenting.ipynb#X34sZmlsZQ%3D%3D?line=6'>7</a>\u001b[0m         \u001b[39m.\u001b[39mitems()\n\u001b[1;32m      <a href='vscode-notebook-cell:/Users/alberto.diazdurana/Documents/GitHub/learning_polars/experimenting.ipynb#X34sZmlsZQ%3D%3D?line=7'>8</a>\u001b[0m         \u001b[39mif\u001b[39;00m match\n\u001b[1;32m      <a href='vscode-notebook-cell:/Users/alberto.diazdurana/Documents/GitHub/learning_polars/experimenting.ipynb#X34sZmlsZQ%3D%3D?line=8'>9</a>\u001b[0m     ]\n\u001b[1;32m     <a href='vscode-notebook-cell:/Users/alberto.diazdurana/Documents/GitHub/learning_polars/experimenting.ipynb#X34sZmlsZQ%3D%3D?line=9'>10</a>\u001b[0m )\n",
      "\u001b[0;31mIndexError\u001b[0m: list index out of range"
     ]
    }
   ],
   "source": [
    "attrs_matched_by_value = set(\n",
    "    [\n",
    "        attr.removesuffix(\"_match\")\n",
    "        for attr, match in match_frame.select(cs.ends_with(\"_match\").any())\n",
    "        #.collect()\n",
    "        .rows(named=True)[0]\n",
    "        .items()\n",
    "        if match\n",
    "    ]\n",
    ")"
   ]
  },
  {
   "cell_type": "code",
   "execution_count": null,
   "metadata": {},
   "outputs": [],
   "source": [
    "matched_attrs = attrs_matched_by_name | attrs_matched_by_value # TODO: sort original code\n",
    "\n",
    "def sort_attrs_matched_by_name(\n",
    "        attrs_matched_by_name, \n",
    "        attrs_matched_by_value,\n",
    "        ):\n",
    "    # Separate category matches from value matches\n",
    "    category_matches = set()\n",
    "    value_matches = set()\n",
    "    for attr in attrs_matched_by_name:\n",
    "        if attr in frame.columns:\n",
    "            category_matches.add(attr)\n",
    "        else:\n",
    "            value_matches.add(attr)\n",
    "    # Sort category matches and value matches\n",
    "    sorted_category_matches = sorted(category_matches)\n",
    "    sorted_value_matches = sorted(value_matches)\n",
    "    # Reorder the attributes so that category matches and value matches are on top and convert to set\n",
    "    matched_attrs = set(sorted_category_matches + sorted_value_matches + list(attrs_matched_by_value))\n",
    "    return matched_attrs\n",
    "matched_attrs = sort_attrs_matched_by_name(attrs_matched_by_name, attrs_matched_by_value)"
   ]
  },
  {
   "cell_type": "code",
   "execution_count": null,
   "metadata": {},
   "outputs": [],
   "source": [
    "matched_columns = sorted(matched_attrs | set([a + \"_match\" for a in matched_attrs]))"
   ]
  },
  {
   "cell_type": "code",
   "execution_count": null,
   "metadata": {},
   "outputs": [
    {
     "data": {
      "text/plain": [
       "AttributeSearchResult(frames=[<LazyFrame [2 cols, {\"value\": Utf8, \"value_match\": Boolean}] at 0x7FB4282FAFB0>], query='w')"
      ]
     },
     "execution_count": 88,
     "metadata": {},
     "output_type": "execute_result"
    }
   ],
   "source": [
    "\n",
    "\n",
    "AttributeSearchResult(\n",
    "    frames=[match_frame.select(cs.by_name(matched_columns))]\n",
    "    if matched_columns\n",
    "    else [pl.LazyFrame()],\n",
    "    query=query,\n",
    ")"
   ]
  }
 ],
 "metadata": {
  "kernelspec": {
   "display_name": "ENGenv",
   "language": "python",
   "name": "python3"
  },
  "language_info": {
   "codemirror_mode": {
    "name": "ipython",
    "version": 3
   },
   "file_extension": ".py",
   "mimetype": "text/x-python",
   "name": "python",
   "nbconvert_exporter": "python",
   "pygments_lexer": "ipython3",
   "version": "3.10.13"
  }
 },
 "nbformat": 4,
 "nbformat_minor": 2
}
