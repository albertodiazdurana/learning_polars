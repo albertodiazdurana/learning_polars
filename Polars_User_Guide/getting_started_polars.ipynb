{
 "cells": [
  {
   "cell_type": "code",
   "execution_count": 2,
   "metadata": {},
   "outputs": [],
   "source": [
    "import polars as pl"
   ]
  },
  {
   "cell_type": "code",
   "execution_count": 3,
   "metadata": {},
   "outputs": [
    {
     "name": "stdout",
     "output_type": "stream",
     "text": [
      "shape: (5,)\n",
      "Series: 'a' [i64]\n",
      "[\n",
      "\t1\n",
      "\t2\n",
      "\t3\n",
      "\t4\n",
      "\t5\n",
      "]\n"
     ]
    }
   ],
   "source": [
    "s = pl.Series(\"a\", [1, 2, 3, 4, 5])\n",
    "print(s)"
   ]
  },
  {
   "cell_type": "code",
   "execution_count": 4,
   "metadata": {},
   "outputs": [
    {
     "data": {
      "text/html": [
       "<div><style>\n",
       ".dataframe > thead > tr > th,\n",
       ".dataframe > tbody > tr > td {\n",
       "  text-align: right;\n",
       "  white-space: pre-wrap;\n",
       "}\n",
       "</style>\n",
       "<small>shape: (5,)</small><table border=\"1\" class=\"dataframe\"><thead><tr><th>b</th></tr><tr><td>i64</td></tr></thead><tbody><tr><td>1</td></tr><tr><td>2</td></tr><tr><td>3</td></tr><tr><td>4</td></tr><tr><td>5</td></tr></tbody></table></div>"
      ],
      "text/plain": [
       "shape: (5,)\n",
       "Series: 'b' [i64]\n",
       "[\n",
       "\t1\n",
       "\t2\n",
       "\t3\n",
       "\t4\n",
       "\t5\n",
       "]"
      ]
     },
     "execution_count": 4,
     "metadata": {},
     "output_type": "execute_result"
    }
   ],
   "source": [
    "s.rename(\"b\")"
   ]
  },
  {
   "cell_type": "code",
   "execution_count": 5,
   "metadata": {},
   "outputs": [
    {
     "name": "stdout",
     "output_type": "stream",
     "text": [
      "1\n",
      "5\n"
     ]
    }
   ],
   "source": [
    "s = pl.Series(\"a\", [1, 2, 3, 4, 5])\n",
    "print(s.min())\n",
    "print(s.max())"
   ]
  },
  {
   "cell_type": "code",
   "execution_count": 6,
   "metadata": {},
   "outputs": [
    {
     "name": "stdout",
     "output_type": "stream",
     "text": [
      "shape: (5,)\n",
      "Series: 'a' [str]\n",
      "[\n",
      "\t\"pola\"\n",
      "\t\"bear\"\n",
      "\t\"arctic\"\n",
      "\t\"pola fox\"\n",
      "\t\"pola bear\"\n",
      "]\n"
     ]
    }
   ],
   "source": [
    "s = pl.Series(\"a\", [\"polar\", \"bear\", \"arctic\", \"polar fox\", \"polar bear\"])\n",
    "s2 = s.str.replace(\"polar\", \"pola\")\n",
    "print(s2)"
   ]
  },
  {
   "cell_type": "code",
   "execution_count": 7,
   "metadata": {},
   "outputs": [
    {
     "name": "stdout",
     "output_type": "stream",
     "text": [
      "shape: (5,)\n",
      "Series: 'date' [u32]\n",
      "[\n",
      "\t1\n",
      "\t3\n",
      "\t5\n",
      "\t7\n",
      "\t9\n",
      "]\n"
     ]
    }
   ],
   "source": [
    "from datetime import date\n",
    "\n",
    "start = date(2001, 1, 1)\n",
    "stop = date(2001, 1, 9)\n",
    "s = pl.date_range(start, stop, interval=\"2d\", eager=True)\n",
    "print(s.dt.day())\n"
   ]
  },
  {
   "cell_type": "code",
   "execution_count": 8,
   "metadata": {},
   "outputs": [
    {
     "name": "stdout",
     "output_type": "stream",
     "text": [
      "shape: (5, 3)\n",
      "┌─────────┬─────────────────────┬───────┐\n",
      "│ integer ┆ date                ┆ float │\n",
      "│ ---     ┆ ---                 ┆ ---   │\n",
      "│ i64     ┆ datetime[μs]        ┆ f64   │\n",
      "╞═════════╪═════════════════════╪═══════╡\n",
      "│ 1       ┆ 2022-01-01 00:00:00 ┆ 4.0   │\n",
      "│ 2       ┆ 2022-01-02 00:00:00 ┆ 5.0   │\n",
      "│ 3       ┆ 2022-01-03 00:00:00 ┆ 6.0   │\n",
      "│ 4       ┆ 2022-01-04 00:00:00 ┆ 7.0   │\n",
      "│ 5       ┆ 2022-01-05 00:00:00 ┆ 8.0   │\n",
      "└─────────┴─────────────────────┴───────┘\n"
     ]
    }
   ],
   "source": [
    "from datetime import datetime\n",
    "\n",
    "df = pl.DataFrame(\n",
    "    {\n",
    "        \"integer\": [1, 2, 3, 4, 5],\n",
    "        \"date\": [\n",
    "            datetime(2022, 1, 1),\n",
    "            datetime(2022, 1, 2),\n",
    "            datetime(2022, 1, 3),\n",
    "            datetime(2022, 1, 4),\n",
    "            datetime(2022, 1, 5),\n",
    "        ],\n",
    "        \"float\": [4.0, 5.0, 6.0, 7.0, 8.0],\n",
    "    }\n",
    ")\n",
    "\n",
    "print(df)"
   ]
  },
  {
   "cell_type": "code",
   "execution_count": 9,
   "metadata": {},
   "outputs": [
    {
     "name": "stdout",
     "output_type": "stream",
     "text": [
      "shape: (3, 3)\n",
      "┌─────────┬─────────────────────┬───────┐\n",
      "│ integer ┆ date                ┆ float │\n",
      "│ ---     ┆ ---                 ┆ ---   │\n",
      "│ i64     ┆ datetime[μs]        ┆ f64   │\n",
      "╞═════════╪═════════════════════╪═══════╡\n",
      "│ 1       ┆ 2022-01-01 00:00:00 ┆ 4.0   │\n",
      "│ 2       ┆ 2022-01-02 00:00:00 ┆ 5.0   │\n",
      "│ 3       ┆ 2022-01-03 00:00:00 ┆ 6.0   │\n",
      "└─────────┴─────────────────────┴───────┘\n"
     ]
    }
   ],
   "source": [
    "print(df.head(3))"
   ]
  },
  {
   "cell_type": "code",
   "execution_count": 10,
   "metadata": {},
   "outputs": [
    {
     "data": {
      "text/html": [
       "<div><style>\n",
       ".dataframe > thead > tr > th,\n",
       ".dataframe > tbody > tr > td {\n",
       "  text-align: right;\n",
       "  white-space: pre-wrap;\n",
       "}\n",
       "</style>\n",
       "<small>shape: (3, 3)</small><table border=\"1\" class=\"dataframe\"><thead><tr><th>integer</th><th>date</th><th>float</th></tr><tr><td>i64</td><td>datetime[μs]</td><td>f64</td></tr></thead><tbody><tr><td>1</td><td>2022-01-01 00:00:00</td><td>4.0</td></tr><tr><td>2</td><td>2022-01-02 00:00:00</td><td>5.0</td></tr><tr><td>3</td><td>2022-01-03 00:00:00</td><td>6.0</td></tr></tbody></table></div>"
      ],
      "text/plain": [
       "shape: (3, 3)\n",
       "┌─────────┬─────────────────────┬───────┐\n",
       "│ integer ┆ date                ┆ float │\n",
       "│ ---     ┆ ---                 ┆ ---   │\n",
       "│ i64     ┆ datetime[μs]        ┆ f64   │\n",
       "╞═════════╪═════════════════════╪═══════╡\n",
       "│ 1       ┆ 2022-01-01 00:00:00 ┆ 4.0   │\n",
       "│ 2       ┆ 2022-01-02 00:00:00 ┆ 5.0   │\n",
       "│ 3       ┆ 2022-01-03 00:00:00 ┆ 6.0   │\n",
       "└─────────┴─────────────────────┴───────┘"
      ]
     },
     "execution_count": 10,
     "metadata": {},
     "output_type": "execute_result"
    }
   ],
   "source": [
    "df.head(3)"
   ]
  },
  {
   "cell_type": "code",
   "execution_count": 11,
   "metadata": {},
   "outputs": [
    {
     "name": "stdout",
     "output_type": "stream",
     "text": [
      "shape: (3, 3)\n",
      "┌─────────┬─────────────────────┬───────┐\n",
      "│ integer ┆ date                ┆ float │\n",
      "│ ---     ┆ ---                 ┆ ---   │\n",
      "│ i64     ┆ datetime[μs]        ┆ f64   │\n",
      "╞═════════╪═════════════════════╪═══════╡\n",
      "│ 3       ┆ 2022-01-03 00:00:00 ┆ 6.0   │\n",
      "│ 4       ┆ 2022-01-04 00:00:00 ┆ 7.0   │\n",
      "│ 5       ┆ 2022-01-05 00:00:00 ┆ 8.0   │\n",
      "└─────────┴─────────────────────┴───────┘\n"
     ]
    }
   ],
   "source": [
    "print(df.tail(3))"
   ]
  },
  {
   "cell_type": "code",
   "execution_count": 12,
   "metadata": {},
   "outputs": [
    {
     "name": "stdout",
     "output_type": "stream",
     "text": [
      "shape: (2, 3)\n",
      "┌─────────┬─────────────────────┬───────┐\n",
      "│ integer ┆ date                ┆ float │\n",
      "│ ---     ┆ ---                 ┆ ---   │\n",
      "│ i64     ┆ datetime[μs]        ┆ f64   │\n",
      "╞═════════╪═════════════════════╪═══════╡\n",
      "│ 3       ┆ 2022-01-03 00:00:00 ┆ 6.0   │\n",
      "│ 5       ┆ 2022-01-05 00:00:00 ┆ 8.0   │\n",
      "└─────────┴─────────────────────┴───────┘\n"
     ]
    }
   ],
   "source": [
    "print(df.sample(2)) # this selects a sample of random rows"
   ]
  },
  {
   "cell_type": "code",
   "execution_count": 13,
   "metadata": {},
   "outputs": [
    {
     "name": "stdout",
     "output_type": "stream",
     "text": [
      "shape: (9, 4)\n",
      "┌────────────┬──────────┬─────────────────────┬──────────┐\n",
      "│ describe   ┆ integer  ┆ date                ┆ float    │\n",
      "│ ---        ┆ ---      ┆ ---                 ┆ ---      │\n",
      "│ str        ┆ f64      ┆ str                 ┆ f64      │\n",
      "╞════════════╪══════════╪═════════════════════╪══════════╡\n",
      "│ count      ┆ 5.0      ┆ 5                   ┆ 5.0      │\n",
      "│ null_count ┆ 0.0      ┆ 0                   ┆ 0.0      │\n",
      "│ mean       ┆ 3.0      ┆ null                ┆ 6.0      │\n",
      "│ std        ┆ 1.581139 ┆ null                ┆ 1.581139 │\n",
      "│ min        ┆ 1.0      ┆ 2022-01-01 00:00:00 ┆ 4.0      │\n",
      "│ 25%        ┆ 2.0      ┆ null                ┆ 5.0      │\n",
      "│ 50%        ┆ 3.0      ┆ null                ┆ 6.0      │\n",
      "│ 75%        ┆ 4.0      ┆ null                ┆ 7.0      │\n",
      "│ max        ┆ 5.0      ┆ 2022-01-05 00:00:00 ┆ 8.0      │\n",
      "└────────────┴──────────┴─────────────────────┴──────────┘\n"
     ]
    }
   ],
   "source": [
    "print(df.describe())"
   ]
  },
  {
   "cell_type": "code",
   "execution_count": 14,
   "metadata": {},
   "outputs": [
    {
     "name": "stdout",
     "output_type": "stream",
     "text": [
      "shape: (3, 3)\n",
      "┌─────────┬─────────────────────┬───────┐\n",
      "│ integer ┆ date                ┆ float │\n",
      "│ ---     ┆ ---                 ┆ ---   │\n",
      "│ i64     ┆ datetime[μs]        ┆ f64   │\n",
      "╞═════════╪═════════════════════╪═══════╡\n",
      "│ 1       ┆ 2022-01-01 00:00:00 ┆ 4.0   │\n",
      "│ 2       ┆ 2022-01-02 00:00:00 ┆ 5.0   │\n",
      "│ 3       ┆ 2022-01-03 00:00:00 ┆ 6.0   │\n",
      "└─────────┴─────────────────────┴───────┘\n"
     ]
    }
   ],
   "source": [
    "import polars as pl\n",
    "from datetime import datetime\n",
    "\n",
    "df = pl.DataFrame(\n",
    "    {\n",
    "        \"integer\": [1, 2, 3],\n",
    "        \"date\": [\n",
    "            datetime(2022, 1, 1),\n",
    "            datetime(2022, 1, 2),\n",
    "            datetime(2022, 1, 3),\n",
    "        ],\n",
    "        \"float\": [4.0, 5.0, 6.0],\n",
    "    }\n",
    ")\n",
    "\n",
    "print(df)"
   ]
  },
  {
   "cell_type": "code",
   "execution_count": 15,
   "metadata": {},
   "outputs": [
    {
     "name": "stdout",
     "output_type": "stream",
     "text": [
      "shape: (3, 3)\n",
      "┌─────────┬────────────────────────────┬───────┐\n",
      "│ integer ┆ date                       ┆ float │\n",
      "│ ---     ┆ ---                        ┆ ---   │\n",
      "│ i64     ┆ str                        ┆ f64   │\n",
      "╞═════════╪════════════════════════════╪═══════╡\n",
      "│ 1       ┆ 2022-01-01T00:00:00.000000 ┆ 4.0   │\n",
      "│ 2       ┆ 2022-01-02T00:00:00.000000 ┆ 5.0   │\n",
      "│ 3       ┆ 2022-01-03T00:00:00.000000 ┆ 6.0   │\n",
      "└─────────┴────────────────────────────┴───────┘\n"
     ]
    }
   ],
   "source": [
    "df.write_csv(\"docs/data/output.csv\")\n",
    "df_csv = pl.read_csv(\"docs/data/output.csv\")\n",
    "print(df_csv)"
   ]
  },
  {
   "cell_type": "code",
   "execution_count": 16,
   "metadata": {},
   "outputs": [
    {
     "name": "stdout",
     "output_type": "stream",
     "text": [
      "shape: (3, 3)\n",
      "┌─────────┬─────────────────────┬───────┐\n",
      "│ integer ┆ date                ┆ float │\n",
      "│ ---     ┆ ---                 ┆ ---   │\n",
      "│ i64     ┆ datetime[μs]        ┆ f64   │\n",
      "╞═════════╪═════════════════════╪═══════╡\n",
      "│ 1       ┆ 2022-01-01 00:00:00 ┆ 4.0   │\n",
      "│ 2       ┆ 2022-01-02 00:00:00 ┆ 5.0   │\n",
      "│ 3       ┆ 2022-01-03 00:00:00 ┆ 6.0   │\n",
      "└─────────┴─────────────────────┴───────┘\n"
     ]
    }
   ],
   "source": [
    "df_csv = pl.read_csv(\"docs/data/output.csv\", try_parse_dates=True)\n",
    "print(df_csv)\n"
   ]
  },
  {
   "cell_type": "code",
   "execution_count": 17,
   "metadata": {},
   "outputs": [
    {
     "name": "stdout",
     "output_type": "stream",
     "text": [
      "shape: (3, 3)\n",
      "┌─────────┬─────────────────────┬───────┐\n",
      "│ integer ┆ date                ┆ float │\n",
      "│ ---     ┆ ---                 ┆ ---   │\n",
      "│ i64     ┆ datetime[μs]        ┆ f64   │\n",
      "╞═════════╪═════════════════════╪═══════╡\n",
      "│ 1       ┆ 2022-01-01 00:00:00 ┆ 4.0   │\n",
      "│ 2       ┆ 2022-01-02 00:00:00 ┆ 5.0   │\n",
      "│ 3       ┆ 2022-01-03 00:00:00 ┆ 6.0   │\n",
      "└─────────┴─────────────────────┴───────┘\n"
     ]
    }
   ],
   "source": [
    "df.write_json(\"docs/data/output.json\")\n",
    "df_json = pl.read_json(\"docs/data/output.json\")\n",
    "print(df_json)"
   ]
  },
  {
   "cell_type": "code",
   "execution_count": 18,
   "metadata": {},
   "outputs": [
    {
     "name": "stdout",
     "output_type": "stream",
     "text": [
      "shape: (3, 3)\n",
      "┌─────────┬─────────────────────┬───────┐\n",
      "│ integer ┆ date                ┆ float │\n",
      "│ ---     ┆ ---                 ┆ ---   │\n",
      "│ i64     ┆ datetime[μs]        ┆ f64   │\n",
      "╞═════════╪═════════════════════╪═══════╡\n",
      "│ 1       ┆ 2022-01-01 00:00:00 ┆ 4.0   │\n",
      "│ 2       ┆ 2022-01-02 00:00:00 ┆ 5.0   │\n",
      "│ 3       ┆ 2022-01-03 00:00:00 ┆ 6.0   │\n",
      "└─────────┴─────────────────────┴───────┘\n"
     ]
    }
   ],
   "source": [
    "df.write_parquet(\"docs/data/output.parquet\")\n",
    "df_parquet = pl.read_parquet(\"docs/data/output.parquet\")\n",
    "print(df_parquet)"
   ]
  },
  {
   "cell_type": "code",
   "execution_count": 19,
   "metadata": {},
   "outputs": [
    {
     "data": {
      "text/html": [
       "<div><style>\n",
       ".dataframe > thead > tr > th,\n",
       ".dataframe > tbody > tr > td {\n",
       "  text-align: right;\n",
       "  white-space: pre-wrap;\n",
       "}\n",
       "</style>\n",
       "<small>shape: (3, 3)</small><table border=\"1\" class=\"dataframe\"><thead><tr><th>integer</th><th>date</th><th>float</th></tr><tr><td>i64</td><td>datetime[μs]</td><td>f64</td></tr></thead><tbody><tr><td>1</td><td>2022-01-01 00:00:00</td><td>4.0</td></tr><tr><td>2</td><td>2022-01-02 00:00:00</td><td>5.0</td></tr><tr><td>3</td><td>2022-01-03 00:00:00</td><td>6.0</td></tr></tbody></table></div>"
      ],
      "text/plain": [
       "shape: (3, 3)\n",
       "┌─────────┬─────────────────────┬───────┐\n",
       "│ integer ┆ date                ┆ float │\n",
       "│ ---     ┆ ---                 ┆ ---   │\n",
       "│ i64     ┆ datetime[μs]        ┆ f64   │\n",
       "╞═════════╪═════════════════════╪═══════╡\n",
       "│ 1       ┆ 2022-01-01 00:00:00 ┆ 4.0   │\n",
       "│ 2       ┆ 2022-01-02 00:00:00 ┆ 5.0   │\n",
       "│ 3       ┆ 2022-01-03 00:00:00 ┆ 6.0   │\n",
       "└─────────┴─────────────────────┴───────┘"
      ]
     },
     "execution_count": 19,
     "metadata": {},
     "output_type": "execute_result"
    }
   ],
   "source": [
    "df.select(pl.col(\"*\"))\n"
   ]
  },
  {
   "cell_type": "code",
   "execution_count": 20,
   "metadata": {},
   "outputs": [
    {
     "data": {
      "text/html": [
       "<div><style>\n",
       ".dataframe > thead > tr > th,\n",
       ".dataframe > tbody > tr > td {\n",
       "  text-align: right;\n",
       "  white-space: pre-wrap;\n",
       "}\n",
       "</style>\n",
       "<small>shape: (2, 2)</small><table border=\"1\" class=\"dataframe\"><thead><tr><th>date</th><th>float</th></tr><tr><td>datetime[μs]</td><td>f64</td></tr></thead><tbody><tr><td>2022-01-01 00:00:00</td><td>4.0</td></tr><tr><td>2022-01-02 00:00:00</td><td>5.0</td></tr></tbody></table></div>"
      ],
      "text/plain": [
       "shape: (2, 2)\n",
       "┌─────────────────────┬───────┐\n",
       "│ date                ┆ float │\n",
       "│ ---                 ┆ ---   │\n",
       "│ datetime[μs]        ┆ f64   │\n",
       "╞═════════════════════╪═══════╡\n",
       "│ 2022-01-01 00:00:00 ┆ 4.0   │\n",
       "│ 2022-01-02 00:00:00 ┆ 5.0   │\n",
       "└─────────────────────┴───────┘"
      ]
     },
     "execution_count": 20,
     "metadata": {},
     "output_type": "execute_result"
    }
   ],
   "source": [
    "df.select(pl.col([\"date\", \"float\"])).limit(2)"
   ]
  },
  {
   "cell_type": "code",
   "execution_count": 21,
   "metadata": {},
   "outputs": [
    {
     "data": {
      "text/html": [
       "<div><style>\n",
       ".dataframe > thead > tr > th,\n",
       ".dataframe > tbody > tr > td {\n",
       "  text-align: right;\n",
       "  white-space: pre-wrap;\n",
       "}\n",
       "</style>\n",
       "<small>shape: (3, 2)</small><table border=\"1\" class=\"dataframe\"><thead><tr><th>date</th><th>float</th></tr><tr><td>datetime[μs]</td><td>f64</td></tr></thead><tbody><tr><td>2022-01-01 00:00:00</td><td>4.0</td></tr><tr><td>2022-01-02 00:00:00</td><td>5.0</td></tr><tr><td>2022-01-03 00:00:00</td><td>6.0</td></tr></tbody></table></div>"
      ],
      "text/plain": [
       "shape: (3, 2)\n",
       "┌─────────────────────┬───────┐\n",
       "│ date                ┆ float │\n",
       "│ ---                 ┆ ---   │\n",
       "│ datetime[μs]        ┆ f64   │\n",
       "╞═════════════════════╪═══════╡\n",
       "│ 2022-01-01 00:00:00 ┆ 4.0   │\n",
       "│ 2022-01-02 00:00:00 ┆ 5.0   │\n",
       "│ 2022-01-03 00:00:00 ┆ 6.0   │\n",
       "└─────────────────────┴───────┘"
      ]
     },
     "execution_count": 21,
     "metadata": {},
     "output_type": "execute_result"
    }
   ],
   "source": [
    "df.select([pl.col(\"date\"), pl.col(\"float\")]).limit(3)"
   ]
  },
  {
   "cell_type": "code",
   "execution_count": 22,
   "metadata": {},
   "outputs": [
    {
     "data": {
      "text/html": [
       "<div><style>\n",
       ".dataframe > thead > tr > th,\n",
       ".dataframe > tbody > tr > td {\n",
       "  text-align: right;\n",
       "  white-space: pre-wrap;\n",
       "}\n",
       "</style>\n",
       "<small>shape: (3, 2)</small><table border=\"1\" class=\"dataframe\"><thead><tr><th>integer</th><th>float</th></tr><tr><td>i64</td><td>f64</td></tr></thead><tbody><tr><td>1</td><td>4.0</td></tr><tr><td>2</td><td>5.0</td></tr><tr><td>3</td><td>6.0</td></tr></tbody></table></div>"
      ],
      "text/plain": [
       "shape: (3, 2)\n",
       "┌─────────┬───────┐\n",
       "│ integer ┆ float │\n",
       "│ ---     ┆ ---   │\n",
       "│ i64     ┆ f64   │\n",
       "╞═════════╪═══════╡\n",
       "│ 1       ┆ 4.0   │\n",
       "│ 2       ┆ 5.0   │\n",
       "│ 3       ┆ 6.0   │\n",
       "└─────────┴───────┘"
      ]
     },
     "execution_count": 22,
     "metadata": {},
     "output_type": "execute_result"
    }
   ],
   "source": [
    "df.select([pl.exclude(\"date\")])"
   ]
  },
  {
   "cell_type": "code",
   "execution_count": 23,
   "metadata": {},
   "outputs": [
    {
     "data": {
      "text/html": [
       "<div><style>\n",
       ".dataframe > thead > tr > th,\n",
       ".dataframe > tbody > tr > td {\n",
       "  text-align: right;\n",
       "  white-space: pre-wrap;\n",
       "}\n",
       "</style>\n",
       "<small>shape: (2, 3)</small><table border=\"1\" class=\"dataframe\"><thead><tr><th>integer</th><th>date</th><th>float</th></tr><tr><td>i64</td><td>datetime[μs]</td><td>f64</td></tr></thead><tbody><tr><td>2</td><td>2022-01-02 00:00:00</td><td>5.0</td></tr><tr><td>3</td><td>2022-01-03 00:00:00</td><td>6.0</td></tr></tbody></table></div>"
      ],
      "text/plain": [
       "shape: (2, 3)\n",
       "┌─────────┬─────────────────────┬───────┐\n",
       "│ integer ┆ date                ┆ float │\n",
       "│ ---     ┆ ---                 ┆ ---   │\n",
       "│ i64     ┆ datetime[μs]        ┆ f64   │\n",
       "╞═════════╪═════════════════════╪═══════╡\n",
       "│ 2       ┆ 2022-01-02 00:00:00 ┆ 5.0   │\n",
       "│ 3       ┆ 2022-01-03 00:00:00 ┆ 6.0   │\n",
       "└─────────┴─────────────────────┴───────┘"
      ]
     },
     "execution_count": 23,
     "metadata": {},
     "output_type": "execute_result"
    }
   ],
   "source": [
    "df.filter(\n",
    "    pl.col(\"date\").is_between(datetime(2022, 1, 2), datetime(2022, 1, 3)),\n",
    ")"
   ]
  },
  {
   "cell_type": "code",
   "execution_count": 24,
   "metadata": {},
   "outputs": [
    {
     "data": {
      "text/html": [
       "<div><style>\n",
       ".dataframe > thead > tr > th,\n",
       ".dataframe > tbody > tr > td {\n",
       "  text-align: right;\n",
       "  white-space: pre-wrap;\n",
       "}\n",
       "</style>\n",
       "<small>shape: (2, 3)</small><table border=\"1\" class=\"dataframe\"><thead><tr><th>integer</th><th>date</th><th>float</th></tr><tr><td>i64</td><td>datetime[μs]</td><td>f64</td></tr></thead><tbody><tr><td>1</td><td>2022-01-01 00:00:00</td><td>4.0</td></tr><tr><td>2</td><td>2022-01-02 00:00:00</td><td>5.0</td></tr></tbody></table></div>"
      ],
      "text/plain": [
       "shape: (2, 3)\n",
       "┌─────────┬─────────────────────┬───────┐\n",
       "│ integer ┆ date                ┆ float │\n",
       "│ ---     ┆ ---                 ┆ ---   │\n",
       "│ i64     ┆ datetime[μs]        ┆ f64   │\n",
       "╞═════════╪═════════════════════╪═══════╡\n",
       "│ 1       ┆ 2022-01-01 00:00:00 ┆ 4.0   │\n",
       "│ 2       ┆ 2022-01-02 00:00:00 ┆ 5.0   │\n",
       "└─────────┴─────────────────────┴───────┘"
      ]
     },
     "execution_count": 24,
     "metadata": {},
     "output_type": "execute_result"
    }
   ],
   "source": [
    "df.filter((pl.col(\"float\") <= 5) & (pl.col(\"float\").is_not_nan()))"
   ]
  },
  {
   "cell_type": "code",
   "execution_count": 25,
   "metadata": {},
   "outputs": [
    {
     "data": {
      "text/html": [
       "<div><style>\n",
       ".dataframe > thead > tr > th,\n",
       ".dataframe > tbody > tr > td {\n",
       "  text-align: right;\n",
       "  white-space: pre-wrap;\n",
       "}\n",
       "</style>\n",
       "<small>shape: (3, 5)</small><table border=\"1\" class=\"dataframe\"><thead><tr><th>integer</th><th>date</th><th>float</th><th>e</th><th>float+42</th></tr><tr><td>i64</td><td>datetime[μs]</td><td>f64</td><td>f64</td><td>f64</td></tr></thead><tbody><tr><td>1</td><td>2022-01-01 00:00:00</td><td>4.0</td><td>15.0</td><td>46.0</td></tr><tr><td>2</td><td>2022-01-02 00:00:00</td><td>5.0</td><td>15.0</td><td>47.0</td></tr><tr><td>3</td><td>2022-01-03 00:00:00</td><td>6.0</td><td>15.0</td><td>48.0</td></tr></tbody></table></div>"
      ],
      "text/plain": [
       "shape: (3, 5)\n",
       "┌─────────┬─────────────────────┬───────┬──────┬──────────┐\n",
       "│ integer ┆ date                ┆ float ┆ e    ┆ float+42 │\n",
       "│ ---     ┆ ---                 ┆ ---   ┆ ---  ┆ ---      │\n",
       "│ i64     ┆ datetime[μs]        ┆ f64   ┆ f64  ┆ f64      │\n",
       "╞═════════╪═════════════════════╪═══════╪══════╪══════════╡\n",
       "│ 1       ┆ 2022-01-01 00:00:00 ┆ 4.0   ┆ 15.0 ┆ 46.0     │\n",
       "│ 2       ┆ 2022-01-02 00:00:00 ┆ 5.0   ┆ 15.0 ┆ 47.0     │\n",
       "│ 3       ┆ 2022-01-03 00:00:00 ┆ 6.0   ┆ 15.0 ┆ 48.0     │\n",
       "└─────────┴─────────────────────┴───────┴──────┴──────────┘"
      ]
     },
     "execution_count": 25,
     "metadata": {},
     "output_type": "execute_result"
    }
   ],
   "source": [
    "df.with_columns([pl.col(\"float\").sum().alias(\"e\"), (pl.col(\"float\") + 42).alias(\"float+42\")])\n",
    "\n"
   ]
  },
  {
   "cell_type": "code",
   "execution_count": 26,
   "metadata": {},
   "outputs": [],
   "source": [
    "import numpy as np\n",
    "df2 = pl.DataFrame(\n",
    "    {\n",
    "        \"x\": np.arange(0, 8),\n",
    "        \"y\": [\"A\", \"A\", \"A\", \"B\", \"B\", \"C\", \"X\", \"X\"],\n",
    "    }\n",
    ")\n"
   ]
  },
  {
   "cell_type": "code",
   "execution_count": 27,
   "metadata": {},
   "outputs": [
    {
     "data": {
      "text/html": [
       "<div><style>\n",
       ".dataframe > thead > tr > th,\n",
       ".dataframe > tbody > tr > td {\n",
       "  text-align: right;\n",
       "  white-space: pre-wrap;\n",
       "}\n",
       "</style>\n",
       "<small>shape: (4, 2)</small><table border=\"1\" class=\"dataframe\"><thead><tr><th>y</th><th>count</th></tr><tr><td>str</td><td>u32</td></tr></thead><tbody><tr><td>&quot;A&quot;</td><td>3</td></tr><tr><td>&quot;B&quot;</td><td>2</td></tr><tr><td>&quot;C&quot;</td><td>1</td></tr><tr><td>&quot;X&quot;</td><td>2</td></tr></tbody></table></div>"
      ],
      "text/plain": [
       "shape: (4, 2)\n",
       "┌─────┬───────┐\n",
       "│ y   ┆ count │\n",
       "│ --- ┆ ---   │\n",
       "│ str ┆ u32   │\n",
       "╞═════╪═══════╡\n",
       "│ A   ┆ 3     │\n",
       "│ B   ┆ 2     │\n",
       "│ C   ┆ 1     │\n",
       "│ X   ┆ 2     │\n",
       "└─────┴───────┘"
      ]
     },
     "execution_count": 27,
     "metadata": {},
     "output_type": "execute_result"
    }
   ],
   "source": [
    "df2.group_by(\"y\", maintain_order=True).count()"
   ]
  },
  {
   "cell_type": "code",
   "execution_count": 28,
   "metadata": {},
   "outputs": [
    {
     "data": {
      "text/html": [
       "<div><style>\n",
       ".dataframe > thead > tr > th,\n",
       ".dataframe > tbody > tr > td {\n",
       "  text-align: right;\n",
       "  white-space: pre-wrap;\n",
       "}\n",
       "</style>\n",
       "<small>shape: (4, 5)</small><table border=\"1\" class=\"dataframe\"><thead><tr><th>y</th><th>count</th><th>sum</th><th>mean</th><th>median</th></tr><tr><td>str</td><td>u32</td><td>i64</td><td>f64</td><td>f64</td></tr></thead><tbody><tr><td>&quot;A&quot;</td><td>3</td><td>3</td><td>1.0</td><td>1.0</td></tr><tr><td>&quot;B&quot;</td><td>2</td><td>7</td><td>3.5</td><td>3.5</td></tr><tr><td>&quot;C&quot;</td><td>1</td><td>5</td><td>5.0</td><td>5.0</td></tr><tr><td>&quot;X&quot;</td><td>2</td><td>13</td><td>6.5</td><td>6.5</td></tr></tbody></table></div>"
      ],
      "text/plain": [
       "shape: (4, 5)\n",
       "┌─────┬───────┬─────┬──────┬────────┐\n",
       "│ y   ┆ count ┆ sum ┆ mean ┆ median │\n",
       "│ --- ┆ ---   ┆ --- ┆ ---  ┆ ---    │\n",
       "│ str ┆ u32   ┆ i64 ┆ f64  ┆ f64    │\n",
       "╞═════╪═══════╪═════╪══════╪════════╡\n",
       "│ A   ┆ 3     ┆ 3   ┆ 1.0  ┆ 1.0    │\n",
       "│ B   ┆ 2     ┆ 7   ┆ 3.5  ┆ 3.5    │\n",
       "│ C   ┆ 1     ┆ 5   ┆ 5.0  ┆ 5.0    │\n",
       "│ X   ┆ 2     ┆ 13  ┆ 6.5  ┆ 6.5    │\n",
       "└─────┴───────┴─────┴──────┴────────┘"
      ]
     },
     "execution_count": 28,
     "metadata": {},
     "output_type": "execute_result"
    }
   ],
   "source": [
    "df3 = df2.group_by(\"y\", maintain_order=True).agg(\n",
    "    [\n",
    "        pl.col(\"*\").count().alias(\"count\"),\n",
    "        pl.col(\"*\").sum().alias(\"sum\"),\n",
    "        pl.col(\"*\").mean().alias(\"mean\"),\n",
    "        pl.col(\"*\").median().alias(\"median\")\n",
    "    ]\n",
    ")\n",
    "df3"
   ]
  },
  {
   "cell_type": "code",
   "execution_count": 29,
   "metadata": {},
   "outputs": [
    {
     "name": "stdout",
     "output_type": "stream",
     "text": [
      "shape: (4, 4)\n",
      "┌─────┬───────┬─────┬─────────────┐\n",
      "│ y   ┆ count ┆ sum ┆ count * sum │\n",
      "│ --- ┆ ---   ┆ --- ┆ ---         │\n",
      "│ str ┆ u32   ┆ i64 ┆ i64         │\n",
      "╞═════╪═══════╪═════╪═════════════╡\n",
      "│ A   ┆ 3     ┆ 3   ┆ 9           │\n",
      "│ B   ┆ 2     ┆ 7   ┆ 14          │\n",
      "│ C   ┆ 1     ┆ 5   ┆ 5           │\n",
      "│ X   ┆ 2     ┆ 13  ┆ 26          │\n",
      "└─────┴───────┴─────┴─────────────┘\n"
     ]
    }
   ],
   "source": [
    "df3_x = df3.with_columns((pl.col(\"count\") * pl.col(\"sum\")).alias(\"count * sum\")).select(\n",
    "    [pl.all().exclude([\"mean\", \"median\"])]\n",
    ")\n",
    "\n",
    "print(df3_x)"
   ]
  },
  {
   "cell_type": "code",
   "execution_count": 30,
   "metadata": {},
   "outputs": [
    {
     "name": "stdout",
     "output_type": "stream",
     "text": [
      "shape: (4, 4)\n",
      "┌─────┬───────┬─────┬─────────────┐\n",
      "│ y   ┆ count ┆ sum ┆ count * sum │\n",
      "│ --- ┆ ---   ┆ --- ┆ ---         │\n",
      "│ str ┆ u32   ┆ i64 ┆ i64         │\n",
      "╞═════╪═══════╪═════╪═════════════╡\n",
      "│ A   ┆ 3     ┆ 3   ┆ 9           │\n",
      "│ B   ┆ 2     ┆ 7   ┆ 14          │\n",
      "│ C   ┆ 1     ┆ 5   ┆ 5           │\n",
      "│ X   ┆ 2     ┆ 13  ┆ 26          │\n",
      "└─────┴───────┴─────┴─────────────┘\n"
     ]
    }
   ],
   "source": [
    "df3_y = df3.with_columns([(pl.col(\"count\") * pl.col(\"sum\")).alias(\"count * sum\")]).select(\n",
    "    [pl.all().exclude([\"mean\", \"median\"])]\n",
    ")\n",
    "\n",
    "print(df3_y)"
   ]
  },
  {
   "cell_type": "markdown",
   "metadata": {},
   "source": [
    "# join"
   ]
  },
  {
   "cell_type": "code",
   "execution_count": 31,
   "metadata": {},
   "outputs": [
    {
     "name": "stdout",
     "output_type": "stream",
     "text": [
      "shape: (8, 4)\n",
      "┌─────┬──────────┬───────┬─────┐\n",
      "│ a   ┆ b        ┆ d     ┆ y   │\n",
      "│ --- ┆ ---      ┆ ---   ┆ --- │\n",
      "│ i64 ┆ f64      ┆ f64   ┆ str │\n",
      "╞═════╪══════════╪═══════╪═════╡\n",
      "│ 0   ┆ 0.324516 ┆ 1.0   ┆ A   │\n",
      "│ 1   ┆ 0.98358  ┆ 2.0   ┆ A   │\n",
      "│ 2   ┆ 0.466033 ┆ NaN   ┆ A   │\n",
      "│ 3   ┆ 0.304767 ┆ NaN   ┆ B   │\n",
      "│ 4   ┆ 0.819217 ┆ 0.0   ┆ B   │\n",
      "│ 5   ┆ 0.861637 ┆ -5.0  ┆ C   │\n",
      "│ 6   ┆ 0.746745 ┆ -42.0 ┆ X   │\n",
      "│ 7   ┆ 0.665884 ┆ null  ┆ X   │\n",
      "└─────┴──────────┴───────┴─────┘\n"
     ]
    }
   ],
   "source": [
    "df = pl.DataFrame(\n",
    "    {\n",
    "        \"a\": np.arange(0, 8),\n",
    "        \"b\": np.random.rand(8),\n",
    "        \"d\": [1, 2.0, np.NaN, np.NaN, 0, -5, -42, None],\n",
    "    }\n",
    ")\n",
    "\n",
    "df2 = pl.DataFrame(\n",
    "    {\n",
    "        \"x\": np.arange(0, 8),\n",
    "        \"y\": [\"A\", \"A\", \"A\", \"B\", \"B\", \"C\", \"X\", \"X\"],\n",
    "    }\n",
    ")\n",
    "joined = df.join(df2, left_on=\"a\", right_on=\"x\")\n",
    "print(joined)"
   ]
  },
  {
   "cell_type": "markdown",
   "metadata": {},
   "source": [
    "# Concat"
   ]
  },
  {
   "cell_type": "code",
   "execution_count": 32,
   "metadata": {},
   "outputs": [
    {
     "name": "stdout",
     "output_type": "stream",
     "text": [
      "shape: (8, 5)\n",
      "┌─────┬──────────┬───────┬─────┬─────┐\n",
      "│ a   ┆ b        ┆ d     ┆ x   ┆ y   │\n",
      "│ --- ┆ ---      ┆ ---   ┆ --- ┆ --- │\n",
      "│ i64 ┆ f64      ┆ f64   ┆ i64 ┆ str │\n",
      "╞═════╪══════════╪═══════╪═════╪═════╡\n",
      "│ 0   ┆ 0.324516 ┆ 1.0   ┆ 0   ┆ A   │\n",
      "│ 1   ┆ 0.98358  ┆ 2.0   ┆ 1   ┆ A   │\n",
      "│ 2   ┆ 0.466033 ┆ NaN   ┆ 2   ┆ A   │\n",
      "│ 3   ┆ 0.304767 ┆ NaN   ┆ 3   ┆ B   │\n",
      "│ 4   ┆ 0.819217 ┆ 0.0   ┆ 4   ┆ B   │\n",
      "│ 5   ┆ 0.861637 ┆ -5.0  ┆ 5   ┆ C   │\n",
      "│ 6   ┆ 0.746745 ┆ -42.0 ┆ 6   ┆ X   │\n",
      "│ 7   ┆ 0.665884 ┆ null  ┆ 7   ┆ X   │\n",
      "└─────┴──────────┴───────┴─────┴─────┘\n"
     ]
    }
   ],
   "source": [
    "stacked = df.hstack(df2)\n",
    "print(stacked)"
   ]
  },
  {
   "cell_type": "markdown",
   "metadata": {},
   "source": [
    "# Data Structures"
   ]
  },
  {
   "cell_type": "code",
   "execution_count": 35,
   "metadata": {},
   "outputs": [
    {
     "name": "stdout",
     "output_type": "stream",
     "text": [
      "shape: (5,)\n",
      "Series: 'a' [i64]\n",
      "[\n",
      "\t1\n",
      "\t2\n",
      "\t3\n",
      "\t4\n",
      "\t5\n",
      "]\n"
     ]
    }
   ],
   "source": [
    "import polars as pl\n",
    "\n",
    "s = pl.Series(\"a\", [1, 2, 3, 4, 5])\n",
    "print(s)"
   ]
  },
  {
   "cell_type": "markdown",
   "metadata": {},
   "source": [
    "## Date Frame"
   ]
  },
  {
   "cell_type": "code",
   "execution_count": 36,
   "metadata": {},
   "outputs": [
    {
     "name": "stdout",
     "output_type": "stream",
     "text": [
      "shape: (5, 3)\n",
      "┌─────────┬─────────────────────┬───────┐\n",
      "│ integer ┆ date                ┆ float │\n",
      "│ ---     ┆ ---                 ┆ ---   │\n",
      "│ i64     ┆ datetime[μs]        ┆ f64   │\n",
      "╞═════════╪═════════════════════╪═══════╡\n",
      "│ 1       ┆ 2022-01-01 00:00:00 ┆ 4.0   │\n",
      "│ 2       ┆ 2022-01-02 00:00:00 ┆ 5.0   │\n",
      "│ 3       ┆ 2022-01-03 00:00:00 ┆ 6.0   │\n",
      "│ 4       ┆ 2022-01-04 00:00:00 ┆ 7.0   │\n",
      "│ 5       ┆ 2022-01-05 00:00:00 ┆ 8.0   │\n",
      "└─────────┴─────────────────────┴───────┘\n"
     ]
    }
   ],
   "source": [
    "from datetime import datetime\n",
    "\n",
    "df = pl.DataFrame(\n",
    "    {\n",
    "        \"integer\": [1, 2, 3, 4, 5],\n",
    "        \"date\": [\n",
    "            datetime(2022, 1, 1),\n",
    "            datetime(2022, 1, 2),\n",
    "            datetime(2022, 1, 3),\n",
    "            datetime(2022, 1, 4),\n",
    "            datetime(2022, 1, 5),\n",
    "        ],\n",
    "        \"float\": [4.0, 5.0, 6.0, 7.0, 8.0],\n",
    "    }\n",
    ")\n",
    "\n",
    "print(df)"
   ]
  },
  {
   "cell_type": "code",
   "execution_count": 37,
   "metadata": {},
   "outputs": [
    {
     "name": "stdout",
     "output_type": "stream",
     "text": [
      "shape: (3, 3)\n",
      "┌─────────┬─────────────────────┬───────┐\n",
      "│ integer ┆ date                ┆ float │\n",
      "│ ---     ┆ ---                 ┆ ---   │\n",
      "│ i64     ┆ datetime[μs]        ┆ f64   │\n",
      "╞═════════╪═════════════════════╪═══════╡\n",
      "│ 1       ┆ 2022-01-01 00:00:00 ┆ 4.0   │\n",
      "│ 2       ┆ 2022-01-02 00:00:00 ┆ 5.0   │\n",
      "│ 3       ┆ 2022-01-03 00:00:00 ┆ 6.0   │\n",
      "└─────────┴─────────────────────┴───────┘\n"
     ]
    }
   ],
   "source": [
    "print(df.head(3))\n"
   ]
  },
  {
   "cell_type": "code",
   "execution_count": 38,
   "metadata": {},
   "outputs": [
    {
     "name": "stdout",
     "output_type": "stream",
     "text": [
      "shape: (3, 3)\n",
      "┌─────────┬─────────────────────┬───────┐\n",
      "│ integer ┆ date                ┆ float │\n",
      "│ ---     ┆ ---                 ┆ ---   │\n",
      "│ i64     ┆ datetime[μs]        ┆ f64   │\n",
      "╞═════════╪═════════════════════╪═══════╡\n",
      "│ 3       ┆ 2022-01-03 00:00:00 ┆ 6.0   │\n",
      "│ 4       ┆ 2022-01-04 00:00:00 ┆ 7.0   │\n",
      "│ 5       ┆ 2022-01-05 00:00:00 ┆ 8.0   │\n",
      "└─────────┴─────────────────────┴───────┘\n"
     ]
    }
   ],
   "source": [
    "print(df.tail(3))\n"
   ]
  },
  {
   "cell_type": "code",
   "execution_count": 39,
   "metadata": {},
   "outputs": [
    {
     "name": "stdout",
     "output_type": "stream",
     "text": [
      "shape: (2, 3)\n",
      "┌─────────┬─────────────────────┬───────┐\n",
      "│ integer ┆ date                ┆ float │\n",
      "│ ---     ┆ ---                 ┆ ---   │\n",
      "│ i64     ┆ datetime[μs]        ┆ f64   │\n",
      "╞═════════╪═════════════════════╪═══════╡\n",
      "│ 3       ┆ 2022-01-03 00:00:00 ┆ 6.0   │\n",
      "│ 5       ┆ 2022-01-05 00:00:00 ┆ 8.0   │\n",
      "└─────────┴─────────────────────┴───────┘\n"
     ]
    }
   ],
   "source": [
    "print(df.sample(2)) # n number of random rows\n"
   ]
  },
  {
   "cell_type": "code",
   "execution_count": 40,
   "metadata": {},
   "outputs": [
    {
     "name": "stdout",
     "output_type": "stream",
     "text": [
      "shape: (9, 4)\n",
      "┌────────────┬──────────┬─────────────────────┬──────────┐\n",
      "│ describe   ┆ integer  ┆ date                ┆ float    │\n",
      "│ ---        ┆ ---      ┆ ---                 ┆ ---      │\n",
      "│ str        ┆ f64      ┆ str                 ┆ f64      │\n",
      "╞════════════╪══════════╪═════════════════════╪══════════╡\n",
      "│ count      ┆ 5.0      ┆ 5                   ┆ 5.0      │\n",
      "│ null_count ┆ 0.0      ┆ 0                   ┆ 0.0      │\n",
      "│ mean       ┆ 3.0      ┆ null                ┆ 6.0      │\n",
      "│ std        ┆ 1.581139 ┆ null                ┆ 1.581139 │\n",
      "│ min        ┆ 1.0      ┆ 2022-01-01 00:00:00 ┆ 4.0      │\n",
      "│ 25%        ┆ 2.0      ┆ null                ┆ 5.0      │\n",
      "│ 50%        ┆ 3.0      ┆ null                ┆ 6.0      │\n",
      "│ 75%        ┆ 4.0      ┆ null                ┆ 7.0      │\n",
      "│ max        ┆ 5.0      ┆ 2022-01-05 00:00:00 ┆ 8.0      │\n",
      "└────────────┴──────────┴─────────────────────┴──────────┘\n"
     ]
    }
   ],
   "source": [
    "print(df.describe())"
   ]
  },
  {
   "cell_type": "markdown",
   "metadata": {},
   "source": [
    "# Context"
   ]
  },
  {
   "cell_type": "code",
   "execution_count": 41,
   "metadata": {},
   "outputs": [
    {
     "name": "stdout",
     "output_type": "stream",
     "text": [
      "shape: (5, 4)\n",
      "┌──────┬───────┬──────────┬────────┐\n",
      "│ nrs  ┆ names ┆ random   ┆ groups │\n",
      "│ ---  ┆ ---   ┆ ---      ┆ ---    │\n",
      "│ i64  ┆ str   ┆ f64      ┆ str    │\n",
      "╞══════╪═══════╪══════════╪════════╡\n",
      "│ 1    ┆ foo   ┆ 0.485919 ┆ A      │\n",
      "│ 2    ┆ ham   ┆ 0.661088 ┆ A      │\n",
      "│ 3    ┆ spam  ┆ 0.43377  ┆ B      │\n",
      "│ null ┆ egg   ┆ 0.179805 ┆ C      │\n",
      "│ 5    ┆ null  ┆ 0.327631 ┆ B      │\n",
      "└──────┴───────┴──────────┴────────┘\n"
     ]
    }
   ],
   "source": [
    "df = pl.DataFrame(\n",
    "    {\n",
    "        \"nrs\": [1, 2, 3, None, 5],\n",
    "        \"names\": [\"foo\", \"ham\", \"spam\", \"egg\", None],\n",
    "        \"random\": np.random.rand(5),\n",
    "        \"groups\": [\"A\", \"A\", \"B\", \"C\", \"B\"],\n",
    "    }\n",
    ")\n",
    "print(df)"
   ]
  },
  {
   "cell_type": "code",
   "execution_count": 42,
   "metadata": {},
   "outputs": [
    {
     "data": {
      "text/plain": [
       "dict"
      ]
     },
     "execution_count": 42,
     "metadata": {},
     "output_type": "execute_result"
    }
   ],
   "source": [
    "type({\n",
    "        \"nrs\": [1, 2, 3, None, 5],\n",
    "        \"names\": [\"foo\", \"ham\", \"spam\", \"egg\", None],\n",
    "        \"random\": np.random.rand(5),\n",
    "        \"groups\": [\"A\", \"A\", \"B\", \"C\", \"B\"],\n",
    "    })"
   ]
  },
  {
   "cell_type": "markdown",
   "metadata": {},
   "source": [
    "## Select"
   ]
  },
  {
   "cell_type": "code",
   "execution_count": 43,
   "metadata": {},
   "outputs": [
    {
     "name": "stdout",
     "output_type": "stream",
     "text": [
      "shape: (5, 4)\n",
      "┌─────┬───────┬────────────┬────────┐\n",
      "│ nrs ┆ names ┆ first name ┆ 10xnrs │\n",
      "│ --- ┆ ---   ┆ ---        ┆ ---    │\n",
      "│ i64 ┆ str   ┆ str        ┆ f64    │\n",
      "╞═════╪═══════╪════════════╪════════╡\n",
      "│ 11  ┆ null  ┆ foo        ┆ 27.5   │\n",
      "│ 11  ┆ egg   ┆ foo        ┆ 27.5   │\n",
      "│ 11  ┆ foo   ┆ foo        ┆ 27.5   │\n",
      "│ 11  ┆ ham   ┆ foo        ┆ 27.5   │\n",
      "│ 11  ┆ spam  ┆ foo        ┆ 27.5   │\n",
      "└─────┴───────┴────────────┴────────┘\n"
     ]
    }
   ],
   "source": [
    "out = df.select(\n",
    "    pl.sum(\"nrs\"),\n",
    "    pl.col(\"names\").sort(),\n",
    "    pl.col(\"names\").first().alias(\"first name\"),\n",
    "    (pl.mean(\"nrs\") * 10).alias(\"10xnrs\"),\n",
    ")\n",
    "print(out)"
   ]
  },
  {
   "cell_type": "code",
   "execution_count": 44,
   "metadata": {},
   "outputs": [
    {
     "name": "stdout",
     "output_type": "stream",
     "text": [
      "shape: (5, 6)\n",
      "┌──────┬───────┬──────────┬────────┬─────────┬───────┐\n",
      "│ nrs  ┆ names ┆ random   ┆ groups ┆ nrs_sum ┆ count │\n",
      "│ ---  ┆ ---   ┆ ---      ┆ ---    ┆ ---     ┆ ---   │\n",
      "│ i64  ┆ str   ┆ f64      ┆ str    ┆ i64     ┆ u32   │\n",
      "╞══════╪═══════╪══════════╪════════╪═════════╪═══════╡\n",
      "│ 1    ┆ foo   ┆ 0.485919 ┆ A      ┆ 11      ┆ 5     │\n",
      "│ 2    ┆ ham   ┆ 0.661088 ┆ A      ┆ 11      ┆ 5     │\n",
      "│ 3    ┆ spam  ┆ 0.43377  ┆ B      ┆ 11      ┆ 5     │\n",
      "│ null ┆ egg   ┆ 0.179805 ┆ C      ┆ 11      ┆ 5     │\n",
      "│ 5    ┆ null  ┆ 0.327631 ┆ B      ┆ 11      ┆ 5     │\n",
      "└──────┴───────┴──────────┴────────┴─────────┴───────┘\n"
     ]
    }
   ],
   "source": [
    "df = df.with_columns(\n",
    "    pl.sum(\"nrs\").alias(\"nrs_sum\"),\n",
    "    pl.col(\"random\").count().alias(\"count\"),\n",
    ")\n",
    "print(df)"
   ]
  },
  {
   "cell_type": "markdown",
   "metadata": {},
   "source": [
    "## Filter"
   ]
  },
  {
   "cell_type": "code",
   "execution_count": 45,
   "metadata": {},
   "outputs": [
    {
     "name": "stdout",
     "output_type": "stream",
     "text": [
      "shape: (2, 6)\n",
      "┌─────┬───────┬──────────┬────────┬─────────┬───────┐\n",
      "│ nrs ┆ names ┆ random   ┆ groups ┆ nrs_sum ┆ count │\n",
      "│ --- ┆ ---   ┆ ---      ┆ ---    ┆ ---     ┆ ---   │\n",
      "│ i64 ┆ str   ┆ f64      ┆ str    ┆ i64     ┆ u32   │\n",
      "╞═════╪═══════╪══════════╪════════╪═════════╪═══════╡\n",
      "│ 3   ┆ spam  ┆ 0.43377  ┆ B      ┆ 11      ┆ 5     │\n",
      "│ 5   ┆ null  ┆ 0.327631 ┆ B      ┆ 11      ┆ 5     │\n",
      "└─────┴───────┴──────────┴────────┴─────────┴───────┘\n"
     ]
    }
   ],
   "source": [
    "out = df.filter(pl.col(\"nrs\") > 2)\n",
    "print(out)"
   ]
  },
  {
   "cell_type": "markdown",
   "metadata": {},
   "source": [
    "## Group by / aggregation"
   ]
  },
  {
   "cell_type": "code",
   "execution_count": 46,
   "metadata": {},
   "outputs": [
    {
     "name": "stdout",
     "output_type": "stream",
     "text": [
      "shape: (3, 5)\n",
      "┌────────┬─────┬───────┬────────────┬────────────────┐\n",
      "│ groups ┆ nrs ┆ count ┆ random_sum ┆ reversed names │\n",
      "│ ---    ┆ --- ┆ ---   ┆ ---        ┆ ---            │\n",
      "│ str    ┆ i64 ┆ u32   ┆ f64        ┆ list[str]      │\n",
      "╞════════╪═════╪═══════╪════════════╪════════════════╡\n",
      "│ A      ┆ 3   ┆ 2     ┆ 1.147007   ┆ [\"ham\", \"foo\"] │\n",
      "│ B      ┆ 8   ┆ 2     ┆ 0.43377    ┆ [null, \"spam\"] │\n",
      "│ C      ┆ 0   ┆ 1     ┆ 0.179805   ┆ [\"egg\"]        │\n",
      "└────────┴─────┴───────┴────────────┴────────────────┘\n"
     ]
    }
   ],
   "source": [
    "out = df.group_by(\"groups\").agg(\n",
    "    pl.sum(\"nrs\"),  # sum nrs by groups\n",
    "    pl.col(\"random\").count().alias(\"count\"),  # count group members\n",
    "    # sum random where name != null\n",
    "    pl.col(\"random\").filter(pl.col(\"names\").is_not_null()).sum().suffix(\"_sum\"),\n",
    "    pl.col(\"names\").reverse().alias(\"reversed names\"),\n",
    ")\n",
    "print(out)"
   ]
  },
  {
   "cell_type": "markdown",
   "metadata": {},
   "source": [
    "# Expressions"
   ]
  },
  {
   "cell_type": "code",
   "execution_count": 47,
   "metadata": {},
   "outputs": [
    {
     "data": {
      "text/html": [
       "col(\"foo\").sort(asc).slice(offset=0, length=2)"
      ],
      "text/plain": [
       "<polars.expr.expr.Expr at 0x7fcabb53b670>"
      ]
     },
     "execution_count": 47,
     "metadata": {},
     "output_type": "execute_result"
    }
   ],
   "source": [
    "pl.col(\"foo\").sort().head(2)"
   ]
  },
  {
   "cell_type": "code",
   "execution_count": 49,
   "metadata": {},
   "outputs": [
    {
     "data": {
      "text/html": [
       "<div><style>\n",
       ".dataframe > thead > tr > th,\n",
       ".dataframe > tbody > tr > td {\n",
       "  text-align: right;\n",
       "  white-space: pre-wrap;\n",
       "}\n",
       "</style>\n",
       "<small>shape: (5, 6)</small><table border=\"1\" class=\"dataframe\"><thead><tr><th>nrs</th><th>names</th><th>random</th><th>groups</th><th>nrs_sum</th><th>count</th></tr><tr><td>i64</td><td>str</td><td>f64</td><td>str</td><td>i64</td><td>u32</td></tr></thead><tbody><tr><td>1</td><td>&quot;foo&quot;</td><td>0.485919</td><td>&quot;A&quot;</td><td>11</td><td>5</td></tr><tr><td>2</td><td>&quot;ham&quot;</td><td>0.661088</td><td>&quot;A&quot;</td><td>11</td><td>5</td></tr><tr><td>3</td><td>&quot;spam&quot;</td><td>0.43377</td><td>&quot;B&quot;</td><td>11</td><td>5</td></tr><tr><td>null</td><td>&quot;egg&quot;</td><td>0.179805</td><td>&quot;C&quot;</td><td>11</td><td>5</td></tr><tr><td>5</td><td>null</td><td>0.327631</td><td>&quot;B&quot;</td><td>11</td><td>5</td></tr></tbody></table></div>"
      ],
      "text/plain": [
       "shape: (5, 6)\n",
       "┌──────┬───────┬──────────┬────────┬─────────┬───────┐\n",
       "│ nrs  ┆ names ┆ random   ┆ groups ┆ nrs_sum ┆ count │\n",
       "│ ---  ┆ ---   ┆ ---      ┆ ---    ┆ ---     ┆ ---   │\n",
       "│ i64  ┆ str   ┆ f64      ┆ str    ┆ i64     ┆ u32   │\n",
       "╞══════╪═══════╪══════════╪════════╪═════════╪═══════╡\n",
       "│ 1    ┆ foo   ┆ 0.485919 ┆ A      ┆ 11      ┆ 5     │\n",
       "│ 2    ┆ ham   ┆ 0.661088 ┆ A      ┆ 11      ┆ 5     │\n",
       "│ 3    ┆ spam  ┆ 0.43377  ┆ B      ┆ 11      ┆ 5     │\n",
       "│ null ┆ egg   ┆ 0.179805 ┆ C      ┆ 11      ┆ 5     │\n",
       "│ 5    ┆ null  ┆ 0.327631 ┆ B      ┆ 11      ┆ 5     │\n",
       "└──────┴───────┴──────────┴────────┴─────────┴───────┘"
      ]
     },
     "execution_count": 49,
     "metadata": {},
     "output_type": "execute_result"
    }
   ],
   "source": [
    "df"
   ]
  },
  {
   "cell_type": "code",
   "execution_count": null,
   "metadata": {},
   "outputs": [],
   "source": [
    "{\n",
    "        \"nrs\": [1, 2, 3, None, 5],\n",
    "        \"names\": [\"foo\", \"ham\", \"spam\", \"egg\", None],\n",
    "        \"random\": np.random.rand(5),\n",
    "        \"groups\": [\"A\", \"A\", \"B\", \"C\", \"B\"],\n",
    "    }"
   ]
  },
  {
   "cell_type": "code",
   "execution_count": 62,
   "metadata": {},
   "outputs": [
    {
     "data": {
      "text/html": [
       "<div><style>\n",
       ".dataframe > thead > tr > th,\n",
       ".dataframe > tbody > tr > td {\n",
       "  text-align: right;\n",
       "  white-space: pre-wrap;\n",
       "}\n",
       "</style>\n",
       "<small>shape: (5, 7)</small><table border=\"1\" class=\"dataframe\"><thead><tr><th>nrs</th><th>names</th><th>random</th><th>groups</th><th>nrs_sum</th><th>count</th><th>nr</th></tr><tr><td>i64</td><td>str</td><td>f64</td><td>str</td><td>i64</td><td>u32</td><td>i64</td></tr></thead><tbody><tr><td>1</td><td>&quot;foo&quot;</td><td>0.485919</td><td>&quot;A&quot;</td><td>11</td><td>5</td><td>1</td></tr><tr><td>2</td><td>&quot;ham&quot;</td><td>0.661088</td><td>&quot;A&quot;</td><td>11</td><td>5</td><td>2</td></tr><tr><td>3</td><td>&quot;spam&quot;</td><td>0.43377</td><td>&quot;B&quot;</td><td>11</td><td>5</td><td>3</td></tr><tr><td>null</td><td>&quot;egg&quot;</td><td>0.179805</td><td>&quot;C&quot;</td><td>11</td><td>5</td><td>4</td></tr><tr><td>5</td><td>null</td><td>0.327631</td><td>&quot;B&quot;</td><td>11</td><td>5</td><td>5</td></tr></tbody></table></div>"
      ],
      "text/plain": [
       "shape: (5, 7)\n",
       "┌──────┬───────┬──────────┬────────┬─────────┬───────┬─────┐\n",
       "│ nrs  ┆ names ┆ random   ┆ groups ┆ nrs_sum ┆ count ┆ nr  │\n",
       "│ ---  ┆ ---   ┆ ---      ┆ ---    ┆ ---     ┆ ---   ┆ --- │\n",
       "│ i64  ┆ str   ┆ f64      ┆ str    ┆ i64     ┆ u32   ┆ i64 │\n",
       "╞══════╪═══════╪══════════╪════════╪═════════╪═══════╪═════╡\n",
       "│ 1    ┆ foo   ┆ 0.485919 ┆ A      ┆ 11      ┆ 5     ┆ 1   │\n",
       "│ 2    ┆ ham   ┆ 0.661088 ┆ A      ┆ 11      ┆ 5     ┆ 2   │\n",
       "│ 3    ┆ spam  ┆ 0.43377  ┆ B      ┆ 11      ┆ 5     ┆ 3   │\n",
       "│ null ┆ egg   ┆ 0.179805 ┆ C      ┆ 11      ┆ 5     ┆ 4   │\n",
       "│ 5    ┆ null  ┆ 0.327631 ┆ B      ┆ 11      ┆ 5     ┆ 5   │\n",
       "└──────┴───────┴──────────┴────────┴─────────┴───────┴─────┘"
      ]
     },
     "execution_count": 62,
     "metadata": {},
     "output_type": "execute_result"
    }
   ],
   "source": [
    "df.with_columns(pl.DataFrame({\"nr\": [1, 2, 3, 4, 5]}))"
   ]
  },
  {
   "cell_type": "code",
   "execution_count": 65,
   "metadata": {},
   "outputs": [
    {
     "data": {
      "text/html": [
       "<div><style>\n",
       ".dataframe > thead > tr > th,\n",
       ".dataframe > tbody > tr > td {\n",
       "  text-align: right;\n",
       "  white-space: pre-wrap;\n",
       "}\n",
       "</style>\n",
       "<small>shape: (4, 3)</small><table border=\"1\" class=\"dataframe\"><thead><tr><th>names</th><th>nrs_sum</th><th>nr</th></tr><tr><td>str</td><td>i64</td><td>i64</td></tr></thead><tbody><tr><td>null</td><td>55</td><td>1</td></tr><tr><td>&quot;egg&quot;</td><td>55</td><td>2</td></tr><tr><td>&quot;foo&quot;</td><td>55</td><td>3</td></tr><tr><td>&quot;ham&quot;</td><td>55</td><td>4</td></tr></tbody></table></div>"
      ],
      "text/plain": [
       "shape: (4, 3)\n",
       "┌───────┬─────────┬─────┐\n",
       "│ names ┆ nrs_sum ┆ nr  │\n",
       "│ ---   ┆ ---     ┆ --- │\n",
       "│ str   ┆ i64     ┆ i64 │\n",
       "╞═══════╪═════════╪═════╡\n",
       "│ null  ┆ 55      ┆ 1   │\n",
       "│ egg   ┆ 55      ┆ 2   │\n",
       "│ foo   ┆ 55      ┆ 3   │\n",
       "│ ham   ┆ 55      ┆ 4   │\n",
       "└───────┴─────────┴─────┘"
      ]
     },
     "execution_count": 65,
     "metadata": {},
     "output_type": "execute_result"
    }
   ],
   "source": [
    "df.select(pl.col(\"names\").sort().head(4),\n",
    "          pl.col(\"nrs_sum\").filter(pl.col(\"nrs_sum\") == 11).sum(),\n",
    "          ).with_columns(pl.DataFrame({\"nr\": [1, 2, 3, 4]}))"
   ]
  }
 ],
 "metadata": {
  "kernelspec": {
   "display_name": "base",
   "language": "python",
   "name": "python3"
  },
  "language_info": {
   "codemirror_mode": {
    "name": "ipython",
    "version": 3
   },
   "file_extension": ".py",
   "mimetype": "text/x-python",
   "name": "python",
   "nbconvert_exporter": "python",
   "pygments_lexer": "ipython3",
   "version": "3.10.9"
  },
  "orig_nbformat": 4
 },
 "nbformat": 4,
 "nbformat_minor": 2
}
